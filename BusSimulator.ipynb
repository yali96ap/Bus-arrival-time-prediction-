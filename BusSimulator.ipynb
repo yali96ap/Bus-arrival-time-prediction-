{
 "cells": [
  {
   "cell_type": "code",
   "execution_count": 1,
   "metadata": {
    "id": "Ov6trQRDvcKh"
   },
   "outputs": [
    {
     "name": "stdout",
     "output_type": "stream",
     "text": [
      "Requirement already satisfied: WazeRouteCalculator in /Users/a/opt/anaconda3/lib/python3.8/site-packages (0.12)\n",
      "Requirement already satisfied: requests in /Users/a/opt/anaconda3/lib/python3.8/site-packages (from WazeRouteCalculator) (2.24.0)\n",
      "Requirement already satisfied: urllib3!=1.25.0,!=1.25.1,<1.26,>=1.21.1 in /Users/a/opt/anaconda3/lib/python3.8/site-packages (from requests->WazeRouteCalculator) (1.25.11)\n",
      "Requirement already satisfied: idna<3,>=2.5 in /Users/a/opt/anaconda3/lib/python3.8/site-packages (from requests->WazeRouteCalculator) (2.10)\n",
      "Requirement already satisfied: chardet<4,>=3.0.2 in /Users/a/opt/anaconda3/lib/python3.8/site-packages (from requests->WazeRouteCalculator) (3.0.4)\n",
      "Requirement already satisfied: certifi>=2017.4.17 in /Users/a/opt/anaconda3/lib/python3.8/site-packages (from requests->WazeRouteCalculator) (2020.6.20)\n",
      "Note: you may need to restart the kernel to use updated packages.\n"
     ]
    }
   ],
   "source": [
    "pip install WazeRouteCalculator\n"
   ]
  },
  {
   "cell_type": "code",
   "execution_count": 2,
   "metadata": {},
   "outputs": [
    {
     "name": "stdout",
     "output_type": "stream",
     "text": [
      "Requirement already satisfied: requests[security] in /Users/a/opt/anaconda3/lib/python3.8/site-packages (2.24.0)\n",
      "Requirement already satisfied: idna<3,>=2.5 in /Users/a/opt/anaconda3/lib/python3.8/site-packages (from requests[security]) (2.10)\n",
      "Requirement already satisfied: certifi>=2017.4.17 in /Users/a/opt/anaconda3/lib/python3.8/site-packages (from requests[security]) (2020.6.20)\n",
      "Requirement already satisfied: urllib3!=1.25.0,!=1.25.1,<1.26,>=1.21.1 in /Users/a/opt/anaconda3/lib/python3.8/site-packages (from requests[security]) (1.25.11)\n",
      "Requirement already satisfied: chardet<4,>=3.0.2 in /Users/a/opt/anaconda3/lib/python3.8/site-packages (from requests[security]) (3.0.4)\n",
      "Requirement already satisfied: cryptography>=1.3.4; extra == \"security\" in /Users/a/opt/anaconda3/lib/python3.8/site-packages (from requests[security]) (3.1.1)\n",
      "Requirement already satisfied: pyOpenSSL>=0.14; extra == \"security\" in /Users/a/opt/anaconda3/lib/python3.8/site-packages (from requests[security]) (19.1.0)\n",
      "Requirement already satisfied: six>=1.4.1 in /Users/a/opt/anaconda3/lib/python3.8/site-packages (from cryptography>=1.3.4; extra == \"security\"->requests[security]) (1.15.0)\n",
      "Requirement already satisfied: cffi!=1.11.3,>=1.8 in /Users/a/opt/anaconda3/lib/python3.8/site-packages (from cryptography>=1.3.4; extra == \"security\"->requests[security]) (1.14.3)\n",
      "Requirement already satisfied: pycparser in /Users/a/opt/anaconda3/lib/python3.8/site-packages (from cffi!=1.11.3,>=1.8->cryptography>=1.3.4; extra == \"security\"->requests[security]) (2.20)\n",
      "Note: you may need to restart the kernel to use updated packages.\n"
     ]
    }
   ],
   "source": [
    "pip install \"requests[security]\""
   ]
  },
  {
   "cell_type": "code",
   "execution_count": 3,
   "metadata": {
    "id": "Mf-GLZy4vovB"
   },
   "outputs": [],
   "source": [
    "import csv \n",
    "import time as t\n",
    "import requests \n",
    "import xml.etree.ElementTree as ET\n",
    "import WazeRouteCalculator as waze\n",
    "import WazeRouteCalculator\n",
    "import logging\n",
    "import time\n",
    "import pandas as pd \n",
    "import numpy as np "
   ]
  },
  {
   "cell_type": "code",
   "execution_count": 4,
   "metadata": {
    "id": "YvDA0cPZwGsV"
   },
   "outputs": [
    {
     "name": "stdout",
     "output_type": "stream",
     "text": [
      "    Station      Time  Dist        Lat        Lon\n",
      "0     42658  07:00:00   0.0  32.793372  34.958985\n",
      "1     42362  07:02:00   1.3  32.789609  34.962117\n",
      "2     40964  07:03:00   1.9  32.784590  34.962626\n",
      "3     40958  07:04:00   2.2  32.781207  34.962876\n",
      "4     40897  07:06:00   3.2  32.772031  34.962995\n",
      "..      ...       ...   ...        ...        ...\n",
      "78    23034  09:49:00  90.7  32.083677  34.806421\n",
      "79    21705  09:51:00  91.9  32.079838  34.794882\n",
      "80    21472  09:53:00  92.6  32.074914  34.790734\n",
      "81    28660  09:56:00  94.3  32.061230  34.784594\n",
      "82    23013  09:58:00  95.2  32.055636  34.780466\n",
      "\n",
      "[83 rows x 5 columns]\n"
     ]
    }
   ],
   "source": [
    "df = pd.read_excel ('921_Bus_Way.xlsx')\n",
    "print (df)\n"
   ]
  },
  {
   "cell_type": "code",
   "execution_count": 5,
   "metadata": {
    "id": "K4y6tFrVwHk-"
   },
   "outputs": [],
   "source": [
    "Lat = df.loc[:,'Lat']\n",
    "Lon = df.loc[:,'Lon']\n",
    "n = len(Lat)-1\n",
    "count = 0\n",
    "numT = 0\n",
    "\n",
    "logger = logging.getLogger('WazeRouteCalculator.WazeRouteCalculator')\n",
    "logger.setLevel(logging.DEBUG)\n",
    "handler = logging.StreamHandler()\n",
    "logger.addHandler(handler)"
   ]
  },
  {
   "cell_type": "code",
   "execution_count": 6,
   "metadata": {
    "id": "IyDH-htpwM2S"
   },
   "outputs": [],
   "source": [
    "def FullWayBus(From_Lat, To_Lat):\n",
    "  #logger = logging.getLogger('WazeRouteCalculator.WazeRouteCalculator')\n",
    "  #logger.setLevel(logging.DEBUG)\n",
    "  #handler = logging.StreamHandler()\n",
    "  #logger.addHandler(handler)\n",
    "\n",
    "  from_address = From_Lat\n",
    "  to_address = To_Lat\n",
    "  region = 'IL'\n",
    "  route = WazeRouteCalculator.WazeRouteCalculator(from_address, to_address, region)\n",
    "  time = route.calc_route_info()\n",
    "  return time[0]"
   ]
  },
  {
   "cell_type": "code",
   "execution_count": 7,
   "metadata": {
    "id": "8FWlWK3UwPXS"
   },
   "outputs": [],
   "source": [
    "#Converting decimal time to original time\n",
    "def ConvertToOrig(count):\n",
    "  hours = count // 3600\n",
    "  minutes = count // 60 - hours * 60\n",
    "\n",
    "  lent = \"%d:%02d\" % (hours, minutes)\n",
    "  print(lent)"
   ]
  },
  {
   "cell_type": "code",
   "execution_count": 8,
   "metadata": {
    "id": "IUdAFPt8wVGM"
   },
   "outputs": [],
   "source": [
    "# url of rss feed \n",
    "def urlXML(k,i):\n",
    "  xml = 'http://moran.mot.gov.il:110/Channels/HTTPChannel/SmQuery/2.8/xml?Key=YP1451616&MonitoringRef=42658,42362,40964,40958,40897,40852,42286,40851,41457,41621,41643,40850,42963,40847,40845,40839,41454,40836,40834,40832,40833,40841,46176,46177,47041,46179,46180,40253,40240,40243,41705,40757,40161,40097,40059,40060,41711,40082,42133,40772,40110,47962,40079,48138,30352,30358,32784,30404,32781,30379,30401,30386,30361,30341,39374,39337,30302,36476,34238,34237,33810,34236,37865,37861,37206,32734,37209,37254,39684,38303,32409,39628,34063,32259,37655,27059,20176,21654,23034,21705,21472,28660,23013&PublishedLineName=921'# creating HTTP response object from given url \n",
    "  resp = requests.get(xml)\n",
    " # saving the xml file \n",
    "  with open('transport'+str(k*100+i) +'.xml', 'wb') as f: \n",
    "      print(k*100+i)\n",
    "      f.write(resp.content)"
   ]
  },
  {
   "cell_type": "code",
   "execution_count": 9,
   "metadata": {
    "id": "KgHvvwI2wWov"
   },
   "outputs": [
    {
     "name": "stderr",
     "output_type": "stream",
     "text": [
      "From: 32.793372,34.958985 - to: 32.789609,34.962117\n",
      "Start coords: (32.793372, 34.958985)\n",
      "End coords: (32.789609, 34.962117)\n",
      "Time 2.17 minutes, distance 0.93 km.\n"
     ]
    },
    {
     "name": "stdout",
     "output_type": "stream",
     "text": [
      "0\n",
      "130.0\n",
      "0\n"
     ]
    },
    {
     "name": "stderr",
     "output_type": "stream",
     "text": [
      "From: 32.789609,34.962117 - to: 32.78459,34.962626\n",
      "Start coords: (32.789609, 34.962117)\n",
      "End coords: (32.78459, 34.962626)\n",
      "Time 1.03 minutes, distance 0.56 km.\n"
     ]
    },
    {
     "name": "stdout",
     "output_type": "stream",
     "text": [
      "1\n",
      "62.00000000000001\n",
      "1\n"
     ]
    },
    {
     "name": "stderr",
     "output_type": "stream",
     "text": [
      "From: 32.78459,34.962626 - to: 32.781207,34.962876\n",
      "Start coords: (32.78459, 34.962626)\n",
      "End coords: (32.781207, 34.962876)\n",
      "Time 0.35 minutes, distance 0.38 km.\n"
     ]
    },
    {
     "name": "stdout",
     "output_type": "stream",
     "text": [
      "2\n",
      "21.0\n",
      "2\n"
     ]
    },
    {
     "name": "stderr",
     "output_type": "stream",
     "text": [
      "From: 32.781207,34.962876 - to: 32.772031,34.962995\n",
      "Start coords: (32.781207, 34.962876)\n",
      "End coords: (32.772031, 34.962995)\n",
      "Time 2.17 minutes, distance 1.92 km.\n"
     ]
    },
    {
     "name": "stdout",
     "output_type": "stream",
     "text": [
      "3\n",
      "130.0\n",
      "3\n"
     ]
    },
    {
     "name": "stderr",
     "output_type": "stream",
     "text": [
      "From: 32.772031,34.962995 - to: 32.764238,34.961821\n",
      "Start coords: (32.772031, 34.962995)\n",
      "End coords: (32.764238, 34.961821)\n",
      "Time 0.75 minutes, distance 0.87 km.\n"
     ]
    },
    {
     "name": "stdout",
     "output_type": "stream",
     "text": [
      "4\n",
      "45.0\n",
      "4\n"
     ]
    },
    {
     "name": "stderr",
     "output_type": "stream",
     "text": [
      "From: 32.764238,34.961821 - to: 32.759921,34.961275\n",
      "Start coords: (32.764238, 34.961821)\n",
      "End coords: (32.759921, 34.961275)\n",
      "Time 0.60 minutes, distance 0.48 km.\n"
     ]
    },
    {
     "name": "stdout",
     "output_type": "stream",
     "text": [
      "5\n",
      "36.0\n",
      "5\n"
     ]
    },
    {
     "name": "stderr",
     "output_type": "stream",
     "text": [
      "From: 32.759921,34.961275 - to: 32.752365,34.962668\n",
      "Start coords: (32.759921, 34.961275)\n",
      "End coords: (32.752365, 34.962668)\n",
      "Time 0.78 minutes, distance 0.85 km.\n"
     ]
    },
    {
     "name": "stdout",
     "output_type": "stream",
     "text": [
      "6\n",
      "47.0\n",
      "6\n"
     ]
    },
    {
     "name": "stderr",
     "output_type": "stream",
     "text": [
      "From: 32.752365,34.962668 - to: 32.737043,34.966128\n",
      "Start coords: (32.752365, 34.962668)\n",
      "End coords: (32.737043, 34.966128)\n",
      "Time 1.33 minutes, distance 1.75 km.\n"
     ]
    },
    {
     "name": "stdout",
     "output_type": "stream",
     "text": [
      "7\n",
      "80.0\n",
      "7\n"
     ]
    },
    {
     "name": "stderr",
     "output_type": "stream",
     "text": [
      "From: 32.737043,34.966128 - to: 32.725875,34.966216\n",
      "Start coords: (32.737043, 34.966128)\n",
      "End coords: (32.725875, 34.966216)\n",
      "Time 0.85 minutes, distance 1.24 km.\n"
     ]
    },
    {
     "name": "stdout",
     "output_type": "stream",
     "text": [
      "8\n",
      "51.0\n",
      "8\n"
     ]
    },
    {
     "name": "stderr",
     "output_type": "stream",
     "text": [
      "From: 32.725875,34.966216 - to: 32.717596,34.968597\n",
      "Start coords: (32.725875, 34.966216)\n",
      "End coords: (32.717596, 34.968597)\n",
      "Time 0.75 minutes, distance 0.96 km.\n"
     ]
    },
    {
     "name": "stdout",
     "output_type": "stream",
     "text": [
      "9\n",
      "45.0\n",
      "9\n"
     ]
    },
    {
     "name": "stderr",
     "output_type": "stream",
     "text": [
      "From: 32.717596,34.968597 - to: 32.713239,34.970693\n",
      "Start coords: (32.717596, 34.968597)\n",
      "End coords: (32.713239, 34.970693)\n",
      "Time 0.43 minutes, distance 0.53 km.\n"
     ]
    },
    {
     "name": "stdout",
     "output_type": "stream",
     "text": [
      "10\n",
      "26.0\n",
      "10\n"
     ]
    },
    {
     "name": "stderr",
     "output_type": "stream",
     "text": [
      "From: 32.713239,34.970693 - to: 32.710042,34.970338\n",
      "Start coords: (32.713239, 34.970693)\n",
      "End coords: (32.710042, 34.970338)\n",
      "Time 0.53 minutes, distance 0.36 km.\n"
     ]
    },
    {
     "name": "stdout",
     "output_type": "stream",
     "text": [
      "11\n",
      "32.0\n",
      "11\n"
     ]
    },
    {
     "name": "stderr",
     "output_type": "stream",
     "text": [
      "From: 32.710042,34.970338 - to: 32.702365,34.968957\n",
      "Start coords: (32.710042, 34.970338)\n",
      "End coords: (32.702365, 34.968957)\n",
      "Time 0.78 minutes, distance 0.86 km.\n"
     ]
    },
    {
     "name": "stdout",
     "output_type": "stream",
     "text": [
      "12\n",
      "47.0\n",
      "12\n"
     ]
    },
    {
     "name": "stderr",
     "output_type": "stream",
     "text": [
      "From: 32.702365,34.968957 - to: 32.676436,34.96162\n",
      "Start coords: (32.702365, 34.968957)\n",
      "End coords: (32.676436, 34.96162)\n",
      "Time 2.15 minutes, distance 2.98 km.\n"
     ]
    },
    {
     "name": "stdout",
     "output_type": "stream",
     "text": [
      "13\n",
      "129.0\n",
      "13\n"
     ]
    },
    {
     "name": "stderr",
     "output_type": "stream",
     "text": [
      "From: 32.676436,34.96162 - to: 32.662089,34.960079\n",
      "Start coords: (32.676436, 34.96162)\n",
      "End coords: (32.662089, 34.960079)\n",
      "Time 1.13 minutes, distance 1.60 km.\n"
     ]
    },
    {
     "name": "stdout",
     "output_type": "stream",
     "text": [
      "14\n",
      "68.0\n",
      "14\n"
     ]
    },
    {
     "name": "stderr",
     "output_type": "stream",
     "text": [
      "From: 32.662089,34.960079 - to: 32.647133,34.958825\n",
      "Start coords: (32.662089, 34.960079)\n",
      "End coords: (32.647133, 34.958825)\n",
      "Time 1.17 minutes, distance 1.66 km.\n"
     ]
    },
    {
     "name": "stdout",
     "output_type": "stream",
     "text": [
      "15\n",
      "70.0\n",
      "15\n"
     ]
    },
    {
     "name": "stderr",
     "output_type": "stream",
     "text": [
      "From: 32.647133,34.958825 - to: 32.642367,34.958627\n",
      "Start coords: (32.647133, 34.958825)\n",
      "End coords: (32.642367, 34.958627)\n",
      "Time 0.40 minutes, distance 0.53 km.\n"
     ]
    },
    {
     "name": "stdout",
     "output_type": "stream",
     "text": [
      "16\n",
      "24.0\n",
      "16\n"
     ]
    },
    {
     "name": "stderr",
     "output_type": "stream",
     "text": [
      "From: 32.642367,34.958627 - to: 32.639184,34.958505\n",
      "Start coords: (32.642367, 34.958627)\n",
      "End coords: (32.639184, 34.958505)\n",
      "Time 0.30 minutes, distance 0.35 km.\n"
     ]
    },
    {
     "name": "stdout",
     "output_type": "stream",
     "text": [
      "17\n",
      "18.0\n",
      "17\n"
     ]
    },
    {
     "name": "stderr",
     "output_type": "stream",
     "text": [
      "From: 32.639184,34.958505 - to: 32.628246,34.957538\n",
      "Start coords: (32.639184, 34.958505)\n",
      "End coords: (32.628246, 34.957538)\n",
      "Time 0.95 minutes, distance 1.21 km.\n"
     ]
    },
    {
     "name": "stdout",
     "output_type": "stream",
     "text": [
      "18\n",
      "57.0\n",
      "18\n"
     ]
    },
    {
     "name": "stderr",
     "output_type": "stream",
     "text": [
      "From: 32.628246,34.957538 - to: 32.619035,34.955474\n",
      "Start coords: (32.628246, 34.957538)\n",
      "End coords: (32.619035, 34.955474)\n",
      "Time 0.75 minutes, distance 1.04 km.\n"
     ]
    },
    {
     "name": "stdout",
     "output_type": "stream",
     "text": [
      "19\n",
      "45.0\n",
      "19\n"
     ]
    },
    {
     "name": "stderr",
     "output_type": "stream",
     "text": [
      "From: 32.619035,34.955474 - to: 32.605658,34.952011\n",
      "Start coords: (32.619035, 34.955474)\n",
      "End coords: (32.605658, 34.952011)\n",
      "Time 1.17 minutes, distance 1.52 km.\n"
     ]
    },
    {
     "name": "stdout",
     "output_type": "stream",
     "text": [
      "20\n",
      "70.0\n",
      "20\n"
     ]
    },
    {
     "name": "stderr",
     "output_type": "stream",
     "text": [
      "From: 32.605658,34.952011 - to: 32.595734,34.949146\n",
      "Start coords: (32.605658, 34.952011)\n",
      "End coords: (32.595734, 34.949146)\n",
      "Time 1.68 minutes, distance 1.15 km.\n"
     ]
    },
    {
     "name": "stdout",
     "output_type": "stream",
     "text": [
      "21\n",
      "101.0\n",
      "21\n"
     ]
    },
    {
     "name": "stderr",
     "output_type": "stream",
     "text": [
      "From: 32.595734,34.949146 - to: 32.591639,34.946468\n",
      "Start coords: (32.595734, 34.949146)\n",
      "End coords: (32.591639, 34.946468)\n",
      "Time 2.15 minutes, distance 0.76 km.\n"
     ]
    },
    {
     "name": "stdout",
     "output_type": "stream",
     "text": [
      "22\n",
      "129.0\n",
      "22\n"
     ]
    },
    {
     "name": "stderr",
     "output_type": "stream",
     "text": [
      "From: 32.591639,34.946468 - to: 32.575448,34.938832\n",
      "Start coords: (32.591639, 34.946468)\n",
      "End coords: (32.575448, 34.938832)\n",
      "Time 1.35 minutes, distance 1.95 km.\n"
     ]
    },
    {
     "name": "stdout",
     "output_type": "stream",
     "text": [
      "23\n",
      "81.0\n",
      "23\n"
     ]
    },
    {
     "name": "stderr",
     "output_type": "stream",
     "text": [
      "From: 32.575448,34.938832 - to: 32.571108,34.937372\n",
      "Start coords: (32.575448, 34.938832)\n",
      "End coords: (32.571108, 34.937372)\n",
      "Time 0.77 minutes, distance 0.47 km.\n"
     ]
    },
    {
     "name": "stdout",
     "output_type": "stream",
     "text": [
      "24\n",
      "46.0\n",
      "24\n"
     ]
    },
    {
     "name": "stderr",
     "output_type": "stream",
     "text": [
      "From: 32.571108,34.937372 - to: 32.568084,34.936196\n",
      "Start coords: (32.571108, 34.937372)\n",
      "End coords: (32.568084, 34.936196)\n",
      "Time 0.40 minutes, distance 0.35 km.\n"
     ]
    },
    {
     "name": "stdout",
     "output_type": "stream",
     "text": [
      "25\n",
      "24.0\n",
      "25\n"
     ]
    },
    {
     "name": "stderr",
     "output_type": "stream",
     "text": [
      "From: 32.568084,34.936196 - to: 32.556372,34.931537\n",
      "Start coords: (32.568084, 34.936196)\n",
      "End coords: (32.556372, 34.931537)\n",
      "Time 0.88 minutes, distance 1.37 km.\n"
     ]
    },
    {
     "name": "stdout",
     "output_type": "stream",
     "text": [
      "26\n",
      "53.0\n",
      "26\n"
     ]
    },
    {
     "name": "stderr",
     "output_type": "stream",
     "text": [
      "From: 32.556372,34.931537 - to: 32.533345,34.928702\n",
      "Start coords: (32.556372, 34.931537)\n",
      "End coords: (32.533345, 34.928702)\n",
      "Time 1.95 minutes, distance 2.62 km.\n"
     ]
    },
    {
     "name": "stdout",
     "output_type": "stream",
     "text": [
      "27\n",
      "117.0\n",
      "27\n"
     ]
    },
    {
     "name": "stderr",
     "output_type": "stream",
     "text": [
      "From: 32.533345,34.928702 - to: 32.523128,34.929403\n",
      "Start coords: (32.533345, 34.928702)\n",
      "End coords: (32.523128, 34.929403)\n",
      "Time 1.68 minutes, distance 1.13 km.\n"
     ]
    },
    {
     "name": "stdout",
     "output_type": "stream",
     "text": [
      "28\n",
      "101.0\n",
      "28\n"
     ]
    },
    {
     "name": "stderr",
     "output_type": "stream",
     "text": [
      "From: 32.523128,34.929403 - to: 32.516826,34.929888\n",
      "Start coords: (32.523128, 34.929403)\n",
      "End coords: (32.516826, 34.929888)\n",
      "Time 3.97 minutes, distance 2.19 km.\n"
     ]
    },
    {
     "name": "stdout",
     "output_type": "stream",
     "text": [
      "29\n",
      "238.0\n",
      "29\n"
     ]
    },
    {
     "name": "stderr",
     "output_type": "stream",
     "text": [
      "From: 32.516826,34.929888 - to: 32.500294,34.927745\n",
      "Start coords: (32.516826, 34.929888)\n",
      "End coords: (32.500294, 34.927745)\n",
      "Time 1.78 minutes, distance 1.88 km.\n"
     ]
    },
    {
     "name": "stdout",
     "output_type": "stream",
     "text": [
      "30\n",
      "107.0\n",
      "30\n"
     ]
    },
    {
     "name": "stderr",
     "output_type": "stream",
     "text": [
      "From: 32.500294,34.927745 - to: 32.479664,34.91953\n",
      "Start coords: (32.500294, 34.927745)\n",
      "End coords: (32.479664, 34.91953)\n",
      "Time 2.07 minutes, distance 2.41 km.\n"
     ]
    },
    {
     "name": "stdout",
     "output_type": "stream",
     "text": [
      "31\n",
      "124.00000000000001\n",
      "31\n"
     ]
    },
    {
     "name": "stderr",
     "output_type": "stream",
     "text": [
      "From: 32.479664,34.91953 - to: 32.464412,34.912191\n",
      "Start coords: (32.479664, 34.91953)\n",
      "End coords: (32.464412, 34.912191)\n",
      "Time 2.13 minutes, distance 1.92 km.\n"
     ]
    },
    {
     "name": "stdout",
     "output_type": "stream",
     "text": [
      "32\n",
      "128.0\n",
      "32\n"
     ]
    },
    {
     "name": "stderr",
     "output_type": "stream",
     "text": [
      "From: 32.464412,34.912191 - to: 32.457375,34.9071\n",
      "Start coords: (32.464412, 34.912191)\n",
      "End coords: (32.457375, 34.9071)\n",
      "Time 0.72 minutes, distance 0.91 km.\n"
     ]
    },
    {
     "name": "stdout",
     "output_type": "stream",
     "text": [
      "33\n",
      "43.0\n",
      "33\n"
     ]
    },
    {
     "name": "stderr",
     "output_type": "stream",
     "text": [
      "From: 32.457375,34.9071 - to: 32.454646,34.907116\n",
      "Start coords: (32.457375, 34.9071)\n",
      "End coords: (32.454646, 34.907116)\n",
      "Time 0.33 minutes, distance 0.30 km.\n"
     ]
    },
    {
     "name": "stdout",
     "output_type": "stream",
     "text": [
      "34\n",
      "20.0\n",
      "34\n"
     ]
    },
    {
     "name": "stderr",
     "output_type": "stream",
     "text": [
      "From: 32.454646,34.907116 - to: 32.450906,34.90867\n",
      "Start coords: (32.454646, 34.907116)\n",
      "End coords: (32.450906, 34.90867)\n",
      "Time 0.65 minutes, distance 0.44 km.\n"
     ]
    },
    {
     "name": "stdout",
     "output_type": "stream",
     "text": [
      "35\n",
      "39.0\n",
      "35\n"
     ]
    },
    {
     "name": "stderr",
     "output_type": "stream",
     "text": [
      "From: 32.450906,34.90867 - to: 32.446689,34.910224\n",
      "Start coords: (32.450906, 34.90867)\n",
      "End coords: (32.446689, 34.910224)\n",
      "Time 0.72 minutes, distance 0.49 km.\n"
     ]
    },
    {
     "name": "stdout",
     "output_type": "stream",
     "text": [
      "36\n",
      "43.0\n",
      "36\n"
     ]
    },
    {
     "name": "stderr",
     "output_type": "stream",
     "text": [
      "From: 32.446689,34.910224 - to: 32.441755,34.910952\n",
      "Start coords: (32.446689, 34.910224)\n",
      "End coords: (32.441755, 34.910952)\n",
      "Time 0.72 minutes, distance 0.56 km.\n"
     ]
    },
    {
     "name": "stdout",
     "output_type": "stream",
     "text": [
      "37\n",
      "43.0\n",
      "37\n"
     ]
    },
    {
     "name": "stderr",
     "output_type": "stream",
     "text": [
      "From: 32.441755,34.910952 - to: 32.438209,34.911987\n",
      "Start coords: (32.441755, 34.910952)\n",
      "End coords: (32.438209, 34.911987)\n",
      "Time 2.35 minutes, distance 0.53 km.\n"
     ]
    },
    {
     "name": "stdout",
     "output_type": "stream",
     "text": [
      "38\n",
      "141.0\n",
      "38\n"
     ]
    },
    {
     "name": "stderr",
     "output_type": "stream",
     "text": [
      "From: 32.438209,34.911987 - to: 32.435324,34.914147\n",
      "Start coords: (32.438209, 34.911987)\n",
      "End coords: (32.435324, 34.914147)\n",
      "Time 3.35 minutes, distance 1.01 km.\n"
     ]
    },
    {
     "name": "stdout",
     "output_type": "stream",
     "text": [
      "39\n",
      "201.0\n",
      "39\n"
     ]
    },
    {
     "name": "stderr",
     "output_type": "stream",
     "text": [
      "From: 32.435324,34.914147 - to: 32.435962,34.914021\n",
      "Start coords: (32.435324, 34.914147)\n",
      "End coords: (32.435962, 34.914021)\n",
      "Time 0.57 minutes, distance 0.11 km.\n"
     ]
    },
    {
     "name": "stdout",
     "output_type": "stream",
     "text": [
      "40\n",
      "34.0\n",
      "40\n"
     ]
    },
    {
     "name": "stderr",
     "output_type": "stream",
     "text": [
      "From: 32.435962,34.914021 - to: 32.432762,34.909369\n",
      "Start coords: (32.435962, 34.914021)\n",
      "End coords: (32.432762, 34.909369)\n",
      "Time 3.62 minutes, distance 1.29 km.\n"
     ]
    },
    {
     "name": "stdout",
     "output_type": "stream",
     "text": [
      "41\n",
      "217.0\n",
      "41\n"
     ]
    },
    {
     "name": "stderr",
     "output_type": "stream",
     "text": [
      "From: 32.432762,34.909369 - to: 32.40895,34.903447\n",
      "Start coords: (32.432762, 34.909369)\n",
      "End coords: (32.40895, 34.903447)\n",
      "Time 2.10 minutes, distance 2.70 km.\n"
     ]
    },
    {
     "name": "stdout",
     "output_type": "stream",
     "text": [
      "42\n",
      "126.0\n",
      "42\n"
     ]
    },
    {
     "name": "stderr",
     "output_type": "stream",
     "text": [
      "From: 32.40895,34.903447 - to: 32.400004,34.903026\n",
      "Start coords: (32.40895, 34.903447)\n",
      "End coords: (32.400004, 34.903026)\n",
      "Time 0.98 minutes, distance 0.99 km.\n"
     ]
    },
    {
     "name": "stdout",
     "output_type": "stream",
     "text": [
      "43\n",
      "59.0\n",
      "43\n"
     ]
    },
    {
     "name": "stderr",
     "output_type": "stream",
     "text": [
      "From: 32.400004,34.903026 - to: 32.392873,34.903167\n",
      "Start coords: (32.400004, 34.903026)\n",
      "End coords: (32.392873, 34.903167)\n",
      "Time 0.73 minutes, distance 0.79 km.\n"
     ]
    },
    {
     "name": "stdout",
     "output_type": "stream",
     "text": [
      "44\n",
      "44.0\n",
      "44\n"
     ]
    },
    {
     "name": "stderr",
     "output_type": "stream",
     "text": [
      "From: 32.392873,34.903167 - to: 32.378766,34.907664\n",
      "Start coords: (32.392873, 34.903167)\n",
      "End coords: (32.378766, 34.907664)\n",
      "Time 1.12 minutes, distance 1.62 km.\n"
     ]
    },
    {
     "name": "stdout",
     "output_type": "stream",
     "text": [
      "45\n",
      "67.0\n",
      "45\n"
     ]
    },
    {
     "name": "stderr",
     "output_type": "stream",
     "text": [
      "From: 32.378766,34.907664 - to: 32.373139,34.908841\n",
      "Start coords: (32.378766, 34.907664)\n",
      "End coords: (32.373139, 34.908841)\n",
      "Time 0.52 minutes, distance 0.63 km.\n"
     ]
    },
    {
     "name": "stdout",
     "output_type": "stream",
     "text": [
      "46\n",
      "31.000000000000004\n",
      "46\n"
     ]
    },
    {
     "name": "stderr",
     "output_type": "stream",
     "text": [
      "From: 32.373139,34.908841 - to: 32.364299,34.90753\n",
      "Start coords: (32.373139, 34.908841)\n",
      "End coords: (32.364299, 34.90753)\n",
      "Time 0.83 minutes, distance 0.99 km.\n"
     ]
    },
    {
     "name": "stdout",
     "output_type": "stream",
     "text": [
      "47\n",
      "50.0\n",
      "47\n"
     ]
    },
    {
     "name": "stderr",
     "output_type": "stream",
     "text": [
      "From: 32.364299,34.90753 - to: 32.358205,34.906876\n",
      "Start coords: (32.364299, 34.90753)\n",
      "End coords: (32.358205, 34.906876)\n",
      "Time 1.40 minutes, distance 0.89 km.\n"
     ]
    },
    {
     "name": "stdout",
     "output_type": "stream",
     "text": [
      "48\n",
      "84.0\n",
      "48\n"
     ]
    },
    {
     "name": "stderr",
     "output_type": "stream",
     "text": [
      "From: 32.358205,34.906876 - to: 32.357114,34.908334\n",
      "Start coords: (32.358205, 34.906876)\n",
      "End coords: (32.357114, 34.908334)\n",
      "Time 0.43 minutes, distance 0.28 km.\n"
     ]
    },
    {
     "name": "stdout",
     "output_type": "stream",
     "text": [
      "49\n",
      "26.0\n",
      "49\n"
     ]
    },
    {
     "name": "stderr",
     "output_type": "stream",
     "text": [
      "From: 32.357114,34.908334 - to: 32.344205,34.907781\n",
      "Start coords: (32.357114, 34.908334)\n",
      "End coords: (32.344205, 34.907781)\n",
      "Time 1.20 minutes, distance 1.43 km.\n"
     ]
    },
    {
     "name": "stdout",
     "output_type": "stream",
     "text": [
      "50\n",
      "72.0\n",
      "50\n"
     ]
    },
    {
     "name": "stderr",
     "output_type": "stream",
     "text": [
      "From: 32.344205,34.907781 - to: 32.321146,34.903693\n",
      "Start coords: (32.344205, 34.907781)\n",
      "End coords: (32.321146, 34.903693)\n",
      "Time 2.63 minutes, distance 2.59 km.\n"
     ]
    },
    {
     "name": "stdout",
     "output_type": "stream",
     "text": [
      "51\n",
      "158.0\n",
      "51\n"
     ]
    },
    {
     "name": "stderr",
     "output_type": "stream",
     "text": [
      "From: 32.321146,34.903693 - to: 32.304107,34.900468\n",
      "Start coords: (32.321146, 34.903693)\n",
      "End coords: (32.304107, 34.900468)\n",
      "Time 1.38 minutes, distance 1.91 km.\n"
     ]
    },
    {
     "name": "stdout",
     "output_type": "stream",
     "text": [
      "52\n",
      "83.0\n",
      "52\n"
     ]
    },
    {
     "name": "stderr",
     "output_type": "stream",
     "text": [
      "From: 32.304107,34.900468 - to: 32.28275,34.896439\n",
      "Start coords: (32.304107, 34.900468)\n",
      "End coords: (32.28275, 34.896439)\n",
      "Time 1.78 minutes, distance 2.40 km.\n"
     ]
    },
    {
     "name": "stdout",
     "output_type": "stream",
     "text": [
      "53\n",
      "107.0\n",
      "53\n"
     ]
    },
    {
     "name": "stderr",
     "output_type": "stream",
     "text": [
      "From: 32.28275,34.896439 - to: 32.275284,34.895065\n",
      "Start coords: (32.28275, 34.896439)\n",
      "End coords: (32.275284, 34.895065)\n",
      "Time 0.47 minutes, distance 0.74 km.\n"
     ]
    },
    {
     "name": "stdout",
     "output_type": "stream",
     "text": [
      "54\n",
      "28.0\n",
      "54\n"
     ]
    },
    {
     "name": "stderr",
     "output_type": "stream",
     "text": [
      "From: 32.275284,34.895065 - to: 32.268669,34.893805\n",
      "Start coords: (32.275284, 34.895065)\n",
      "End coords: (32.268669, 34.893805)\n",
      "Time 0.45 minutes, distance 0.74 km.\n"
     ]
    },
    {
     "name": "stdout",
     "output_type": "stream",
     "text": [
      "55\n",
      "27.0\n",
      "55\n"
     ]
    },
    {
     "name": "stderr",
     "output_type": "stream",
     "text": [
      "From: 32.268669,34.893805 - to: 32.254064,34.88915\n",
      "Start coords: (32.268669, 34.893805)\n",
      "End coords: (32.254064, 34.88915)\n",
      "Time 6.32 minutes, distance 5.11 km.\n"
     ]
    },
    {
     "name": "stdout",
     "output_type": "stream",
     "text": [
      "56\n",
      "379.0\n",
      "56\n"
     ]
    },
    {
     "name": "stderr",
     "output_type": "stream",
     "text": [
      "From: 32.254064,34.88915 - to: 32.239492,34.886062\n",
      "Start coords: (32.254064, 34.88915)\n",
      "End coords: (32.239492, 34.886062)\n",
      "Time 1.28 minutes, distance 1.68 km.\n"
     ]
    },
    {
     "name": "stdout",
     "output_type": "stream",
     "text": [
      "57\n",
      "77.0\n",
      "57\n"
     ]
    },
    {
     "name": "stderr",
     "output_type": "stream",
     "text": [
      "From: 32.239492,34.886062 - to: 32.234942,34.88462\n",
      "Start coords: (32.239492, 34.886062)\n",
      "End coords: (32.234942, 34.88462)\n",
      "Time 0.75 minutes, distance 0.52 km.\n"
     ]
    },
    {
     "name": "stdout",
     "output_type": "stream",
     "text": [
      "58\n",
      "45.0\n",
      "58\n"
     ]
    },
    {
     "name": "stderr",
     "output_type": "stream",
     "text": [
      "From: 32.234942,34.88462 - to: 32.218431,34.883157\n",
      "Start coords: (32.234942, 34.88462)\n",
      "End coords: (32.218431, 34.883157)\n",
      "Time 1.27 minutes, distance 1.85 km.\n"
     ]
    },
    {
     "name": "stdout",
     "output_type": "stream",
     "text": [
      "59\n",
      "76.0\n",
      "59\n"
     ]
    },
    {
     "name": "stderr",
     "output_type": "stream",
     "text": [
      "From: 32.218431,34.883157 - to: 32.209417,34.883706\n",
      "Start coords: (32.218431, 34.883157)\n",
      "End coords: (32.209417, 34.883706)\n",
      "Time 0.63 minutes, distance 1.00 km.\n"
     ]
    },
    {
     "name": "stdout",
     "output_type": "stream",
     "text": [
      "60\n",
      "38.0\n",
      "60\n"
     ]
    },
    {
     "name": "stderr",
     "output_type": "stream",
     "text": [
      "From: 32.209417,34.883706 - to: 32.190754,34.887242\n",
      "Start coords: (32.209417, 34.883706)\n",
      "End coords: (32.190754, 34.887242)\n",
      "Time 2.10 minutes, distance 2.15 km.\n"
     ]
    },
    {
     "name": "stdout",
     "output_type": "stream",
     "text": [
      "61\n",
      "126.0\n",
      "61\n"
     ]
    },
    {
     "name": "stderr",
     "output_type": "stream",
     "text": [
      "From: 32.190754,34.887242 - to: 32.175756,34.890738\n",
      "Start coords: (32.190754, 34.887242)\n",
      "End coords: (32.175756, 34.890738)\n",
      "Time 2.80 minutes, distance 1.90 km.\n"
     ]
    },
    {
     "name": "stdout",
     "output_type": "stream",
     "text": [
      "62\n",
      "168.0\n",
      "62\n"
     ]
    },
    {
     "name": "stderr",
     "output_type": "stream",
     "text": [
      "From: 32.175756,34.890738 - to: 32.155104,34.894483\n",
      "Start coords: (32.175756, 34.890738)\n",
      "End coords: (32.155104, 34.894483)\n",
      "Time 5.13 minutes, distance 2.38 km.\n"
     ]
    },
    {
     "name": "stdout",
     "output_type": "stream",
     "text": [
      "63\n",
      "308.0\n",
      "63\n"
     ]
    },
    {
     "name": "stderr",
     "output_type": "stream",
     "text": [
      "From: 32.155104,34.894483 - to: 32.14303,34.894369\n",
      "Start coords: (32.155104, 34.894483)\n",
      "End coords: (32.14303, 34.894369)\n",
      "Time 2.75 minutes, distance 1.34 km.\n"
     ]
    },
    {
     "name": "stdout",
     "output_type": "stream",
     "text": [
      "64\n",
      "165.0\n",
      "64\n"
     ]
    },
    {
     "name": "stderr",
     "output_type": "stream",
     "text": [
      "From: 32.14303,34.894369 - to: 32.137306,34.896274\n",
      "Start coords: (32.14303, 34.894369)\n",
      "End coords: (32.137306, 34.896274)\n",
      "Time 0.93 minutes, distance 0.68 km.\n"
     ]
    },
    {
     "name": "stdout",
     "output_type": "stream",
     "text": [
      "65\n",
      "56.0\n",
      "65\n"
     ]
    },
    {
     "name": "stderr",
     "output_type": "stream",
     "text": [
      "From: 32.137306,34.896274 - to: 32.132375,34.89996\n",
      "Start coords: (32.137306, 34.896274)\n",
      "End coords: (32.132375, 34.89996)\n",
      "Time 1.37 minutes, distance 0.65 km.\n"
     ]
    },
    {
     "name": "stdout",
     "output_type": "stream",
     "text": [
      "66\n",
      "82.0\n",
      "66\n"
     ]
    },
    {
     "name": "stderr",
     "output_type": "stream",
     "text": [
      "From: 32.132375,34.89996 - to: 32.119907,34.903229\n",
      "Start coords: (32.132375, 34.89996)\n",
      "End coords: (32.119907, 34.903229)\n",
      "Time 2.13 minutes, distance 1.49 km.\n"
     ]
    },
    {
     "name": "stdout",
     "output_type": "stream",
     "text": [
      "67\n",
      "128.0\n",
      "67\n"
     ]
    },
    {
     "name": "stderr",
     "output_type": "stream",
     "text": [
      "From: 32.119907,34.903229 - to: 32.101597,34.89757\n",
      "Start coords: (32.119907, 34.903229)\n",
      "End coords: (32.101597, 34.89757)\n",
      "Time 2.38 minutes, distance 2.13 km.\n"
     ]
    },
    {
     "name": "stdout",
     "output_type": "stream",
     "text": [
      "68\n",
      "143.0\n",
      "68\n"
     ]
    },
    {
     "name": "stderr",
     "output_type": "stream",
     "text": [
      "From: 32.101597,34.89757 - to: 32.09914,34.895905\n",
      "Start coords: (32.101597, 34.89757)\n",
      "End coords: (32.09914, 34.895905)\n",
      "Time 0.70 minutes, distance 0.32 km.\n"
     ]
    },
    {
     "name": "stdout",
     "output_type": "stream",
     "text": [
      "69\n",
      "42.0\n",
      "69\n"
     ]
    },
    {
     "name": "stderr",
     "output_type": "stream",
     "text": [
      "From: 32.09914,34.895905 - to: 32.094807,34.886466\n",
      "Start coords: (32.09914, 34.895905)\n",
      "End coords: (32.094807, 34.886466)\n",
      "Time 3.13 minutes, distance 1.03 km.\n"
     ]
    },
    {
     "name": "stdout",
     "output_type": "stream",
     "text": [
      "70\n",
      "188.0\n",
      "70\n"
     ]
    },
    {
     "name": "stderr",
     "output_type": "stream",
     "text": [
      "From: 32.094807,34.886466 - to: 32.091798,34.865101\n",
      "Start coords: (32.094807, 34.886466)\n",
      "End coords: (32.091798, 34.865101)\n",
      "Time 5.43 minutes, distance 2.13 km.\n"
     ]
    },
    {
     "name": "stdout",
     "output_type": "stream",
     "text": [
      "71\n",
      "326.0\n",
      "71\n"
     ]
    },
    {
     "name": "stderr",
     "output_type": "stream",
     "text": [
      "From: 32.091798,34.865101 - to: 32.092482,34.857247\n",
      "Start coords: (32.091798, 34.865101)\n",
      "End coords: (32.092482, 34.857247)\n",
      "Time 2.38 minutes, distance 0.74 km.\n"
     ]
    },
    {
     "name": "stdout",
     "output_type": "stream",
     "text": [
      "72\n",
      "143.0\n",
      "72\n"
     ]
    },
    {
     "name": "stderr",
     "output_type": "stream",
     "text": [
      "From: 32.092482,34.857247 - to: 32.092807,34.847935\n",
      "Start coords: (32.092482, 34.857247)\n",
      "End coords: (32.092807, 34.847935)\n",
      "Time 1.87 minutes, distance 0.88 km.\n"
     ]
    },
    {
     "name": "stdout",
     "output_type": "stream",
     "text": [
      "73\n",
      "112.0\n",
      "73\n"
     ]
    },
    {
     "name": "stderr",
     "output_type": "stream",
     "text": [
      "From: 32.092807,34.847935 - to: 32.092866,34.836946\n",
      "Start coords: (32.092807, 34.847935)\n",
      "End coords: (32.092866, 34.836946)\n",
      "Time 13.12 minutes, distance 1.04 km.\n"
     ]
    },
    {
     "name": "stdout",
     "output_type": "stream",
     "text": [
      "74\n",
      "787.0\n",
      "74\n"
     ]
    },
    {
     "name": "stderr",
     "output_type": "stream",
     "text": [
      "From: 32.092866,34.836946 - to: 32.091728,34.826477\n",
      "Start coords: (32.092866, 34.836946)\n",
      "End coords: (32.091728, 34.826477)\n",
      "Time 1.72 minutes, distance 1.01 km.\n"
     ]
    },
    {
     "name": "stdout",
     "output_type": "stream",
     "text": [
      "75\n",
      "103.0\n",
      "75\n"
     ]
    },
    {
     "name": "stderr",
     "output_type": "stream",
     "text": [
      "From: 32.091728,34.826477 - to: 32.085293,34.810136\n",
      "Start coords: (32.091728, 34.826477)\n",
      "End coords: (32.085293, 34.810136)\n",
      "Time 5.72 minutes, distance 1.71 km.\n"
     ]
    },
    {
     "name": "stdout",
     "output_type": "stream",
     "text": [
      "76\n",
      "343.0\n",
      "76\n"
     ]
    },
    {
     "name": "stderr",
     "output_type": "stream",
     "text": [
      "From: 32.085293,34.810136 - to: 32.083677,34.806421\n",
      "Start coords: (32.085293, 34.810136)\n",
      "End coords: (32.083677, 34.806421)\n",
      "Time 0.55 minutes, distance 0.40 km.\n"
     ]
    },
    {
     "name": "stdout",
     "output_type": "stream",
     "text": [
      "77\n",
      "33.0\n",
      "77\n"
     ]
    },
    {
     "name": "stderr",
     "output_type": "stream",
     "text": [
      "From: 32.083677,34.806421 - to: 32.079838,34.794882\n",
      "Start coords: (32.083677, 34.806421)\n",
      "End coords: (32.079838, 34.794882)\n",
      "Time 4.77 minutes, distance 1.60 km.\n"
     ]
    },
    {
     "name": "stdout",
     "output_type": "stream",
     "text": [
      "78\n",
      "286.0\n",
      "78\n"
     ]
    },
    {
     "name": "stderr",
     "output_type": "stream",
     "text": [
      "From: 32.079838,34.794882 - to: 32.074914,34.790734\n",
      "Start coords: (32.079838, 34.794882)\n",
      "End coords: (32.074914, 34.790734)\n",
      "Time 1.37 minutes, distance 0.69 km.\n"
     ]
    },
    {
     "name": "stdout",
     "output_type": "stream",
     "text": [
      "79\n",
      "82.0\n",
      "79\n"
     ]
    },
    {
     "name": "stderr",
     "output_type": "stream",
     "text": [
      "From: 32.074914,34.790734 - to: 32.06123,34.784594\n",
      "Start coords: (32.074914, 34.790734)\n",
      "End coords: (32.06123, 34.784594)\n",
      "Time 4.37 minutes, distance 1.62 km.\n"
     ]
    },
    {
     "name": "stdout",
     "output_type": "stream",
     "text": [
      "80\n",
      "262.0\n",
      "80\n"
     ]
    },
    {
     "name": "stderr",
     "output_type": "stream",
     "text": [
      "From: 32.06123,34.784594 - to: 32.055636,34.780466\n",
      "Start coords: (32.06123, 34.784594)\n",
      "End coords: (32.055636, 34.780466)\n",
      "Time 2.98 minutes, distance 1.07 km.\n"
     ]
    },
    {
     "name": "stdout",
     "output_type": "stream",
     "text": [
      "81\n",
      "179.0\n",
      "81\n"
     ]
    },
    {
     "name": "stderr",
     "output_type": "stream",
     "text": [
      "From: 32.793372,34.958985 - to: 32.789609,34.962117\n",
      "Start coords: (32.793372, 34.958985)\n",
      "End coords: (32.789609, 34.962117)\n",
      "Time 2.07 minutes, distance 0.93 km.\n"
     ]
    },
    {
     "name": "stdout",
     "output_type": "stream",
     "text": [
      "0\n",
      "124.00000000000001\n",
      "100\n"
     ]
    },
    {
     "name": "stderr",
     "output_type": "stream",
     "text": [
      "From: 32.789609,34.962117 - to: 32.78459,34.962626\n",
      "Start coords: (32.789609, 34.962117)\n",
      "End coords: (32.78459, 34.962626)\n",
      "Time 0.97 minutes, distance 0.56 km.\n"
     ]
    },
    {
     "name": "stdout",
     "output_type": "stream",
     "text": [
      "1\n",
      "58.0\n",
      "101\n"
     ]
    },
    {
     "name": "stderr",
     "output_type": "stream",
     "text": [
      "From: 32.78459,34.962626 - to: 32.781207,34.962876\n",
      "Start coords: (32.78459, 34.962626)\n",
      "End coords: (32.781207, 34.962876)\n",
      "Time 0.33 minutes, distance 0.38 km.\n"
     ]
    },
    {
     "name": "stdout",
     "output_type": "stream",
     "text": [
      "2\n",
      "20.0\n",
      "102\n"
     ]
    },
    {
     "name": "stderr",
     "output_type": "stream",
     "text": [
      "From: 32.781207,34.962876 - to: 32.772031,34.962995\n",
      "Start coords: (32.781207, 34.962876)\n",
      "End coords: (32.772031, 34.962995)\n",
      "Time 2.13 minutes, distance 1.92 km.\n"
     ]
    },
    {
     "name": "stdout",
     "output_type": "stream",
     "text": [
      "3\n",
      "128.0\n",
      "103\n"
     ]
    },
    {
     "name": "stderr",
     "output_type": "stream",
     "text": [
      "From: 32.772031,34.962995 - to: 32.764238,34.961821\n",
      "Start coords: (32.772031, 34.962995)\n",
      "End coords: (32.764238, 34.961821)\n",
      "Time 0.80 minutes, distance 0.87 km.\n"
     ]
    },
    {
     "name": "stdout",
     "output_type": "stream",
     "text": [
      "4\n",
      "48.0\n",
      "104\n"
     ]
    },
    {
     "name": "stderr",
     "output_type": "stream",
     "text": [
      "From: 32.764238,34.961821 - to: 32.759921,34.961275\n",
      "Start coords: (32.764238, 34.961821)\n",
      "End coords: (32.759921, 34.961275)\n",
      "Time 0.72 minutes, distance 0.48 km.\n"
     ]
    },
    {
     "name": "stdout",
     "output_type": "stream",
     "text": [
      "5\n",
      "43.0\n",
      "105\n"
     ]
    },
    {
     "name": "stderr",
     "output_type": "stream",
     "text": [
      "From: 32.759921,34.961275 - to: 32.752365,34.962668\n",
      "Start coords: (32.759921, 34.961275)\n",
      "End coords: (32.752365, 34.962668)\n",
      "Time 0.73 minutes, distance 0.85 km.\n"
     ]
    },
    {
     "name": "stdout",
     "output_type": "stream",
     "text": [
      "6\n",
      "44.0\n",
      "106\n"
     ]
    },
    {
     "name": "stderr",
     "output_type": "stream",
     "text": [
      "From: 32.752365,34.962668 - to: 32.737043,34.966128\n",
      "Start coords: (32.752365, 34.962668)\n",
      "End coords: (32.737043, 34.966128)\n",
      "Time 1.40 minutes, distance 1.75 km.\n"
     ]
    },
    {
     "name": "stdout",
     "output_type": "stream",
     "text": [
      "7\n",
      "84.0\n",
      "107\n"
     ]
    },
    {
     "name": "stderr",
     "output_type": "stream",
     "text": [
      "From: 32.737043,34.966128 - to: 32.725875,34.966216\n",
      "Start coords: (32.737043, 34.966128)\n",
      "End coords: (32.725875, 34.966216)\n",
      "Time 0.92 minutes, distance 1.24 km.\n"
     ]
    },
    {
     "name": "stdout",
     "output_type": "stream",
     "text": [
      "8\n",
      "55.0\n",
      "108\n"
     ]
    },
    {
     "name": "stderr",
     "output_type": "stream",
     "text": [
      "From: 32.725875,34.966216 - to: 32.717596,34.968597\n",
      "Start coords: (32.725875, 34.966216)\n",
      "End coords: (32.717596, 34.968597)\n",
      "Time 0.75 minutes, distance 0.96 km.\n"
     ]
    },
    {
     "name": "stdout",
     "output_type": "stream",
     "text": [
      "9\n",
      "45.0\n",
      "109\n"
     ]
    },
    {
     "name": "stderr",
     "output_type": "stream",
     "text": [
      "From: 32.717596,34.968597 - to: 32.713239,34.970693\n",
      "Start coords: (32.717596, 34.968597)\n",
      "End coords: (32.713239, 34.970693)\n",
      "Time 0.43 minutes, distance 0.53 km.\n"
     ]
    },
    {
     "name": "stdout",
     "output_type": "stream",
     "text": [
      "10\n",
      "26.0\n",
      "110\n"
     ]
    },
    {
     "name": "stderr",
     "output_type": "stream",
     "text": [
      "From: 32.713239,34.970693 - to: 32.710042,34.970338\n",
      "Start coords: (32.713239, 34.970693)\n",
      "End coords: (32.710042, 34.970338)\n",
      "Time 0.43 minutes, distance 0.36 km.\n"
     ]
    },
    {
     "name": "stdout",
     "output_type": "stream",
     "text": [
      "11\n",
      "26.0\n",
      "111\n"
     ]
    },
    {
     "name": "stderr",
     "output_type": "stream",
     "text": [
      "From: 32.710042,34.970338 - to: 32.702365,34.968957\n",
      "Start coords: (32.710042, 34.970338)\n",
      "End coords: (32.702365, 34.968957)\n",
      "Time 0.72 minutes, distance 0.86 km.\n"
     ]
    },
    {
     "name": "stdout",
     "output_type": "stream",
     "text": [
      "12\n",
      "43.0\n",
      "112\n"
     ]
    },
    {
     "name": "stderr",
     "output_type": "stream",
     "text": [
      "From: 32.702365,34.968957 - to: 32.676436,34.96162\n",
      "Start coords: (32.702365, 34.968957)\n",
      "End coords: (32.676436, 34.96162)\n",
      "Time 2.17 minutes, distance 2.98 km.\n"
     ]
    },
    {
     "name": "stdout",
     "output_type": "stream",
     "text": [
      "13\n",
      "130.0\n",
      "113\n"
     ]
    },
    {
     "name": "stderr",
     "output_type": "stream",
     "text": [
      "From: 32.676436,34.96162 - to: 32.662089,34.960079\n",
      "Start coords: (32.676436, 34.96162)\n",
      "End coords: (32.662089, 34.960079)\n",
      "Time 1.15 minutes, distance 1.60 km.\n"
     ]
    },
    {
     "name": "stdout",
     "output_type": "stream",
     "text": [
      "14\n",
      "69.0\n",
      "114\n"
     ]
    },
    {
     "name": "stderr",
     "output_type": "stream",
     "text": [
      "From: 32.662089,34.960079 - to: 32.647133,34.958825\n",
      "Start coords: (32.662089, 34.960079)\n",
      "End coords: (32.647133, 34.958825)\n",
      "Time 1.23 minutes, distance 1.66 km.\n"
     ]
    },
    {
     "name": "stdout",
     "output_type": "stream",
     "text": [
      "15\n",
      "74.0\n",
      "115\n"
     ]
    },
    {
     "name": "stderr",
     "output_type": "stream",
     "text": [
      "From: 32.647133,34.958825 - to: 32.642367,34.958627\n",
      "Start coords: (32.647133, 34.958825)\n",
      "End coords: (32.642367, 34.958627)\n",
      "Time 0.40 minutes, distance 0.53 km.\n"
     ]
    },
    {
     "name": "stdout",
     "output_type": "stream",
     "text": [
      "16\n",
      "24.0\n",
      "116\n"
     ]
    },
    {
     "name": "stderr",
     "output_type": "stream",
     "text": [
      "From: 32.642367,34.958627 - to: 32.639184,34.958505\n",
      "Start coords: (32.642367, 34.958627)\n",
      "End coords: (32.639184, 34.958505)\n",
      "Time 0.32 minutes, distance 0.35 km.\n"
     ]
    },
    {
     "name": "stdout",
     "output_type": "stream",
     "text": [
      "17\n",
      "19.0\n",
      "117\n"
     ]
    },
    {
     "name": "stderr",
     "output_type": "stream",
     "text": [
      "From: 32.639184,34.958505 - to: 32.628246,34.957538\n",
      "Start coords: (32.639184, 34.958505)\n",
      "End coords: (32.628246, 34.957538)\n",
      "Time 1.03 minutes, distance 1.21 km.\n"
     ]
    },
    {
     "name": "stdout",
     "output_type": "stream",
     "text": [
      "18\n",
      "62.00000000000001\n",
      "118\n"
     ]
    },
    {
     "name": "stderr",
     "output_type": "stream",
     "text": [
      "From: 32.628246,34.957538 - to: 32.619035,34.955474\n",
      "Start coords: (32.628246, 34.957538)\n",
      "End coords: (32.619035, 34.955474)\n",
      "Time 0.75 minutes, distance 1.04 km.\n"
     ]
    },
    {
     "name": "stdout",
     "output_type": "stream",
     "text": [
      "19\n",
      "45.0\n",
      "119\n"
     ]
    },
    {
     "name": "stderr",
     "output_type": "stream",
     "text": [
      "From: 32.619035,34.955474 - to: 32.605658,34.952011\n",
      "Start coords: (32.619035, 34.955474)\n",
      "End coords: (32.605658, 34.952011)\n",
      "Time 1.17 minutes, distance 1.52 km.\n"
     ]
    },
    {
     "name": "stdout",
     "output_type": "stream",
     "text": [
      "20\n",
      "70.0\n",
      "120\n"
     ]
    },
    {
     "name": "stderr",
     "output_type": "stream",
     "text": [
      "From: 32.605658,34.952011 - to: 32.595734,34.949146\n",
      "Start coords: (32.605658, 34.952011)\n",
      "End coords: (32.595734, 34.949146)\n",
      "Time 1.32 minutes, distance 1.15 km.\n"
     ]
    },
    {
     "name": "stdout",
     "output_type": "stream",
     "text": [
      "21\n",
      "79.0\n",
      "121\n"
     ]
    },
    {
     "name": "stderr",
     "output_type": "stream",
     "text": [
      "From: 32.595734,34.949146 - to: 32.591639,34.946468\n",
      "Start coords: (32.595734, 34.949146)\n",
      "End coords: (32.591639, 34.946468)\n",
      "Time 1.95 minutes, distance 0.76 km.\n"
     ]
    },
    {
     "name": "stdout",
     "output_type": "stream",
     "text": [
      "22\n",
      "117.0\n",
      "122\n"
     ]
    },
    {
     "name": "stderr",
     "output_type": "stream",
     "text": [
      "From: 32.591639,34.946468 - to: 32.575448,34.938832\n",
      "Start coords: (32.591639, 34.946468)\n",
      "End coords: (32.575448, 34.938832)\n",
      "Time 1.27 minutes, distance 1.95 km.\n"
     ]
    },
    {
     "name": "stdout",
     "output_type": "stream",
     "text": [
      "23\n",
      "76.0\n",
      "123\n"
     ]
    },
    {
     "name": "stderr",
     "output_type": "stream",
     "text": [
      "From: 32.575448,34.938832 - to: 32.571108,34.937372\n",
      "Start coords: (32.575448, 34.938832)\n",
      "End coords: (32.571108, 34.937372)\n",
      "Time 0.53 minutes, distance 0.47 km.\n"
     ]
    },
    {
     "name": "stdout",
     "output_type": "stream",
     "text": [
      "24\n",
      "32.0\n",
      "124\n"
     ]
    },
    {
     "name": "stderr",
     "output_type": "stream",
     "text": [
      "From: 32.571108,34.937372 - to: 32.568084,34.936196\n",
      "Start coords: (32.571108, 34.937372)\n",
      "End coords: (32.568084, 34.936196)\n",
      "Time 0.38 minutes, distance 0.35 km.\n"
     ]
    },
    {
     "name": "stdout",
     "output_type": "stream",
     "text": [
      "25\n",
      "23.0\n",
      "125\n"
     ]
    },
    {
     "name": "stderr",
     "output_type": "stream",
     "text": [
      "From: 32.568084,34.936196 - to: 32.556372,34.931537\n",
      "Start coords: (32.568084, 34.936196)\n",
      "End coords: (32.556372, 34.931537)\n",
      "Time 0.87 minutes, distance 1.37 km.\n"
     ]
    },
    {
     "name": "stdout",
     "output_type": "stream",
     "text": [
      "26\n",
      "52.0\n",
      "126\n"
     ]
    },
    {
     "name": "stderr",
     "output_type": "stream",
     "text": [
      "From: 32.556372,34.931537 - to: 32.533345,34.928702\n",
      "Start coords: (32.556372, 34.931537)\n",
      "End coords: (32.533345, 34.928702)\n",
      "Time 1.88 minutes, distance 2.62 km.\n"
     ]
    },
    {
     "name": "stdout",
     "output_type": "stream",
     "text": [
      "27\n",
      "113.0\n",
      "127\n"
     ]
    },
    {
     "name": "stderr",
     "output_type": "stream",
     "text": [
      "From: 32.533345,34.928702 - to: 32.523128,34.929403\n",
      "Start coords: (32.533345, 34.928702)\n",
      "End coords: (32.523128, 34.929403)\n",
      "Time 1.65 minutes, distance 1.13 km.\n"
     ]
    },
    {
     "name": "stdout",
     "output_type": "stream",
     "text": [
      "28\n",
      "99.0\n",
      "128\n"
     ]
    },
    {
     "name": "stderr",
     "output_type": "stream",
     "text": [
      "From: 32.523128,34.929403 - to: 32.516826,34.929888\n",
      "Start coords: (32.523128, 34.929403)\n",
      "End coords: (32.516826, 34.929888)\n",
      "Time 3.95 minutes, distance 2.19 km.\n"
     ]
    },
    {
     "name": "stdout",
     "output_type": "stream",
     "text": [
      "29\n",
      "237.0\n",
      "129\n"
     ]
    },
    {
     "name": "stderr",
     "output_type": "stream",
     "text": [
      "From: 32.516826,34.929888 - to: 32.500294,34.927745\n",
      "Start coords: (32.516826, 34.929888)\n",
      "End coords: (32.500294, 34.927745)\n",
      "Time 1.65 minutes, distance 1.88 km.\n"
     ]
    },
    {
     "name": "stdout",
     "output_type": "stream",
     "text": [
      "30\n",
      "99.0\n",
      "130\n"
     ]
    },
    {
     "name": "stderr",
     "output_type": "stream",
     "text": [
      "From: 32.500294,34.927745 - to: 32.479664,34.91953\n",
      "Start coords: (32.500294, 34.927745)\n",
      "End coords: (32.479664, 34.91953)\n",
      "Time 1.90 minutes, distance 2.41 km.\n"
     ]
    },
    {
     "name": "stdout",
     "output_type": "stream",
     "text": [
      "31\n",
      "114.0\n",
      "131\n"
     ]
    },
    {
     "name": "stderr",
     "output_type": "stream",
     "text": [
      "From: 32.479664,34.91953 - to: 32.464412,34.912191\n",
      "Start coords: (32.479664, 34.91953)\n",
      "End coords: (32.464412, 34.912191)\n",
      "Time 2.40 minutes, distance 1.92 km.\n"
     ]
    },
    {
     "name": "stdout",
     "output_type": "stream",
     "text": [
      "32\n",
      "144.0\n",
      "132\n"
     ]
    },
    {
     "name": "stderr",
     "output_type": "stream",
     "text": [
      "From: 32.464412,34.912191 - to: 32.457375,34.9071\n",
      "Start coords: (32.464412, 34.912191)\n",
      "End coords: (32.457375, 34.9071)\n",
      "Time 0.75 minutes, distance 0.91 km.\n"
     ]
    },
    {
     "name": "stdout",
     "output_type": "stream",
     "text": [
      "33\n",
      "45.0\n",
      "133\n"
     ]
    },
    {
     "name": "stderr",
     "output_type": "stream",
     "text": [
      "From: 32.457375,34.9071 - to: 32.454646,34.907116\n",
      "Start coords: (32.457375, 34.9071)\n",
      "End coords: (32.454646, 34.907116)\n",
      "Time 0.35 minutes, distance 0.30 km.\n"
     ]
    },
    {
     "name": "stdout",
     "output_type": "stream",
     "text": [
      "34\n",
      "21.0\n",
      "134\n"
     ]
    },
    {
     "name": "stderr",
     "output_type": "stream",
     "text": [
      "From: 32.454646,34.907116 - to: 32.450906,34.90867\n",
      "Start coords: (32.454646, 34.907116)\n",
      "End coords: (32.450906, 34.90867)\n",
      "Time 0.42 minutes, distance 0.44 km.\n"
     ]
    },
    {
     "name": "stdout",
     "output_type": "stream",
     "text": [
      "35\n",
      "25.0\n",
      "135\n"
     ]
    },
    {
     "name": "stderr",
     "output_type": "stream",
     "text": [
      "From: 32.450906,34.90867 - to: 32.446689,34.910224\n",
      "Start coords: (32.450906, 34.90867)\n",
      "End coords: (32.446689, 34.910224)\n",
      "Time 0.62 minutes, distance 0.49 km.\n"
     ]
    },
    {
     "name": "stdout",
     "output_type": "stream",
     "text": [
      "36\n",
      "37.0\n",
      "136\n"
     ]
    },
    {
     "name": "stderr",
     "output_type": "stream",
     "text": [
      "From: 32.446689,34.910224 - to: 32.441755,34.910952\n",
      "Start coords: (32.446689, 34.910224)\n",
      "End coords: (32.441755, 34.910952)\n",
      "Time 0.75 minutes, distance 0.56 km.\n"
     ]
    },
    {
     "name": "stdout",
     "output_type": "stream",
     "text": [
      "37\n",
      "45.0\n",
      "137\n"
     ]
    },
    {
     "name": "stderr",
     "output_type": "stream",
     "text": [
      "From: 32.441755,34.910952 - to: 32.438209,34.911987\n",
      "Start coords: (32.441755, 34.910952)\n",
      "End coords: (32.438209, 34.911987)\n",
      "Time 2.28 minutes, distance 0.53 km.\n"
     ]
    },
    {
     "name": "stdout",
     "output_type": "stream",
     "text": [
      "38\n",
      "137.0\n",
      "138\n"
     ]
    },
    {
     "name": "stderr",
     "output_type": "stream",
     "text": [
      "From: 32.438209,34.911987 - to: 32.435324,34.914147\n",
      "Start coords: (32.438209, 34.911987)\n",
      "End coords: (32.435324, 34.914147)\n",
      "Time 2.88 minutes, distance 1.01 km.\n"
     ]
    },
    {
     "name": "stdout",
     "output_type": "stream",
     "text": [
      "39\n",
      "173.0\n",
      "139\n"
     ]
    },
    {
     "name": "stderr",
     "output_type": "stream",
     "text": [
      "From: 32.435324,34.914147 - to: 32.435962,34.914021\n",
      "Start coords: (32.435324, 34.914147)\n",
      "End coords: (32.435962, 34.914021)\n",
      "Time 0.55 minutes, distance 0.11 km.\n"
     ]
    },
    {
     "name": "stdout",
     "output_type": "stream",
     "text": [
      "40\n",
      "33.0\n",
      "140\n"
     ]
    },
    {
     "name": "stderr",
     "output_type": "stream",
     "text": [
      "From: 32.435962,34.914021 - to: 32.432762,34.909369\n",
      "Start coords: (32.435962, 34.914021)\n",
      "End coords: (32.432762, 34.909369)\n",
      "Time 3.48 minutes, distance 1.29 km.\n"
     ]
    },
    {
     "name": "stdout",
     "output_type": "stream",
     "text": [
      "41\n",
      "209.0\n",
      "141\n"
     ]
    },
    {
     "name": "stderr",
     "output_type": "stream",
     "text": [
      "From: 32.432762,34.909369 - to: 32.40895,34.903447\n",
      "Start coords: (32.432762, 34.909369)\n",
      "End coords: (32.40895, 34.903447)\n",
      "Time 2.02 minutes, distance 2.70 km.\n"
     ]
    },
    {
     "name": "stdout",
     "output_type": "stream",
     "text": [
      "42\n",
      "121.0\n",
      "142\n"
     ]
    },
    {
     "name": "stderr",
     "output_type": "stream",
     "text": [
      "From: 32.40895,34.903447 - to: 32.400004,34.903026\n",
      "Start coords: (32.40895, 34.903447)\n",
      "End coords: (32.400004, 34.903026)\n",
      "Time 0.90 minutes, distance 0.99 km.\n"
     ]
    },
    {
     "name": "stdout",
     "output_type": "stream",
     "text": [
      "43\n",
      "54.0\n",
      "143\n"
     ]
    },
    {
     "name": "stderr",
     "output_type": "stream",
     "text": [
      "From: 32.400004,34.903026 - to: 32.392873,34.903167\n",
      "Start coords: (32.400004, 34.903026)\n",
      "End coords: (32.392873, 34.903167)\n",
      "Time 0.77 minutes, distance 0.79 km.\n"
     ]
    },
    {
     "name": "stdout",
     "output_type": "stream",
     "text": [
      "44\n",
      "46.0\n",
      "144\n"
     ]
    },
    {
     "name": "stderr",
     "output_type": "stream",
     "text": [
      "From: 32.392873,34.903167 - to: 32.378766,34.907664\n",
      "Start coords: (32.392873, 34.903167)\n",
      "End coords: (32.378766, 34.907664)\n",
      "Time 1.12 minutes, distance 1.62 km.\n"
     ]
    },
    {
     "name": "stdout",
     "output_type": "stream",
     "text": [
      "45\n",
      "67.0\n",
      "145\n"
     ]
    },
    {
     "name": "stderr",
     "output_type": "stream",
     "text": [
      "From: 32.378766,34.907664 - to: 32.373139,34.908841\n",
      "Start coords: (32.378766, 34.907664)\n",
      "End coords: (32.373139, 34.908841)\n",
      "Time 0.55 minutes, distance 0.63 km.\n"
     ]
    },
    {
     "name": "stdout",
     "output_type": "stream",
     "text": [
      "46\n",
      "33.0\n",
      "146\n"
     ]
    },
    {
     "name": "stderr",
     "output_type": "stream",
     "text": [
      "From: 32.373139,34.908841 - to: 32.364299,34.90753\n",
      "Start coords: (32.373139, 34.908841)\n",
      "End coords: (32.364299, 34.90753)\n",
      "Time 0.77 minutes, distance 0.99 km.\n"
     ]
    },
    {
     "name": "stdout",
     "output_type": "stream",
     "text": [
      "47\n",
      "46.0\n",
      "147\n"
     ]
    },
    {
     "name": "stderr",
     "output_type": "stream",
     "text": [
      "From: 32.364299,34.90753 - to: 32.358205,34.906876\n",
      "Start coords: (32.364299, 34.90753)\n",
      "End coords: (32.358205, 34.906876)\n",
      "Time 1.35 minutes, distance 0.89 km.\n"
     ]
    },
    {
     "name": "stdout",
     "output_type": "stream",
     "text": [
      "48\n",
      "81.0\n",
      "148\n"
     ]
    },
    {
     "name": "stderr",
     "output_type": "stream",
     "text": [
      "From: 32.358205,34.906876 - to: 32.357114,34.908334\n",
      "Start coords: (32.358205, 34.906876)\n",
      "End coords: (32.357114, 34.908334)\n",
      "Time 0.42 minutes, distance 0.28 km.\n"
     ]
    },
    {
     "name": "stdout",
     "output_type": "stream",
     "text": [
      "49\n",
      "25.0\n",
      "149\n"
     ]
    },
    {
     "name": "stderr",
     "output_type": "stream",
     "text": [
      "From: 32.357114,34.908334 - to: 32.344205,34.907781\n",
      "Start coords: (32.357114, 34.908334)\n",
      "End coords: (32.344205, 34.907781)\n",
      "Time 1.27 minutes, distance 1.43 km.\n"
     ]
    },
    {
     "name": "stdout",
     "output_type": "stream",
     "text": [
      "50\n",
      "76.0\n",
      "150\n"
     ]
    },
    {
     "name": "stderr",
     "output_type": "stream",
     "text": [
      "From: 32.344205,34.907781 - to: 32.321146,34.903693\n",
      "Start coords: (32.344205, 34.907781)\n",
      "End coords: (32.321146, 34.903693)\n",
      "Time 2.25 minutes, distance 2.59 km.\n"
     ]
    },
    {
     "name": "stdout",
     "output_type": "stream",
     "text": [
      "51\n",
      "135.0\n",
      "151\n"
     ]
    },
    {
     "name": "stderr",
     "output_type": "stream",
     "text": [
      "From: 32.321146,34.903693 - to: 32.304107,34.900468\n",
      "Start coords: (32.321146, 34.903693)\n",
      "End coords: (32.304107, 34.900468)\n",
      "Time 1.60 minutes, distance 1.91 km.\n"
     ]
    },
    {
     "name": "stdout",
     "output_type": "stream",
     "text": [
      "52\n",
      "96.0\n",
      "152\n"
     ]
    },
    {
     "name": "stderr",
     "output_type": "stream",
     "text": [
      "From: 32.304107,34.900468 - to: 32.28275,34.896439\n",
      "Start coords: (32.304107, 34.900468)\n",
      "End coords: (32.28275, 34.896439)\n",
      "Time 1.97 minutes, distance 2.40 km.\n"
     ]
    },
    {
     "name": "stdout",
     "output_type": "stream",
     "text": [
      "53\n",
      "118.0\n",
      "153\n"
     ]
    },
    {
     "name": "stderr",
     "output_type": "stream",
     "text": [
      "From: 32.28275,34.896439 - to: 32.275284,34.895065\n",
      "Start coords: (32.28275, 34.896439)\n",
      "End coords: (32.275284, 34.895065)\n",
      "Time 0.50 minutes, distance 0.74 km.\n"
     ]
    },
    {
     "name": "stdout",
     "output_type": "stream",
     "text": [
      "54\n",
      "30.0\n",
      "154\n"
     ]
    },
    {
     "name": "stderr",
     "output_type": "stream",
     "text": [
      "From: 32.275284,34.895065 - to: 32.268669,34.893805\n",
      "Start coords: (32.275284, 34.895065)\n",
      "End coords: (32.268669, 34.893805)\n",
      "Time 0.47 minutes, distance 0.74 km.\n"
     ]
    },
    {
     "name": "stdout",
     "output_type": "stream",
     "text": [
      "55\n",
      "28.0\n",
      "155\n"
     ]
    },
    {
     "name": "stderr",
     "output_type": "stream",
     "text": [
      "From: 32.268669,34.893805 - to: 32.254064,34.88915\n",
      "Start coords: (32.268669, 34.893805)\n",
      "End coords: (32.254064, 34.88915)\n",
      "Time 5.72 minutes, distance 5.11 km.\n"
     ]
    },
    {
     "name": "stdout",
     "output_type": "stream",
     "text": [
      "56\n",
      "343.0\n",
      "156\n"
     ]
    },
    {
     "name": "stderr",
     "output_type": "stream",
     "text": [
      "From: 32.254064,34.88915 - to: 32.239492,34.886062\n",
      "Start coords: (32.254064, 34.88915)\n",
      "End coords: (32.239492, 34.886062)\n",
      "Time 1.20 minutes, distance 1.68 km.\n"
     ]
    },
    {
     "name": "stdout",
     "output_type": "stream",
     "text": [
      "57\n",
      "72.0\n",
      "157\n"
     ]
    },
    {
     "name": "stderr",
     "output_type": "stream",
     "text": [
      "From: 32.239492,34.886062 - to: 32.234942,34.88462\n",
      "Start coords: (32.239492, 34.886062)\n",
      "End coords: (32.234942, 34.88462)\n",
      "Time 0.55 minutes, distance 0.52 km.\n"
     ]
    },
    {
     "name": "stdout",
     "output_type": "stream",
     "text": [
      "58\n",
      "33.0\n",
      "158\n"
     ]
    },
    {
     "name": "stderr",
     "output_type": "stream",
     "text": [
      "From: 32.234942,34.88462 - to: 32.218431,34.883157\n",
      "Start coords: (32.234942, 34.88462)\n",
      "End coords: (32.218431, 34.883157)\n",
      "Time 1.28 minutes, distance 1.85 km.\n"
     ]
    },
    {
     "name": "stdout",
     "output_type": "stream",
     "text": [
      "59\n",
      "77.0\n",
      "159\n"
     ]
    },
    {
     "name": "stderr",
     "output_type": "stream",
     "text": [
      "From: 32.218431,34.883157 - to: 32.209417,34.883706\n",
      "Start coords: (32.218431, 34.883157)\n",
      "End coords: (32.209417, 34.883706)\n",
      "Time 0.63 minutes, distance 1.00 km.\n"
     ]
    },
    {
     "name": "stdout",
     "output_type": "stream",
     "text": [
      "60\n",
      "38.0\n",
      "160\n"
     ]
    },
    {
     "name": "stderr",
     "output_type": "stream",
     "text": [
      "From: 32.209417,34.883706 - to: 32.190754,34.887242\n",
      "Start coords: (32.209417, 34.883706)\n",
      "End coords: (32.190754, 34.887242)\n",
      "Time 2.63 minutes, distance 2.15 km.\n"
     ]
    },
    {
     "name": "stdout",
     "output_type": "stream",
     "text": [
      "61\n",
      "158.0\n",
      "161\n"
     ]
    },
    {
     "name": "stderr",
     "output_type": "stream",
     "text": [
      "From: 32.190754,34.887242 - to: 32.175756,34.890738\n",
      "Start coords: (32.190754, 34.887242)\n",
      "End coords: (32.175756, 34.890738)\n",
      "Time 2.77 minutes, distance 1.90 km.\n"
     ]
    },
    {
     "name": "stdout",
     "output_type": "stream",
     "text": [
      "62\n",
      "166.0\n",
      "162\n"
     ]
    },
    {
     "name": "stderr",
     "output_type": "stream",
     "text": [
      "From: 32.175756,34.890738 - to: 32.155104,34.894483\n",
      "Start coords: (32.175756, 34.890738)\n",
      "End coords: (32.155104, 34.894483)\n",
      "Time 5.20 minutes, distance 2.38 km.\n"
     ]
    },
    {
     "name": "stdout",
     "output_type": "stream",
     "text": [
      "63\n",
      "312.0\n",
      "163\n"
     ]
    },
    {
     "name": "stderr",
     "output_type": "stream",
     "text": [
      "From: 32.155104,34.894483 - to: 32.14303,34.894369\n",
      "Start coords: (32.155104, 34.894483)\n",
      "End coords: (32.14303, 34.894369)\n",
      "Time 2.38 minutes, distance 1.34 km.\n"
     ]
    },
    {
     "name": "stdout",
     "output_type": "stream",
     "text": [
      "64\n",
      "143.0\n",
      "164\n"
     ]
    },
    {
     "name": "stderr",
     "output_type": "stream",
     "text": [
      "From: 32.14303,34.894369 - to: 32.137306,34.896274\n",
      "Start coords: (32.14303, 34.894369)\n",
      "End coords: (32.137306, 34.896274)\n",
      "Time 0.87 minutes, distance 0.68 km.\n"
     ]
    },
    {
     "name": "stdout",
     "output_type": "stream",
     "text": [
      "65\n",
      "52.0\n",
      "165\n"
     ]
    },
    {
     "name": "stderr",
     "output_type": "stream",
     "text": [
      "From: 32.137306,34.896274 - to: 32.132375,34.89996\n",
      "Start coords: (32.137306, 34.896274)\n",
      "End coords: (32.132375, 34.89996)\n",
      "Time 1.27 minutes, distance 0.65 km.\n"
     ]
    },
    {
     "name": "stdout",
     "output_type": "stream",
     "text": [
      "66\n",
      "76.0\n",
      "166\n"
     ]
    },
    {
     "name": "stderr",
     "output_type": "stream",
     "text": [
      "From: 32.132375,34.89996 - to: 32.119907,34.903229\n",
      "Start coords: (32.132375, 34.89996)\n",
      "End coords: (32.119907, 34.903229)\n",
      "Time 1.97 minutes, distance 1.49 km.\n"
     ]
    },
    {
     "name": "stdout",
     "output_type": "stream",
     "text": [
      "67\n",
      "118.0\n",
      "167\n"
     ]
    },
    {
     "name": "stderr",
     "output_type": "stream",
     "text": [
      "From: 32.119907,34.903229 - to: 32.101597,34.89757\n",
      "Start coords: (32.119907, 34.903229)\n",
      "End coords: (32.101597, 34.89757)\n",
      "Time 2.77 minutes, distance 2.13 km.\n"
     ]
    },
    {
     "name": "stdout",
     "output_type": "stream",
     "text": [
      "68\n",
      "166.0\n",
      "168\n"
     ]
    },
    {
     "name": "stderr",
     "output_type": "stream",
     "text": [
      "From: 32.101597,34.89757 - to: 32.09914,34.895905\n",
      "Start coords: (32.101597, 34.89757)\n",
      "End coords: (32.09914, 34.895905)\n",
      "Time 0.52 minutes, distance 0.32 km.\n"
     ]
    },
    {
     "name": "stdout",
     "output_type": "stream",
     "text": [
      "69\n",
      "31.000000000000004\n",
      "169\n"
     ]
    },
    {
     "name": "stderr",
     "output_type": "stream",
     "text": [
      "From: 32.09914,34.895905 - to: 32.094807,34.886466\n",
      "Start coords: (32.09914, 34.895905)\n",
      "End coords: (32.094807, 34.886466)\n",
      "Time 2.90 minutes, distance 1.03 km.\n"
     ]
    },
    {
     "name": "stdout",
     "output_type": "stream",
     "text": [
      "70\n",
      "174.0\n",
      "170\n"
     ]
    },
    {
     "name": "stderr",
     "output_type": "stream",
     "text": [
      "From: 32.094807,34.886466 - to: 32.091798,34.865101\n",
      "Start coords: (32.094807, 34.886466)\n",
      "End coords: (32.091798, 34.865101)\n",
      "Time 4.43 minutes, distance 2.13 km.\n"
     ]
    },
    {
     "name": "stdout",
     "output_type": "stream",
     "text": [
      "71\n",
      "266.0\n",
      "171\n"
     ]
    },
    {
     "name": "stderr",
     "output_type": "stream",
     "text": [
      "From: 32.091798,34.865101 - to: 32.092482,34.857247\n",
      "Start coords: (32.091798, 34.865101)\n",
      "End coords: (32.092482, 34.857247)\n",
      "Time 2.23 minutes, distance 0.74 km.\n"
     ]
    },
    {
     "name": "stdout",
     "output_type": "stream",
     "text": [
      "72\n",
      "134.0\n",
      "172\n"
     ]
    },
    {
     "name": "stderr",
     "output_type": "stream",
     "text": [
      "From: 32.092482,34.857247 - to: 32.092807,34.847935\n",
      "Start coords: (32.092482, 34.857247)\n",
      "End coords: (32.092807, 34.847935)\n",
      "Time 1.55 minutes, distance 0.88 km.\n"
     ]
    },
    {
     "name": "stdout",
     "output_type": "stream",
     "text": [
      "73\n",
      "93.0\n",
      "173\n"
     ]
    },
    {
     "name": "stderr",
     "output_type": "stream",
     "text": [
      "From: 32.092807,34.847935 - to: 32.092866,34.836946\n",
      "Start coords: (32.092807, 34.847935)\n",
      "End coords: (32.092866, 34.836946)\n",
      "Time 8.48 minutes, distance 1.04 km.\n"
     ]
    },
    {
     "name": "stdout",
     "output_type": "stream",
     "text": [
      "74\n",
      "508.99999999999994\n",
      "174\n"
     ]
    },
    {
     "name": "stderr",
     "output_type": "stream",
     "text": [
      "From: 32.092866,34.836946 - to: 32.091728,34.826477\n",
      "Start coords: (32.092866, 34.836946)\n",
      "End coords: (32.091728, 34.826477)\n",
      "Time 1.72 minutes, distance 1.01 km.\n"
     ]
    },
    {
     "name": "stdout",
     "output_type": "stream",
     "text": [
      "75\n",
      "103.0\n",
      "175\n"
     ]
    },
    {
     "name": "stderr",
     "output_type": "stream",
     "text": [
      "From: 32.091728,34.826477 - to: 32.085293,34.810136\n",
      "Start coords: (32.091728, 34.826477)\n",
      "End coords: (32.085293, 34.810136)\n",
      "Time 4.03 minutes, distance 1.71 km.\n"
     ]
    },
    {
     "name": "stdout",
     "output_type": "stream",
     "text": [
      "76\n",
      "242.0\n",
      "176\n"
     ]
    },
    {
     "name": "stderr",
     "output_type": "stream",
     "text": [
      "From: 32.085293,34.810136 - to: 32.083677,34.806421\n",
      "Start coords: (32.085293, 34.810136)\n",
      "End coords: (32.083677, 34.806421)\n",
      "Time 0.78 minutes, distance 0.40 km.\n"
     ]
    },
    {
     "name": "stdout",
     "output_type": "stream",
     "text": [
      "77\n",
      "47.0\n",
      "177\n"
     ]
    },
    {
     "name": "stderr",
     "output_type": "stream",
     "text": [
      "From: 32.083677,34.806421 - to: 32.079838,34.794882\n",
      "Start coords: (32.083677, 34.806421)\n",
      "End coords: (32.079838, 34.794882)\n",
      "Time 3.77 minutes, distance 1.60 km.\n"
     ]
    },
    {
     "name": "stdout",
     "output_type": "stream",
     "text": [
      "78\n",
      "226.0\n",
      "178\n"
     ]
    },
    {
     "name": "stderr",
     "output_type": "stream",
     "text": [
      "From: 32.079838,34.794882 - to: 32.074914,34.790734\n",
      "Start coords: (32.079838, 34.794882)\n",
      "End coords: (32.074914, 34.790734)\n",
      "Time 1.37 minutes, distance 0.69 km.\n"
     ]
    },
    {
     "name": "stdout",
     "output_type": "stream",
     "text": [
      "79\n",
      "82.0\n",
      "179\n"
     ]
    },
    {
     "name": "stderr",
     "output_type": "stream",
     "text": [
      "From: 32.074914,34.790734 - to: 32.06123,34.784594\n",
      "Start coords: (32.074914, 34.790734)\n",
      "End coords: (32.06123, 34.784594)\n",
      "Time 4.17 minutes, distance 1.62 km.\n"
     ]
    },
    {
     "name": "stdout",
     "output_type": "stream",
     "text": [
      "80\n",
      "250.00000000000003\n",
      "180\n"
     ]
    },
    {
     "name": "stderr",
     "output_type": "stream",
     "text": [
      "From: 32.06123,34.784594 - to: 32.055636,34.780466\n",
      "Start coords: (32.06123, 34.784594)\n",
      "End coords: (32.055636, 34.780466)\n",
      "Time 2.28 minutes, distance 1.07 km.\n"
     ]
    },
    {
     "name": "stdout",
     "output_type": "stream",
     "text": [
      "81\n",
      "137.0\n",
      "181\n"
     ]
    },
    {
     "name": "stderr",
     "output_type": "stream",
     "text": [
      "From: 32.793372,34.958985 - to: 32.789609,34.962117\n",
      "Start coords: (32.793372, 34.958985)\n",
      "End coords: (32.789609, 34.962117)\n",
      "Time 1.63 minutes, distance 0.93 km.\n"
     ]
    },
    {
     "name": "stdout",
     "output_type": "stream",
     "text": [
      "0\n",
      "98.0\n",
      "200\n"
     ]
    },
    {
     "name": "stderr",
     "output_type": "stream",
     "text": [
      "From: 32.789609,34.962117 - to: 32.78459,34.962626\n",
      "Start coords: (32.789609, 34.962117)\n",
      "End coords: (32.78459, 34.962626)\n",
      "Time 0.65 minutes, distance 0.56 km.\n"
     ]
    },
    {
     "name": "stdout",
     "output_type": "stream",
     "text": [
      "1\n",
      "39.0\n",
      "201\n"
     ]
    },
    {
     "name": "stderr",
     "output_type": "stream",
     "text": [
      "From: 32.78459,34.962626 - to: 32.781207,34.962876\n",
      "Start coords: (32.78459, 34.962626)\n",
      "End coords: (32.781207, 34.962876)\n",
      "Time 0.28 minutes, distance 0.38 km.\n"
     ]
    },
    {
     "name": "stdout",
     "output_type": "stream",
     "text": [
      "2\n",
      "17.0\n",
      "202\n"
     ]
    },
    {
     "name": "stderr",
     "output_type": "stream",
     "text": [
      "From: 32.781207,34.962876 - to: 32.772031,34.962995\n",
      "Start coords: (32.781207, 34.962876)\n",
      "End coords: (32.772031, 34.962995)\n",
      "Time 1.72 minutes, distance 1.92 km.\n"
     ]
    },
    {
     "name": "stdout",
     "output_type": "stream",
     "text": [
      "3\n",
      "103.0\n",
      "203\n"
     ]
    },
    {
     "name": "stderr",
     "output_type": "stream",
     "text": [
      "From: 32.772031,34.962995 - to: 32.764238,34.961821\n",
      "Start coords: (32.772031, 34.962995)\n",
      "End coords: (32.764238, 34.961821)\n",
      "Time 0.55 minutes, distance 0.87 km.\n"
     ]
    },
    {
     "name": "stdout",
     "output_type": "stream",
     "text": [
      "4\n",
      "33.0\n",
      "204\n"
     ]
    },
    {
     "name": "stderr",
     "output_type": "stream",
     "text": [
      "From: 32.764238,34.961821 - to: 32.759921,34.961275\n",
      "Start coords: (32.764238, 34.961821)\n",
      "End coords: (32.759921, 34.961275)\n",
      "Time 0.37 minutes, distance 0.48 km.\n"
     ]
    },
    {
     "name": "stdout",
     "output_type": "stream",
     "text": [
      "5\n",
      "22.0\n",
      "205\n"
     ]
    },
    {
     "name": "stderr",
     "output_type": "stream",
     "text": [
      "From: 32.759921,34.961275 - to: 32.752365,34.962668\n",
      "Start coords: (32.759921, 34.961275)\n",
      "End coords: (32.752365, 34.962668)\n",
      "Time 0.78 minutes, distance 0.85 km.\n"
     ]
    },
    {
     "name": "stdout",
     "output_type": "stream",
     "text": [
      "6\n",
      "47.0\n",
      "206\n"
     ]
    },
    {
     "name": "stderr",
     "output_type": "stream",
     "text": [
      "From: 32.752365,34.962668 - to: 32.737043,34.966128\n",
      "Start coords: (32.752365, 34.962668)\n",
      "End coords: (32.737043, 34.966128)\n",
      "Time 1.67 minutes, distance 1.75 km.\n"
     ]
    },
    {
     "name": "stdout",
     "output_type": "stream",
     "text": [
      "7\n",
      "100.0\n",
      "207\n"
     ]
    },
    {
     "name": "stderr",
     "output_type": "stream",
     "text": [
      "From: 32.737043,34.966128 - to: 32.725875,34.966216\n",
      "Start coords: (32.737043, 34.966128)\n",
      "End coords: (32.725875, 34.966216)\n",
      "Time 0.82 minutes, distance 1.24 km.\n"
     ]
    },
    {
     "name": "stdout",
     "output_type": "stream",
     "text": [
      "8\n",
      "49.0\n",
      "208\n"
     ]
    },
    {
     "name": "stderr",
     "output_type": "stream",
     "text": [
      "From: 32.725875,34.966216 - to: 32.717596,34.968597\n",
      "Start coords: (32.725875, 34.966216)\n",
      "End coords: (32.717596, 34.968597)\n",
      "Time 0.70 minutes, distance 0.96 km.\n"
     ]
    },
    {
     "name": "stdout",
     "output_type": "stream",
     "text": [
      "9\n",
      "42.0\n",
      "209\n"
     ]
    },
    {
     "name": "stderr",
     "output_type": "stream",
     "text": [
      "From: 32.717596,34.968597 - to: 32.713239,34.970693\n",
      "Start coords: (32.717596, 34.968597)\n",
      "End coords: (32.713239, 34.970693)\n",
      "Time 0.42 minutes, distance 0.53 km.\n"
     ]
    },
    {
     "name": "stdout",
     "output_type": "stream",
     "text": [
      "10\n",
      "25.0\n",
      "210\n"
     ]
    },
    {
     "name": "stderr",
     "output_type": "stream",
     "text": [
      "From: 32.713239,34.970693 - to: 32.710042,34.970338\n",
      "Start coords: (32.713239, 34.970693)\n",
      "End coords: (32.710042, 34.970338)\n",
      "Time 0.43 minutes, distance 0.36 km.\n"
     ]
    },
    {
     "name": "stdout",
     "output_type": "stream",
     "text": [
      "11\n",
      "26.0\n",
      "211\n"
     ]
    },
    {
     "name": "stderr",
     "output_type": "stream",
     "text": [
      "From: 32.710042,34.970338 - to: 32.702365,34.968957\n",
      "Start coords: (32.710042, 34.970338)\n",
      "End coords: (32.702365, 34.968957)\n",
      "Time 0.68 minutes, distance 0.86 km.\n"
     ]
    },
    {
     "name": "stdout",
     "output_type": "stream",
     "text": [
      "12\n",
      "41.0\n",
      "212\n"
     ]
    },
    {
     "name": "stderr",
     "output_type": "stream",
     "text": [
      "From: 32.702365,34.968957 - to: 32.676436,34.96162\n",
      "Start coords: (32.702365, 34.968957)\n",
      "End coords: (32.676436, 34.96162)\n",
      "Time 2.08 minutes, distance 2.98 km.\n"
     ]
    },
    {
     "name": "stdout",
     "output_type": "stream",
     "text": [
      "13\n",
      "125.00000000000001\n",
      "213\n"
     ]
    },
    {
     "name": "stderr",
     "output_type": "stream",
     "text": [
      "From: 32.676436,34.96162 - to: 32.662089,34.960079\n",
      "Start coords: (32.676436, 34.96162)\n",
      "End coords: (32.662089, 34.960079)\n",
      "Time 1.12 minutes, distance 1.60 km.\n"
     ]
    },
    {
     "name": "stdout",
     "output_type": "stream",
     "text": [
      "14\n",
      "67.0\n",
      "214\n"
     ]
    },
    {
     "name": "stderr",
     "output_type": "stream",
     "text": [
      "From: 32.662089,34.960079 - to: 32.647133,34.958825\n",
      "Start coords: (32.662089, 34.960079)\n",
      "End coords: (32.647133, 34.958825)\n",
      "Time 1.17 minutes, distance 1.66 km.\n"
     ]
    },
    {
     "name": "stdout",
     "output_type": "stream",
     "text": [
      "15\n",
      "70.0\n",
      "215\n"
     ]
    },
    {
     "name": "stderr",
     "output_type": "stream",
     "text": [
      "From: 32.647133,34.958825 - to: 32.642367,34.958627\n",
      "Start coords: (32.647133, 34.958825)\n",
      "End coords: (32.642367, 34.958627)\n",
      "Time 0.38 minutes, distance 0.53 km.\n"
     ]
    },
    {
     "name": "stdout",
     "output_type": "stream",
     "text": [
      "16\n",
      "23.0\n",
      "216\n"
     ]
    },
    {
     "name": "stderr",
     "output_type": "stream",
     "text": [
      "From: 32.642367,34.958627 - to: 32.639184,34.958505\n",
      "Start coords: (32.642367, 34.958627)\n",
      "End coords: (32.639184, 34.958505)\n",
      "Time 0.27 minutes, distance 0.35 km.\n"
     ]
    },
    {
     "name": "stdout",
     "output_type": "stream",
     "text": [
      "17\n",
      "16.0\n",
      "217\n"
     ]
    },
    {
     "name": "stderr",
     "output_type": "stream",
     "text": [
      "From: 32.639184,34.958505 - to: 32.628246,34.957538\n",
      "Start coords: (32.639184, 34.958505)\n",
      "End coords: (32.628246, 34.957538)\n",
      "Time 0.93 minutes, distance 1.21 km.\n"
     ]
    },
    {
     "name": "stdout",
     "output_type": "stream",
     "text": [
      "18\n",
      "56.0\n",
      "218\n"
     ]
    },
    {
     "name": "stderr",
     "output_type": "stream",
     "text": [
      "From: 32.628246,34.957538 - to: 32.619035,34.955474\n",
      "Start coords: (32.628246, 34.957538)\n",
      "End coords: (32.619035, 34.955474)\n",
      "Time 0.73 minutes, distance 1.04 km.\n"
     ]
    },
    {
     "name": "stdout",
     "output_type": "stream",
     "text": [
      "19\n",
      "44.0\n",
      "219\n"
     ]
    },
    {
     "name": "stderr",
     "output_type": "stream",
     "text": [
      "From: 32.619035,34.955474 - to: 32.605658,34.952011\n",
      "Start coords: (32.619035, 34.955474)\n",
      "End coords: (32.605658, 34.952011)\n",
      "Time 1.10 minutes, distance 1.52 km.\n"
     ]
    },
    {
     "name": "stdout",
     "output_type": "stream",
     "text": [
      "20\n",
      "66.0\n",
      "220\n"
     ]
    },
    {
     "name": "stderr",
     "output_type": "stream",
     "text": [
      "From: 32.605658,34.952011 - to: 32.595734,34.949146\n",
      "Start coords: (32.605658, 34.952011)\n",
      "End coords: (32.595734, 34.949146)\n",
      "Time 1.25 minutes, distance 1.15 km.\n"
     ]
    },
    {
     "name": "stdout",
     "output_type": "stream",
     "text": [
      "21\n",
      "75.0\n",
      "221\n"
     ]
    },
    {
     "name": "stderr",
     "output_type": "stream",
     "text": [
      "From: 32.595734,34.949146 - to: 32.591639,34.946468\n",
      "Start coords: (32.595734, 34.949146)\n",
      "End coords: (32.591639, 34.946468)\n",
      "Time 1.87 minutes, distance 0.76 km.\n"
     ]
    },
    {
     "name": "stdout",
     "output_type": "stream",
     "text": [
      "22\n",
      "112.0\n",
      "222\n"
     ]
    },
    {
     "name": "stderr",
     "output_type": "stream",
     "text": [
      "From: 32.591639,34.946468 - to: 32.575448,34.938832\n",
      "Start coords: (32.591639, 34.946468)\n",
      "End coords: (32.575448, 34.938832)\n",
      "Time 1.32 minutes, distance 1.95 km.\n"
     ]
    },
    {
     "name": "stdout",
     "output_type": "stream",
     "text": [
      "23\n",
      "79.0\n",
      "223\n"
     ]
    },
    {
     "name": "stderr",
     "output_type": "stream",
     "text": [
      "From: 32.575448,34.938832 - to: 32.571108,34.937372\n",
      "Start coords: (32.575448, 34.938832)\n",
      "End coords: (32.571108, 34.937372)\n",
      "Time 0.53 minutes, distance 0.47 km.\n"
     ]
    },
    {
     "name": "stdout",
     "output_type": "stream",
     "text": [
      "24\n",
      "32.0\n",
      "224\n"
     ]
    },
    {
     "name": "stderr",
     "output_type": "stream",
     "text": [
      "From: 32.571108,34.937372 - to: 32.568084,34.936196\n",
      "Start coords: (32.571108, 34.937372)\n",
      "End coords: (32.568084, 34.936196)\n",
      "Time 0.28 minutes, distance 0.35 km.\n"
     ]
    },
    {
     "name": "stdout",
     "output_type": "stream",
     "text": [
      "25\n",
      "17.0\n",
      "225\n"
     ]
    },
    {
     "name": "stderr",
     "output_type": "stream",
     "text": [
      "From: 32.568084,34.936196 - to: 32.556372,34.931537\n",
      "Start coords: (32.568084, 34.936196)\n",
      "End coords: (32.556372, 34.931537)\n",
      "Time 0.88 minutes, distance 1.37 km.\n"
     ]
    },
    {
     "name": "stdout",
     "output_type": "stream",
     "text": [
      "26\n",
      "53.0\n",
      "226\n"
     ]
    },
    {
     "name": "stderr",
     "output_type": "stream",
     "text": [
      "From: 32.556372,34.931537 - to: 32.533345,34.928702\n",
      "Start coords: (32.556372, 34.931537)\n",
      "End coords: (32.533345, 34.928702)\n",
      "Time 1.60 minutes, distance 2.62 km.\n"
     ]
    },
    {
     "name": "stdout",
     "output_type": "stream",
     "text": [
      "27\n",
      "96.0\n",
      "227\n"
     ]
    },
    {
     "name": "stderr",
     "output_type": "stream",
     "text": [
      "From: 32.533345,34.928702 - to: 32.523128,34.929403\n",
      "Start coords: (32.533345, 34.928702)\n",
      "End coords: (32.523128, 34.929403)\n",
      "Time 1.52 minutes, distance 1.13 km.\n"
     ]
    },
    {
     "name": "stdout",
     "output_type": "stream",
     "text": [
      "28\n",
      "91.0\n",
      "228\n"
     ]
    },
    {
     "name": "stderr",
     "output_type": "stream",
     "text": [
      "From: 32.523128,34.929403 - to: 32.516826,34.929888\n",
      "Start coords: (32.523128, 34.929403)\n",
      "End coords: (32.516826, 34.929888)\n",
      "Time 4.00 minutes, distance 2.19 km.\n"
     ]
    },
    {
     "name": "stdout",
     "output_type": "stream",
     "text": [
      "29\n",
      "240.0\n",
      "229\n"
     ]
    },
    {
     "name": "stderr",
     "output_type": "stream",
     "text": [
      "From: 32.516826,34.929888 - to: 32.500294,34.927745\n",
      "Start coords: (32.516826, 34.929888)\n",
      "End coords: (32.500294, 34.927745)\n",
      "Time 1.37 minutes, distance 1.88 km.\n"
     ]
    },
    {
     "name": "stdout",
     "output_type": "stream",
     "text": [
      "30\n",
      "82.0\n",
      "230\n"
     ]
    },
    {
     "name": "stderr",
     "output_type": "stream",
     "text": [
      "From: 32.500294,34.927745 - to: 32.479664,34.91953\n",
      "Start coords: (32.500294, 34.927745)\n",
      "End coords: (32.479664, 34.91953)\n",
      "Time 1.75 minutes, distance 2.41 km.\n"
     ]
    },
    {
     "name": "stdout",
     "output_type": "stream",
     "text": [
      "31\n",
      "105.0\n",
      "231\n"
     ]
    },
    {
     "name": "stderr",
     "output_type": "stream",
     "text": [
      "From: 32.479664,34.91953 - to: 32.464412,34.912191\n",
      "Start coords: (32.479664, 34.91953)\n",
      "End coords: (32.464412, 34.912191)\n",
      "Time 1.80 minutes, distance 1.92 km.\n"
     ]
    },
    {
     "name": "stdout",
     "output_type": "stream",
     "text": [
      "32\n",
      "108.0\n",
      "232\n"
     ]
    },
    {
     "name": "stderr",
     "output_type": "stream",
     "text": [
      "From: 32.464412,34.912191 - to: 32.457375,34.9071\n",
      "Start coords: (32.464412, 34.912191)\n",
      "End coords: (32.457375, 34.9071)\n",
      "Time 0.75 minutes, distance 0.91 km.\n"
     ]
    },
    {
     "name": "stdout",
     "output_type": "stream",
     "text": [
      "33\n",
      "45.0\n",
      "233\n"
     ]
    },
    {
     "name": "stderr",
     "output_type": "stream",
     "text": [
      "From: 32.457375,34.9071 - to: 32.454646,34.907116\n",
      "Start coords: (32.457375, 34.9071)\n",
      "End coords: (32.454646, 34.907116)\n",
      "Time 0.38 minutes, distance 0.30 km.\n"
     ]
    },
    {
     "name": "stdout",
     "output_type": "stream",
     "text": [
      "34\n",
      "23.0\n",
      "234\n"
     ]
    },
    {
     "name": "stderr",
     "output_type": "stream",
     "text": [
      "From: 32.454646,34.907116 - to: 32.450906,34.90867\n",
      "Start coords: (32.454646, 34.907116)\n",
      "End coords: (32.450906, 34.90867)\n",
      "Time 0.42 minutes, distance 0.44 km.\n"
     ]
    },
    {
     "name": "stdout",
     "output_type": "stream",
     "text": [
      "35\n",
      "25.0\n",
      "235\n"
     ]
    },
    {
     "name": "stderr",
     "output_type": "stream",
     "text": [
      "From: 32.450906,34.90867 - to: 32.446689,34.910224\n",
      "Start coords: (32.450906, 34.90867)\n",
      "End coords: (32.446689, 34.910224)\n",
      "Time 0.53 minutes, distance 0.49 km.\n"
     ]
    },
    {
     "name": "stdout",
     "output_type": "stream",
     "text": [
      "36\n",
      "32.0\n",
      "236\n"
     ]
    },
    {
     "name": "stderr",
     "output_type": "stream",
     "text": [
      "From: 32.446689,34.910224 - to: 32.441755,34.910952\n",
      "Start coords: (32.446689, 34.910224)\n",
      "End coords: (32.441755, 34.910952)\n",
      "Time 0.67 minutes, distance 0.56 km.\n"
     ]
    },
    {
     "name": "stdout",
     "output_type": "stream",
     "text": [
      "37\n",
      "40.0\n",
      "237\n"
     ]
    },
    {
     "name": "stderr",
     "output_type": "stream",
     "text": [
      "From: 32.441755,34.910952 - to: 32.438209,34.911987\n",
      "Start coords: (32.441755, 34.910952)\n",
      "End coords: (32.438209, 34.911987)\n",
      "Time 0.72 minutes, distance 0.53 km.\n"
     ]
    },
    {
     "name": "stdout",
     "output_type": "stream",
     "text": [
      "38\n",
      "43.0\n",
      "238\n"
     ]
    },
    {
     "name": "stderr",
     "output_type": "stream",
     "text": [
      "From: 32.438209,34.911987 - to: 32.435324,34.914147\n",
      "Start coords: (32.438209, 34.911987)\n",
      "End coords: (32.435324, 34.914147)\n",
      "Time 2.25 minutes, distance 1.01 km.\n"
     ]
    },
    {
     "name": "stdout",
     "output_type": "stream",
     "text": [
      "39\n",
      "135.0\n",
      "239\n"
     ]
    },
    {
     "name": "stderr",
     "output_type": "stream",
     "text": [
      "From: 32.435324,34.914147 - to: 32.435962,34.914021\n",
      "Start coords: (32.435324, 34.914147)\n",
      "End coords: (32.435962, 34.914021)\n",
      "Time 0.53 minutes, distance 0.11 km.\n"
     ]
    },
    {
     "name": "stdout",
     "output_type": "stream",
     "text": [
      "40\n",
      "32.0\n",
      "240\n"
     ]
    },
    {
     "name": "stderr",
     "output_type": "stream",
     "text": [
      "From: 32.435962,34.914021 - to: 32.432762,34.909369\n",
      "Start coords: (32.435962, 34.914021)\n",
      "End coords: (32.432762, 34.909369)\n",
      "Time 2.73 minutes, distance 1.29 km.\n"
     ]
    },
    {
     "name": "stdout",
     "output_type": "stream",
     "text": [
      "41\n",
      "164.0\n",
      "241\n"
     ]
    },
    {
     "name": "stderr",
     "output_type": "stream",
     "text": [
      "From: 32.432762,34.909369 - to: 32.40895,34.903447\n",
      "Start coords: (32.432762, 34.909369)\n",
      "End coords: (32.40895, 34.903447)\n",
      "Time 1.85 minutes, distance 2.70 km.\n"
     ]
    },
    {
     "name": "stdout",
     "output_type": "stream",
     "text": [
      "42\n",
      "111.0\n",
      "242\n"
     ]
    },
    {
     "name": "stderr",
     "output_type": "stream",
     "text": [
      "From: 32.40895,34.903447 - to: 32.400004,34.903026\n",
      "Start coords: (32.40895, 34.903447)\n",
      "End coords: (32.400004, 34.903026)\n",
      "Time 0.70 minutes, distance 0.99 km.\n"
     ]
    },
    {
     "name": "stdout",
     "output_type": "stream",
     "text": [
      "43\n",
      "42.0\n",
      "243\n"
     ]
    },
    {
     "name": "stderr",
     "output_type": "stream",
     "text": [
      "From: 32.400004,34.903026 - to: 32.392873,34.903167\n",
      "Start coords: (32.400004, 34.903026)\n",
      "End coords: (32.392873, 34.903167)\n",
      "Time 0.57 minutes, distance 0.79 km.\n"
     ]
    },
    {
     "name": "stdout",
     "output_type": "stream",
     "text": [
      "44\n",
      "34.0\n",
      "244\n"
     ]
    },
    {
     "name": "stderr",
     "output_type": "stream",
     "text": [
      "From: 32.392873,34.903167 - to: 32.378766,34.907664\n",
      "Start coords: (32.392873, 34.903167)\n",
      "End coords: (32.378766, 34.907664)\n",
      "Time 1.00 minutes, distance 1.62 km.\n"
     ]
    },
    {
     "name": "stdout",
     "output_type": "stream",
     "text": [
      "45\n",
      "60.0\n",
      "245\n"
     ]
    },
    {
     "name": "stderr",
     "output_type": "stream",
     "text": [
      "From: 32.378766,34.907664 - to: 32.373139,34.908841\n",
      "Start coords: (32.378766, 34.907664)\n",
      "End coords: (32.373139, 34.908841)\n",
      "Time 0.40 minutes, distance 0.63 km.\n"
     ]
    },
    {
     "name": "stdout",
     "output_type": "stream",
     "text": [
      "46\n",
      "24.0\n",
      "246\n"
     ]
    },
    {
     "name": "stderr",
     "output_type": "stream",
     "text": [
      "From: 32.373139,34.908841 - to: 32.364299,34.90753\n",
      "Start coords: (32.373139, 34.908841)\n",
      "End coords: (32.364299, 34.90753)\n",
      "Time 0.82 minutes, distance 0.99 km.\n"
     ]
    },
    {
     "name": "stdout",
     "output_type": "stream",
     "text": [
      "47\n",
      "49.0\n",
      "247\n"
     ]
    },
    {
     "name": "stderr",
     "output_type": "stream",
     "text": [
      "From: 32.364299,34.90753 - to: 32.358205,34.906876\n",
      "Start coords: (32.364299, 34.90753)\n",
      "End coords: (32.358205, 34.906876)\n",
      "Time 1.37 minutes, distance 0.89 km.\n"
     ]
    },
    {
     "name": "stdout",
     "output_type": "stream",
     "text": [
      "48\n",
      "82.0\n",
      "248\n"
     ]
    },
    {
     "name": "stderr",
     "output_type": "stream",
     "text": [
      "From: 32.358205,34.906876 - to: 32.357114,34.908334\n",
      "Start coords: (32.358205, 34.906876)\n",
      "End coords: (32.357114, 34.908334)\n",
      "Time 0.43 minutes, distance 0.28 km.\n"
     ]
    },
    {
     "name": "stdout",
     "output_type": "stream",
     "text": [
      "49\n",
      "26.0\n",
      "249\n"
     ]
    },
    {
     "name": "stderr",
     "output_type": "stream",
     "text": [
      "From: 32.357114,34.908334 - to: 32.344205,34.907781\n",
      "Start coords: (32.357114, 34.908334)\n",
      "End coords: (32.344205, 34.907781)\n",
      "Time 0.90 minutes, distance 1.43 km.\n"
     ]
    },
    {
     "name": "stdout",
     "output_type": "stream",
     "text": [
      "50\n",
      "54.0\n",
      "250\n"
     ]
    },
    {
     "name": "stderr",
     "output_type": "stream",
     "text": [
      "From: 32.344205,34.907781 - to: 32.321146,34.903693\n",
      "Start coords: (32.344205, 34.907781)\n",
      "End coords: (32.321146, 34.903693)\n",
      "Time 2.05 minutes, distance 2.59 km.\n"
     ]
    },
    {
     "name": "stdout",
     "output_type": "stream",
     "text": [
      "51\n",
      "122.99999999999999\n",
      "251\n"
     ]
    },
    {
     "name": "stderr",
     "output_type": "stream",
     "text": [
      "From: 32.321146,34.903693 - to: 32.304107,34.900468\n",
      "Start coords: (32.321146, 34.903693)\n",
      "End coords: (32.304107, 34.900468)\n",
      "Time 1.30 minutes, distance 1.91 km.\n"
     ]
    },
    {
     "name": "stdout",
     "output_type": "stream",
     "text": [
      "52\n",
      "78.0\n",
      "252\n"
     ]
    },
    {
     "name": "stderr",
     "output_type": "stream",
     "text": [
      "From: 32.304107,34.900468 - to: 32.28275,34.896439\n",
      "Start coords: (32.304107, 34.900468)\n",
      "End coords: (32.28275, 34.896439)\n",
      "Time 1.55 minutes, distance 2.40 km.\n"
     ]
    },
    {
     "name": "stdout",
     "output_type": "stream",
     "text": [
      "53\n",
      "93.0\n",
      "253\n"
     ]
    },
    {
     "name": "stderr",
     "output_type": "stream",
     "text": [
      "From: 32.28275,34.896439 - to: 32.275284,34.895065\n",
      "Start coords: (32.28275, 34.896439)\n",
      "End coords: (32.275284, 34.895065)\n",
      "Time 0.45 minutes, distance 0.74 km.\n"
     ]
    },
    {
     "name": "stdout",
     "output_type": "stream",
     "text": [
      "54\n",
      "27.0\n",
      "254\n"
     ]
    },
    {
     "name": "stderr",
     "output_type": "stream",
     "text": [
      "From: 32.275284,34.895065 - to: 32.268669,34.893805\n",
      "Start coords: (32.275284, 34.895065)\n",
      "End coords: (32.268669, 34.893805)\n",
      "Time 0.45 minutes, distance 0.74 km.\n"
     ]
    },
    {
     "name": "stdout",
     "output_type": "stream",
     "text": [
      "55\n",
      "27.0\n",
      "255\n"
     ]
    },
    {
     "name": "stderr",
     "output_type": "stream",
     "text": [
      "From: 32.268669,34.893805 - to: 32.254064,34.88915\n",
      "Start coords: (32.268669, 34.893805)\n",
      "End coords: (32.254064, 34.88915)\n",
      "Time 5.30 minutes, distance 5.11 km.\n"
     ]
    },
    {
     "name": "stdout",
     "output_type": "stream",
     "text": [
      "56\n",
      "318.0\n",
      "256\n"
     ]
    },
    {
     "name": "stderr",
     "output_type": "stream",
     "text": [
      "From: 32.254064,34.88915 - to: 32.239492,34.886062\n",
      "Start coords: (32.254064, 34.88915)\n",
      "End coords: (32.239492, 34.886062)\n",
      "Time 1.18 minutes, distance 1.68 km.\n"
     ]
    },
    {
     "name": "stdout",
     "output_type": "stream",
     "text": [
      "57\n",
      "71.0\n",
      "257\n"
     ]
    },
    {
     "name": "stderr",
     "output_type": "stream",
     "text": [
      "From: 32.239492,34.886062 - to: 32.234942,34.88462\n",
      "Start coords: (32.239492, 34.886062)\n",
      "End coords: (32.234942, 34.88462)\n",
      "Time 0.73 minutes, distance 0.52 km.\n"
     ]
    },
    {
     "name": "stdout",
     "output_type": "stream",
     "text": [
      "58\n",
      "44.0\n",
      "258\n"
     ]
    },
    {
     "name": "stderr",
     "output_type": "stream",
     "text": [
      "From: 32.234942,34.88462 - to: 32.218431,34.883157\n",
      "Start coords: (32.234942, 34.88462)\n",
      "End coords: (32.218431, 34.883157)\n",
      "Time 1.27 minutes, distance 1.85 km.\n"
     ]
    },
    {
     "name": "stdout",
     "output_type": "stream",
     "text": [
      "59\n",
      "76.0\n",
      "259\n"
     ]
    },
    {
     "name": "stderr",
     "output_type": "stream",
     "text": [
      "From: 32.218431,34.883157 - to: 32.209417,34.883706\n",
      "Start coords: (32.218431, 34.883157)\n",
      "End coords: (32.209417, 34.883706)\n",
      "Time 0.63 minutes, distance 1.00 km.\n"
     ]
    },
    {
     "name": "stdout",
     "output_type": "stream",
     "text": [
      "60\n",
      "38.0\n",
      "260\n"
     ]
    },
    {
     "name": "stderr",
     "output_type": "stream",
     "text": [
      "From: 32.209417,34.883706 - to: 32.190754,34.887242\n",
      "Start coords: (32.209417, 34.883706)\n",
      "End coords: (32.190754, 34.887242)\n",
      "Time 2.62 minutes, distance 2.15 km.\n"
     ]
    },
    {
     "name": "stdout",
     "output_type": "stream",
     "text": [
      "61\n",
      "157.0\n",
      "261\n"
     ]
    },
    {
     "name": "stderr",
     "output_type": "stream",
     "text": [
      "From: 32.190754,34.887242 - to: 32.175756,34.890738\n",
      "Start coords: (32.190754, 34.887242)\n",
      "End coords: (32.175756, 34.890738)\n",
      "Time 2.17 minutes, distance 1.90 km.\n"
     ]
    },
    {
     "name": "stdout",
     "output_type": "stream",
     "text": [
      "62\n",
      "130.0\n",
      "262\n"
     ]
    },
    {
     "name": "stderr",
     "output_type": "stream",
     "text": [
      "From: 32.175756,34.890738 - to: 32.155104,34.894483\n",
      "Start coords: (32.175756, 34.890738)\n",
      "End coords: (32.155104, 34.894483)\n",
      "Time 3.58 minutes, distance 2.38 km.\n"
     ]
    },
    {
     "name": "stdout",
     "output_type": "stream",
     "text": [
      "63\n",
      "215.0\n",
      "263\n"
     ]
    },
    {
     "name": "stderr",
     "output_type": "stream",
     "text": [
      "From: 32.155104,34.894483 - to: 32.14303,34.894369\n",
      "Start coords: (32.155104, 34.894483)\n",
      "End coords: (32.14303, 34.894369)\n",
      "Time 1.83 minutes, distance 1.34 km.\n"
     ]
    },
    {
     "name": "stdout",
     "output_type": "stream",
     "text": [
      "64\n",
      "110.0\n",
      "264\n"
     ]
    },
    {
     "name": "stderr",
     "output_type": "stream",
     "text": [
      "From: 32.14303,34.894369 - to: 32.137306,34.896274\n",
      "Start coords: (32.14303, 34.894369)\n",
      "End coords: (32.137306, 34.896274)\n",
      "Time 0.65 minutes, distance 0.68 km.\n"
     ]
    },
    {
     "name": "stdout",
     "output_type": "stream",
     "text": [
      "65\n",
      "39.0\n",
      "265\n"
     ]
    },
    {
     "name": "stderr",
     "output_type": "stream",
     "text": [
      "From: 32.137306,34.896274 - to: 32.132375,34.89996\n",
      "Start coords: (32.137306, 34.896274)\n",
      "End coords: (32.132375, 34.89996)\n",
      "Time 0.95 minutes, distance 0.65 km.\n"
     ]
    },
    {
     "name": "stdout",
     "output_type": "stream",
     "text": [
      "66\n",
      "57.0\n",
      "266\n"
     ]
    },
    {
     "name": "stderr",
     "output_type": "stream",
     "text": [
      "From: 32.132375,34.89996 - to: 32.119907,34.903229\n",
      "Start coords: (32.132375, 34.89996)\n",
      "End coords: (32.119907, 34.903229)\n",
      "Time 1.48 minutes, distance 1.49 km.\n"
     ]
    },
    {
     "name": "stdout",
     "output_type": "stream",
     "text": [
      "67\n",
      "89.0\n",
      "267\n"
     ]
    },
    {
     "name": "stderr",
     "output_type": "stream",
     "text": [
      "From: 32.119907,34.903229 - to: 32.101597,34.89757\n",
      "Start coords: (32.119907, 34.903229)\n",
      "End coords: (32.101597, 34.89757)\n",
      "Time 2.12 minutes, distance 2.13 km.\n"
     ]
    },
    {
     "name": "stdout",
     "output_type": "stream",
     "text": [
      "68\n",
      "127.0\n",
      "268\n"
     ]
    },
    {
     "name": "stderr",
     "output_type": "stream",
     "text": [
      "From: 32.101597,34.89757 - to: 32.09914,34.895905\n",
      "Start coords: (32.101597, 34.89757)\n",
      "End coords: (32.09914, 34.895905)\n",
      "Time 0.50 minutes, distance 0.32 km.\n"
     ]
    },
    {
     "name": "stdout",
     "output_type": "stream",
     "text": [
      "69\n",
      "30.0\n",
      "269\n"
     ]
    },
    {
     "name": "stderr",
     "output_type": "stream",
     "text": [
      "From: 32.09914,34.895905 - to: 32.094807,34.886466\n",
      "Start coords: (32.09914, 34.895905)\n",
      "End coords: (32.094807, 34.886466)\n",
      "Time 2.63 minutes, distance 1.03 km.\n"
     ]
    },
    {
     "name": "stdout",
     "output_type": "stream",
     "text": [
      "70\n",
      "158.0\n",
      "270\n"
     ]
    },
    {
     "name": "stderr",
     "output_type": "stream",
     "text": [
      "From: 32.094807,34.886466 - to: 32.091798,34.865101\n",
      "Start coords: (32.094807, 34.886466)\n",
      "End coords: (32.091798, 34.865101)\n",
      "Time 4.32 minutes, distance 2.13 km.\n"
     ]
    },
    {
     "name": "stdout",
     "output_type": "stream",
     "text": [
      "71\n",
      "259.0\n",
      "271\n"
     ]
    },
    {
     "name": "stderr",
     "output_type": "stream",
     "text": [
      "From: 32.091798,34.865101 - to: 32.092482,34.857247\n",
      "Start coords: (32.091798, 34.865101)\n",
      "End coords: (32.092482, 34.857247)\n",
      "Time 2.15 minutes, distance 0.74 km.\n"
     ]
    },
    {
     "name": "stdout",
     "output_type": "stream",
     "text": [
      "72\n",
      "129.0\n",
      "272\n"
     ]
    },
    {
     "name": "stderr",
     "output_type": "stream",
     "text": [
      "From: 32.092482,34.857247 - to: 32.092807,34.847935\n",
      "Start coords: (32.092482, 34.857247)\n",
      "End coords: (32.092807, 34.847935)\n",
      "Time 0.93 minutes, distance 0.88 km.\n"
     ]
    },
    {
     "name": "stdout",
     "output_type": "stream",
     "text": [
      "73\n",
      "56.0\n",
      "273\n"
     ]
    },
    {
     "name": "stderr",
     "output_type": "stream",
     "text": [
      "From: 32.092807,34.847935 - to: 32.092866,34.836946\n",
      "Start coords: (32.092807, 34.847935)\n",
      "End coords: (32.092866, 34.836946)\n",
      "Time 2.47 minutes, distance 1.04 km.\n"
     ]
    },
    {
     "name": "stdout",
     "output_type": "stream",
     "text": [
      "74\n",
      "148.0\n",
      "274\n"
     ]
    },
    {
     "name": "stderr",
     "output_type": "stream",
     "text": [
      "From: 32.092866,34.836946 - to: 32.091728,34.826477\n",
      "Start coords: (32.092866, 34.836946)\n",
      "End coords: (32.091728, 34.826477)\n",
      "Time 1.52 minutes, distance 1.01 km.\n"
     ]
    },
    {
     "name": "stdout",
     "output_type": "stream",
     "text": [
      "75\n",
      "91.0\n",
      "275\n"
     ]
    },
    {
     "name": "stderr",
     "output_type": "stream",
     "text": [
      "From: 32.091728,34.826477 - to: 32.085293,34.810136\n",
      "Start coords: (32.091728, 34.826477)\n",
      "End coords: (32.085293, 34.810136)\n",
      "Time 4.42 minutes, distance 1.71 km.\n"
     ]
    },
    {
     "name": "stdout",
     "output_type": "stream",
     "text": [
      "76\n",
      "265.0\n",
      "276\n"
     ]
    },
    {
     "name": "stderr",
     "output_type": "stream",
     "text": [
      "From: 32.085293,34.810136 - to: 32.083677,34.806421\n",
      "Start coords: (32.085293, 34.810136)\n",
      "End coords: (32.083677, 34.806421)\n",
      "Time 0.87 minutes, distance 0.40 km.\n"
     ]
    },
    {
     "name": "stdout",
     "output_type": "stream",
     "text": [
      "77\n",
      "52.0\n",
      "277\n"
     ]
    },
    {
     "name": "stderr",
     "output_type": "stream",
     "text": [
      "From: 32.083677,34.806421 - to: 32.079838,34.794882\n",
      "Start coords: (32.083677, 34.806421)\n",
      "End coords: (32.079838, 34.794882)\n",
      "Time 3.53 minutes, distance 1.60 km.\n"
     ]
    },
    {
     "name": "stdout",
     "output_type": "stream",
     "text": [
      "78\n",
      "212.0\n",
      "278\n"
     ]
    },
    {
     "name": "stderr",
     "output_type": "stream",
     "text": [
      "From: 32.079838,34.794882 - to: 32.074914,34.790734\n",
      "Start coords: (32.079838, 34.794882)\n",
      "End coords: (32.074914, 34.790734)\n",
      "Time 1.38 minutes, distance 0.69 km.\n"
     ]
    },
    {
     "name": "stdout",
     "output_type": "stream",
     "text": [
      "79\n",
      "83.0\n",
      "279\n"
     ]
    },
    {
     "name": "stderr",
     "output_type": "stream",
     "text": [
      "From: 32.074914,34.790734 - to: 32.06123,34.784594\n",
      "Start coords: (32.074914, 34.790734)\n",
      "End coords: (32.06123, 34.784594)\n",
      "Time 3.18 minutes, distance 2.25 km.\n"
     ]
    },
    {
     "name": "stdout",
     "output_type": "stream",
     "text": [
      "80\n",
      "191.0\n",
      "280\n"
     ]
    },
    {
     "name": "stderr",
     "output_type": "stream",
     "text": [
      "From: 32.06123,34.784594 - to: 32.055636,34.780466\n",
      "Start coords: (32.06123, 34.784594)\n",
      "End coords: (32.055636, 34.780466)\n",
      "Time 2.37 minutes, distance 1.07 km.\n"
     ]
    },
    {
     "name": "stdout",
     "output_type": "stream",
     "text": [
      "81\n",
      "142.0\n",
      "281\n"
     ]
    },
    {
     "name": "stderr",
     "output_type": "stream",
     "text": [
      "From: 32.793372,34.958985 - to: 32.789609,34.962117\n",
      "Start coords: (32.793372, 34.958985)\n",
      "End coords: (32.789609, 34.962117)\n",
      "Time 2.10 minutes, distance 0.93 km.\n"
     ]
    },
    {
     "name": "stdout",
     "output_type": "stream",
     "text": [
      "0\n",
      "126.0\n",
      "300\n"
     ]
    },
    {
     "name": "stderr",
     "output_type": "stream",
     "text": [
      "From: 32.789609,34.962117 - to: 32.78459,34.962626\n",
      "Start coords: (32.789609, 34.962117)\n",
      "End coords: (32.78459, 34.962626)\n",
      "Time 0.75 minutes, distance 0.56 km.\n"
     ]
    },
    {
     "name": "stdout",
     "output_type": "stream",
     "text": [
      "1\n",
      "45.0\n",
      "301\n"
     ]
    },
    {
     "name": "stderr",
     "output_type": "stream",
     "text": [
      "From: 32.78459,34.962626 - to: 32.781207,34.962876\n",
      "Start coords: (32.78459, 34.962626)\n",
      "End coords: (32.781207, 34.962876)\n",
      "Time 0.32 minutes, distance 0.38 km.\n"
     ]
    },
    {
     "name": "stdout",
     "output_type": "stream",
     "text": [
      "2\n",
      "19.0\n",
      "302\n"
     ]
    },
    {
     "name": "stderr",
     "output_type": "stream",
     "text": [
      "From: 32.781207,34.962876 - to: 32.772031,34.962995\n",
      "Start coords: (32.781207, 34.962876)\n",
      "End coords: (32.772031, 34.962995)\n",
      "Time 1.88 minutes, distance 1.92 km.\n"
     ]
    },
    {
     "name": "stdout",
     "output_type": "stream",
     "text": [
      "3\n",
      "113.0\n",
      "303\n"
     ]
    },
    {
     "name": "stderr",
     "output_type": "stream",
     "text": [
      "From: 32.772031,34.962995 - to: 32.764238,34.961821\n",
      "Start coords: (32.772031, 34.962995)\n",
      "End coords: (32.764238, 34.961821)\n",
      "Time 0.93 minutes, distance 0.87 km.\n"
     ]
    },
    {
     "name": "stdout",
     "output_type": "stream",
     "text": [
      "4\n",
      "56.0\n",
      "304\n"
     ]
    },
    {
     "name": "stderr",
     "output_type": "stream",
     "text": [
      "From: 32.764238,34.961821 - to: 32.759921,34.961275\n",
      "Start coords: (32.764238, 34.961821)\n",
      "End coords: (32.759921, 34.961275)\n",
      "Time 0.57 minutes, distance 0.48 km.\n"
     ]
    },
    {
     "name": "stdout",
     "output_type": "stream",
     "text": [
      "5\n",
      "34.0\n",
      "305\n"
     ]
    },
    {
     "name": "stderr",
     "output_type": "stream",
     "text": [
      "From: 32.759921,34.961275 - to: 32.752365,34.962668\n",
      "Start coords: (32.759921, 34.961275)\n",
      "End coords: (32.752365, 34.962668)\n",
      "Time 1.00 minutes, distance 0.85 km.\n"
     ]
    },
    {
     "name": "stdout",
     "output_type": "stream",
     "text": [
      "6\n",
      "60.0\n",
      "306\n"
     ]
    },
    {
     "name": "stderr",
     "output_type": "stream",
     "text": [
      "From: 32.752365,34.962668 - to: 32.737043,34.966128\n",
      "Start coords: (32.752365, 34.962668)\n",
      "End coords: (32.737043, 34.966128)\n",
      "Time 1.43 minutes, distance 1.75 km.\n"
     ]
    },
    {
     "name": "stdout",
     "output_type": "stream",
     "text": [
      "7\n",
      "86.0\n",
      "307\n"
     ]
    },
    {
     "name": "stderr",
     "output_type": "stream",
     "text": [
      "From: 32.737043,34.966128 - to: 32.725875,34.966216\n",
      "Start coords: (32.737043, 34.966128)\n",
      "End coords: (32.725875, 34.966216)\n",
      "Time 0.88 minutes, distance 1.24 km.\n"
     ]
    },
    {
     "name": "stdout",
     "output_type": "stream",
     "text": [
      "8\n",
      "53.0\n",
      "308\n"
     ]
    },
    {
     "name": "stderr",
     "output_type": "stream",
     "text": [
      "From: 32.725875,34.966216 - to: 32.717596,34.968597\n",
      "Start coords: (32.725875, 34.966216)\n",
      "End coords: (32.717596, 34.968597)\n",
      "Time 0.72 minutes, distance 0.96 km.\n"
     ]
    },
    {
     "name": "stdout",
     "output_type": "stream",
     "text": [
      "9\n",
      "43.0\n",
      "309\n"
     ]
    },
    {
     "name": "stderr",
     "output_type": "stream",
     "text": [
      "From: 32.717596,34.968597 - to: 32.713239,34.970693\n",
      "Start coords: (32.717596, 34.968597)\n",
      "End coords: (32.713239, 34.970693)\n",
      "Time 0.43 minutes, distance 0.53 km.\n"
     ]
    },
    {
     "name": "stdout",
     "output_type": "stream",
     "text": [
      "10\n",
      "26.0\n",
      "310\n"
     ]
    },
    {
     "name": "stderr",
     "output_type": "stream",
     "text": [
      "From: 32.713239,34.970693 - to: 32.710042,34.970338\n",
      "Start coords: (32.713239, 34.970693)\n",
      "End coords: (32.710042, 34.970338)\n",
      "Time 0.45 minutes, distance 0.36 km.\n"
     ]
    },
    {
     "name": "stdout",
     "output_type": "stream",
     "text": [
      "11\n",
      "27.0\n",
      "311\n"
     ]
    },
    {
     "name": "stderr",
     "output_type": "stream",
     "text": [
      "From: 32.710042,34.970338 - to: 32.702365,34.968957\n",
      "Start coords: (32.710042, 34.970338)\n",
      "End coords: (32.702365, 34.968957)\n",
      "Time 0.73 minutes, distance 0.86 km.\n"
     ]
    },
    {
     "name": "stdout",
     "output_type": "stream",
     "text": [
      "12\n",
      "44.0\n",
      "312\n"
     ]
    },
    {
     "name": "stderr",
     "output_type": "stream",
     "text": [
      "From: 32.702365,34.968957 - to: 32.676436,34.96162\n",
      "Start coords: (32.702365, 34.968957)\n",
      "End coords: (32.676436, 34.96162)\n",
      "Time 2.10 minutes, distance 2.98 km.\n"
     ]
    },
    {
     "name": "stdout",
     "output_type": "stream",
     "text": [
      "13\n",
      "126.0\n",
      "313\n"
     ]
    },
    {
     "name": "stderr",
     "output_type": "stream",
     "text": [
      "From: 32.676436,34.96162 - to: 32.662089,34.960079\n",
      "Start coords: (32.676436, 34.96162)\n",
      "End coords: (32.662089, 34.960079)\n",
      "Time 1.12 minutes, distance 1.60 km.\n"
     ]
    },
    {
     "name": "stdout",
     "output_type": "stream",
     "text": [
      "14\n",
      "67.0\n",
      "314\n"
     ]
    },
    {
     "name": "stderr",
     "output_type": "stream",
     "text": [
      "From: 32.662089,34.960079 - to: 32.647133,34.958825\n",
      "Start coords: (32.662089, 34.960079)\n",
      "End coords: (32.647133, 34.958825)\n",
      "Time 1.12 minutes, distance 1.66 km.\n"
     ]
    },
    {
     "name": "stdout",
     "output_type": "stream",
     "text": [
      "15\n",
      "67.0\n",
      "315\n"
     ]
    },
    {
     "name": "stderr",
     "output_type": "stream",
     "text": [
      "From: 32.647133,34.958825 - to: 32.642367,34.958627\n",
      "Start coords: (32.647133, 34.958825)\n",
      "End coords: (32.642367, 34.958627)\n",
      "Time 0.38 minutes, distance 0.53 km.\n"
     ]
    },
    {
     "name": "stdout",
     "output_type": "stream",
     "text": [
      "16\n",
      "23.0\n",
      "316\n"
     ]
    },
    {
     "name": "stderr",
     "output_type": "stream",
     "text": [
      "From: 32.642367,34.958627 - to: 32.639184,34.958505\n",
      "Start coords: (32.642367, 34.958627)\n",
      "End coords: (32.639184, 34.958505)\n",
      "Time 0.27 minutes, distance 0.35 km.\n"
     ]
    },
    {
     "name": "stdout",
     "output_type": "stream",
     "text": [
      "17\n",
      "16.0\n",
      "317\n"
     ]
    },
    {
     "name": "stderr",
     "output_type": "stream",
     "text": [
      "From: 32.639184,34.958505 - to: 32.628246,34.957538\n",
      "Start coords: (32.639184, 34.958505)\n",
      "End coords: (32.628246, 34.957538)\n",
      "Time 0.85 minutes, distance 1.21 km.\n"
     ]
    },
    {
     "name": "stdout",
     "output_type": "stream",
     "text": [
      "18\n",
      "51.0\n",
      "318\n"
     ]
    },
    {
     "name": "stderr",
     "output_type": "stream",
     "text": [
      "From: 32.628246,34.957538 - to: 32.619035,34.955474\n",
      "Start coords: (32.628246, 34.957538)\n",
      "End coords: (32.619035, 34.955474)\n",
      "Time 0.73 minutes, distance 1.04 km.\n"
     ]
    },
    {
     "name": "stdout",
     "output_type": "stream",
     "text": [
      "19\n",
      "44.0\n",
      "319\n"
     ]
    },
    {
     "name": "stderr",
     "output_type": "stream",
     "text": [
      "From: 32.619035,34.955474 - to: 32.605658,34.952011\n",
      "Start coords: (32.619035, 34.955474)\n",
      "End coords: (32.605658, 34.952011)\n",
      "Time 1.08 minutes, distance 1.52 km.\n"
     ]
    },
    {
     "name": "stdout",
     "output_type": "stream",
     "text": [
      "20\n",
      "65.0\n",
      "320\n"
     ]
    },
    {
     "name": "stderr",
     "output_type": "stream",
     "text": [
      "From: 32.605658,34.952011 - to: 32.595734,34.949146\n",
      "Start coords: (32.605658, 34.952011)\n",
      "End coords: (32.595734, 34.949146)\n",
      "Time 1.08 minutes, distance 1.15 km.\n"
     ]
    },
    {
     "name": "stdout",
     "output_type": "stream",
     "text": [
      "21\n",
      "65.0\n",
      "321\n"
     ]
    },
    {
     "name": "stderr",
     "output_type": "stream",
     "text": [
      "From: 32.595734,34.949146 - to: 32.591639,34.946468\n",
      "Start coords: (32.595734, 34.949146)\n",
      "End coords: (32.591639, 34.946468)\n",
      "Time 1.63 minutes, distance 0.76 km.\n"
     ]
    },
    {
     "name": "stdout",
     "output_type": "stream",
     "text": [
      "22\n",
      "98.0\n",
      "322\n"
     ]
    },
    {
     "name": "stderr",
     "output_type": "stream",
     "text": [
      "From: 32.591639,34.946468 - to: 32.575448,34.938832\n",
      "Start coords: (32.591639, 34.946468)\n",
      "End coords: (32.575448, 34.938832)\n",
      "Time 1.35 minutes, distance 1.95 km.\n"
     ]
    },
    {
     "name": "stdout",
     "output_type": "stream",
     "text": [
      "23\n",
      "81.0\n",
      "323\n"
     ]
    },
    {
     "name": "stderr",
     "output_type": "stream",
     "text": [
      "From: 32.575448,34.938832 - to: 32.571108,34.937372\n",
      "Start coords: (32.575448, 34.938832)\n",
      "End coords: (32.571108, 34.937372)\n",
      "Time 0.52 minutes, distance 0.47 km.\n"
     ]
    },
    {
     "name": "stdout",
     "output_type": "stream",
     "text": [
      "24\n",
      "31.000000000000004\n",
      "324\n"
     ]
    },
    {
     "name": "stderr",
     "output_type": "stream",
     "text": [
      "From: 32.571108,34.937372 - to: 32.568084,34.936196\n",
      "Start coords: (32.571108, 34.937372)\n",
      "End coords: (32.568084, 34.936196)\n",
      "Time 0.33 minutes, distance 0.35 km.\n"
     ]
    },
    {
     "name": "stdout",
     "output_type": "stream",
     "text": [
      "25\n",
      "20.0\n",
      "325\n"
     ]
    },
    {
     "name": "stderr",
     "output_type": "stream",
     "text": [
      "From: 32.568084,34.936196 - to: 32.556372,34.931537\n",
      "Start coords: (32.568084, 34.936196)\n",
      "End coords: (32.556372, 34.931537)\n",
      "Time 0.87 minutes, distance 1.37 km.\n"
     ]
    },
    {
     "name": "stdout",
     "output_type": "stream",
     "text": [
      "26\n",
      "52.0\n",
      "326\n"
     ]
    },
    {
     "name": "stderr",
     "output_type": "stream",
     "text": [
      "From: 32.556372,34.931537 - to: 32.533345,34.928702\n",
      "Start coords: (32.556372, 34.931537)\n",
      "End coords: (32.533345, 34.928702)\n",
      "Time 1.78 minutes, distance 2.62 km.\n"
     ]
    },
    {
     "name": "stdout",
     "output_type": "stream",
     "text": [
      "27\n",
      "107.0\n",
      "327\n"
     ]
    },
    {
     "name": "stderr",
     "output_type": "stream",
     "text": [
      "From: 32.533345,34.928702 - to: 32.523128,34.929403\n",
      "Start coords: (32.533345, 34.928702)\n",
      "End coords: (32.523128, 34.929403)\n",
      "Time 1.52 minutes, distance 1.13 km.\n"
     ]
    },
    {
     "name": "stdout",
     "output_type": "stream",
     "text": [
      "28\n",
      "91.0\n",
      "328\n"
     ]
    },
    {
     "name": "stderr",
     "output_type": "stream",
     "text": [
      "From: 32.523128,34.929403 - to: 32.516826,34.929888\n",
      "Start coords: (32.523128, 34.929403)\n",
      "End coords: (32.516826, 34.929888)\n",
      "Time 4.13 minutes, distance 2.19 km.\n"
     ]
    },
    {
     "name": "stdout",
     "output_type": "stream",
     "text": [
      "29\n",
      "248.00000000000003\n",
      "329\n"
     ]
    },
    {
     "name": "stderr",
     "output_type": "stream",
     "text": [
      "From: 32.516826,34.929888 - to: 32.500294,34.927745\n",
      "Start coords: (32.516826, 34.929888)\n",
      "End coords: (32.500294, 34.927745)\n",
      "Time 1.62 minutes, distance 1.88 km.\n"
     ]
    },
    {
     "name": "stdout",
     "output_type": "stream",
     "text": [
      "30\n",
      "97.0\n",
      "330\n"
     ]
    },
    {
     "name": "stderr",
     "output_type": "stream",
     "text": [
      "From: 32.500294,34.927745 - to: 32.479664,34.91953\n",
      "Start coords: (32.500294, 34.927745)\n",
      "End coords: (32.479664, 34.91953)\n",
      "Time 1.93 minutes, distance 2.41 km.\n"
     ]
    },
    {
     "name": "stdout",
     "output_type": "stream",
     "text": [
      "31\n",
      "116.0\n",
      "331\n"
     ]
    },
    {
     "name": "stderr",
     "output_type": "stream",
     "text": [
      "From: 32.479664,34.91953 - to: 32.464412,34.912191\n",
      "Start coords: (32.479664, 34.91953)\n",
      "End coords: (32.464412, 34.912191)\n",
      "Time 2.25 minutes, distance 1.92 km.\n"
     ]
    },
    {
     "name": "stdout",
     "output_type": "stream",
     "text": [
      "32\n",
      "135.0\n",
      "332\n"
     ]
    },
    {
     "name": "stderr",
     "output_type": "stream",
     "text": [
      "From: 32.464412,34.912191 - to: 32.457375,34.9071\n",
      "Start coords: (32.464412, 34.912191)\n",
      "End coords: (32.457375, 34.9071)\n",
      "Time 0.80 minutes, distance 0.91 km.\n"
     ]
    },
    {
     "name": "stdout",
     "output_type": "stream",
     "text": [
      "33\n",
      "48.0\n",
      "333\n"
     ]
    },
    {
     "name": "stderr",
     "output_type": "stream",
     "text": [
      "From: 32.457375,34.9071 - to: 32.454646,34.907116\n",
      "Start coords: (32.457375, 34.9071)\n",
      "End coords: (32.454646, 34.907116)\n",
      "Time 0.47 minutes, distance 0.30 km.\n"
     ]
    },
    {
     "name": "stdout",
     "output_type": "stream",
     "text": [
      "34\n",
      "28.0\n",
      "334\n"
     ]
    },
    {
     "name": "stderr",
     "output_type": "stream",
     "text": [
      "From: 32.454646,34.907116 - to: 32.450906,34.90867\n",
      "Start coords: (32.454646, 34.907116)\n",
      "End coords: (32.450906, 34.90867)\n",
      "Time 0.48 minutes, distance 0.44 km.\n"
     ]
    },
    {
     "name": "stdout",
     "output_type": "stream",
     "text": [
      "35\n",
      "29.0\n",
      "335\n"
     ]
    },
    {
     "name": "stderr",
     "output_type": "stream",
     "text": [
      "From: 32.450906,34.90867 - to: 32.446689,34.910224\n",
      "Start coords: (32.450906, 34.90867)\n",
      "End coords: (32.446689, 34.910224)\n",
      "Time 0.42 minutes, distance 0.49 km.\n"
     ]
    },
    {
     "name": "stdout",
     "output_type": "stream",
     "text": [
      "36\n",
      "25.0\n",
      "336\n"
     ]
    },
    {
     "name": "stderr",
     "output_type": "stream",
     "text": [
      "From: 32.446689,34.910224 - to: 32.441755,34.910952\n",
      "Start coords: (32.446689, 34.910224)\n",
      "End coords: (32.441755, 34.910952)\n",
      "Time 0.83 minutes, distance 0.56 km.\n"
     ]
    },
    {
     "name": "stdout",
     "output_type": "stream",
     "text": [
      "37\n",
      "50.0\n",
      "337\n"
     ]
    },
    {
     "name": "stderr",
     "output_type": "stream",
     "text": [
      "From: 32.441755,34.910952 - to: 32.438209,34.911987\n",
      "Start coords: (32.441755, 34.910952)\n",
      "End coords: (32.438209, 34.911987)\n",
      "Time 0.80 minutes, distance 0.53 km.\n"
     ]
    },
    {
     "name": "stdout",
     "output_type": "stream",
     "text": [
      "38\n",
      "48.0\n",
      "338\n"
     ]
    },
    {
     "name": "stderr",
     "output_type": "stream",
     "text": [
      "From: 32.438209,34.911987 - to: 32.435324,34.914147\n",
      "Start coords: (32.438209, 34.911987)\n",
      "End coords: (32.435324, 34.914147)\n",
      "Time 2.58 minutes, distance 1.01 km.\n"
     ]
    },
    {
     "name": "stdout",
     "output_type": "stream",
     "text": [
      "39\n",
      "155.0\n",
      "339\n"
     ]
    },
    {
     "name": "stderr",
     "output_type": "stream",
     "text": [
      "From: 32.435324,34.914147 - to: 32.435962,34.914021\n",
      "Start coords: (32.435324, 34.914147)\n",
      "End coords: (32.435962, 34.914021)\n",
      "Time 0.57 minutes, distance 0.11 km.\n"
     ]
    },
    {
     "name": "stdout",
     "output_type": "stream",
     "text": [
      "40\n",
      "34.0\n",
      "340\n"
     ]
    },
    {
     "name": "stderr",
     "output_type": "stream",
     "text": [
      "From: 32.435962,34.914021 - to: 32.432762,34.909369\n",
      "Start coords: (32.435962, 34.914021)\n",
      "End coords: (32.432762, 34.909369)\n",
      "Time 2.93 minutes, distance 1.29 km.\n"
     ]
    },
    {
     "name": "stdout",
     "output_type": "stream",
     "text": [
      "41\n",
      "176.0\n",
      "341\n"
     ]
    },
    {
     "name": "stderr",
     "output_type": "stream",
     "text": [
      "From: 32.432762,34.909369 - to: 32.40895,34.903447\n",
      "Start coords: (32.432762, 34.909369)\n",
      "End coords: (32.40895, 34.903447)\n",
      "Time 1.92 minutes, distance 2.70 km.\n"
     ]
    },
    {
     "name": "stdout",
     "output_type": "stream",
     "text": [
      "42\n",
      "115.0\n",
      "342\n"
     ]
    },
    {
     "name": "stderr",
     "output_type": "stream",
     "text": [
      "From: 32.40895,34.903447 - to: 32.400004,34.903026\n",
      "Start coords: (32.40895, 34.903447)\n",
      "End coords: (32.400004, 34.903026)\n",
      "Time 0.68 minutes, distance 0.99 km.\n"
     ]
    },
    {
     "name": "stdout",
     "output_type": "stream",
     "text": [
      "43\n",
      "41.0\n",
      "343\n"
     ]
    },
    {
     "name": "stderr",
     "output_type": "stream",
     "text": [
      "From: 32.400004,34.903026 - to: 32.392873,34.903167\n",
      "Start coords: (32.400004, 34.903026)\n",
      "End coords: (32.392873, 34.903167)\n",
      "Time 0.57 minutes, distance 0.79 km.\n"
     ]
    },
    {
     "name": "stdout",
     "output_type": "stream",
     "text": [
      "44\n",
      "34.0\n",
      "344\n"
     ]
    },
    {
     "name": "stderr",
     "output_type": "stream",
     "text": [
      "From: 32.392873,34.903167 - to: 32.378766,34.907664\n",
      "Start coords: (32.392873, 34.903167)\n",
      "End coords: (32.378766, 34.907664)\n",
      "Time 1.03 minutes, distance 1.62 km.\n"
     ]
    },
    {
     "name": "stdout",
     "output_type": "stream",
     "text": [
      "45\n",
      "62.00000000000001\n",
      "345\n"
     ]
    },
    {
     "name": "stderr",
     "output_type": "stream",
     "text": [
      "From: 32.378766,34.907664 - to: 32.373139,34.908841\n",
      "Start coords: (32.378766, 34.907664)\n",
      "End coords: (32.373139, 34.908841)\n",
      "Time 0.42 minutes, distance 0.63 km.\n"
     ]
    },
    {
     "name": "stdout",
     "output_type": "stream",
     "text": [
      "46\n",
      "25.0\n",
      "346\n"
     ]
    },
    {
     "name": "stderr",
     "output_type": "stream",
     "text": [
      "From: 32.373139,34.908841 - to: 32.364299,34.90753\n",
      "Start coords: (32.373139, 34.908841)\n",
      "End coords: (32.364299, 34.90753)\n",
      "Time 0.82 minutes, distance 0.99 km.\n"
     ]
    },
    {
     "name": "stdout",
     "output_type": "stream",
     "text": [
      "47\n",
      "49.0\n",
      "347\n"
     ]
    },
    {
     "name": "stderr",
     "output_type": "stream",
     "text": [
      "From: 32.364299,34.90753 - to: 32.358205,34.906876\n",
      "Start coords: (32.364299, 34.90753)\n",
      "End coords: (32.358205, 34.906876)\n",
      "Time 1.38 minutes, distance 0.89 km.\n"
     ]
    },
    {
     "name": "stdout",
     "output_type": "stream",
     "text": [
      "48\n",
      "83.0\n",
      "348\n"
     ]
    },
    {
     "name": "stderr",
     "output_type": "stream",
     "text": [
      "From: 32.358205,34.906876 - to: 32.357114,34.908334\n",
      "Start coords: (32.358205, 34.906876)\n",
      "End coords: (32.357114, 34.908334)\n",
      "Time 0.43 minutes, distance 0.28 km.\n"
     ]
    },
    {
     "name": "stdout",
     "output_type": "stream",
     "text": [
      "49\n",
      "26.0\n",
      "349\n"
     ]
    },
    {
     "name": "stderr",
     "output_type": "stream",
     "text": [
      "From: 32.357114,34.908334 - to: 32.344205,34.907781\n",
      "Start coords: (32.357114, 34.908334)\n",
      "End coords: (32.344205, 34.907781)\n",
      "Time 0.95 minutes, distance 1.43 km.\n"
     ]
    },
    {
     "name": "stdout",
     "output_type": "stream",
     "text": [
      "50\n",
      "57.0\n",
      "350\n"
     ]
    },
    {
     "name": "stderr",
     "output_type": "stream",
     "text": [
      "From: 32.344205,34.907781 - to: 32.321146,34.903693\n",
      "Start coords: (32.344205, 34.907781)\n",
      "End coords: (32.321146, 34.903693)\n",
      "Time 2.48 minutes, distance 2.59 km.\n"
     ]
    },
    {
     "name": "stdout",
     "output_type": "stream",
     "text": [
      "51\n",
      "149.0\n",
      "351\n"
     ]
    },
    {
     "name": "stderr",
     "output_type": "stream",
     "text": [
      "From: 32.321146,34.903693 - to: 32.304107,34.900468\n",
      "Start coords: (32.321146, 34.903693)\n",
      "End coords: (32.304107, 34.900468)\n",
      "Time 1.30 minutes, distance 1.91 km.\n"
     ]
    },
    {
     "name": "stdout",
     "output_type": "stream",
     "text": [
      "52\n",
      "78.0\n",
      "352\n"
     ]
    },
    {
     "name": "stderr",
     "output_type": "stream",
     "text": [
      "From: 32.304107,34.900468 - to: 32.28275,34.896439\n",
      "Start coords: (32.304107, 34.900468)\n",
      "End coords: (32.28275, 34.896439)\n",
      "Time 1.42 minutes, distance 2.40 km.\n"
     ]
    },
    {
     "name": "stdout",
     "output_type": "stream",
     "text": [
      "53\n",
      "85.0\n",
      "353\n"
     ]
    },
    {
     "name": "stderr",
     "output_type": "stream",
     "text": [
      "From: 32.28275,34.896439 - to: 32.275284,34.895065\n",
      "Start coords: (32.28275, 34.896439)\n",
      "End coords: (32.275284, 34.895065)\n",
      "Time 0.58 minutes, distance 0.74 km.\n"
     ]
    },
    {
     "name": "stdout",
     "output_type": "stream",
     "text": [
      "54\n",
      "35.0\n",
      "354\n"
     ]
    },
    {
     "name": "stderr",
     "output_type": "stream",
     "text": [
      "From: 32.275284,34.895065 - to: 32.268669,34.893805\n",
      "Start coords: (32.275284, 34.895065)\n",
      "End coords: (32.268669, 34.893805)\n",
      "Time 0.55 minutes, distance 0.74 km.\n"
     ]
    },
    {
     "name": "stdout",
     "output_type": "stream",
     "text": [
      "55\n",
      "33.0\n",
      "355\n"
     ]
    },
    {
     "name": "stderr",
     "output_type": "stream",
     "text": [
      "From: 32.268669,34.893805 - to: 32.254064,34.88915\n",
      "Start coords: (32.268669, 34.893805)\n",
      "End coords: (32.254064, 34.88915)\n",
      "Time 5.93 minutes, distance 5.11 km.\n"
     ]
    },
    {
     "name": "stdout",
     "output_type": "stream",
     "text": [
      "56\n",
      "356.0\n",
      "356\n"
     ]
    },
    {
     "name": "stderr",
     "output_type": "stream",
     "text": [
      "From: 32.254064,34.88915 - to: 32.239492,34.886062\n",
      "Start coords: (32.254064, 34.88915)\n",
      "End coords: (32.239492, 34.886062)\n",
      "Time 1.25 minutes, distance 1.68 km.\n"
     ]
    },
    {
     "name": "stdout",
     "output_type": "stream",
     "text": [
      "57\n",
      "75.0\n",
      "357\n"
     ]
    },
    {
     "name": "stderr",
     "output_type": "stream",
     "text": [
      "From: 32.239492,34.886062 - to: 32.234942,34.88462\n",
      "Start coords: (32.239492, 34.886062)\n",
      "End coords: (32.234942, 34.88462)\n",
      "Time 0.72 minutes, distance 0.52 km.\n"
     ]
    },
    {
     "name": "stdout",
     "output_type": "stream",
     "text": [
      "58\n",
      "43.0\n",
      "358\n"
     ]
    },
    {
     "name": "stderr",
     "output_type": "stream",
     "text": [
      "From: 32.234942,34.88462 - to: 32.218431,34.883157\n",
      "Start coords: (32.234942, 34.88462)\n",
      "End coords: (32.218431, 34.883157)\n",
      "Time 1.23 minutes, distance 1.85 km.\n"
     ]
    },
    {
     "name": "stdout",
     "output_type": "stream",
     "text": [
      "59\n",
      "74.0\n",
      "359\n"
     ]
    },
    {
     "name": "stderr",
     "output_type": "stream",
     "text": [
      "From: 32.218431,34.883157 - to: 32.209417,34.883706\n",
      "Start coords: (32.218431, 34.883157)\n",
      "End coords: (32.209417, 34.883706)\n",
      "Time 0.63 minutes, distance 1.00 km.\n"
     ]
    },
    {
     "name": "stdout",
     "output_type": "stream",
     "text": [
      "60\n",
      "38.0\n",
      "360\n"
     ]
    },
    {
     "name": "stderr",
     "output_type": "stream",
     "text": [
      "From: 32.209417,34.883706 - to: 32.190754,34.887242\n",
      "Start coords: (32.209417, 34.883706)\n",
      "End coords: (32.190754, 34.887242)\n",
      "Time 2.68 minutes, distance 2.15 km.\n"
     ]
    },
    {
     "name": "stdout",
     "output_type": "stream",
     "text": [
      "61\n",
      "161.0\n",
      "361\n"
     ]
    },
    {
     "name": "stderr",
     "output_type": "stream",
     "text": [
      "From: 32.190754,34.887242 - to: 32.175756,34.890738\n",
      "Start coords: (32.190754, 34.887242)\n",
      "End coords: (32.175756, 34.890738)\n",
      "Time 2.63 minutes, distance 1.90 km.\n"
     ]
    },
    {
     "name": "stdout",
     "output_type": "stream",
     "text": [
      "62\n",
      "158.0\n",
      "362\n"
     ]
    },
    {
     "name": "stderr",
     "output_type": "stream",
     "text": [
      "From: 32.175756,34.890738 - to: 32.155104,34.894483\n",
      "Start coords: (32.175756, 34.890738)\n",
      "End coords: (32.155104, 34.894483)\n",
      "Time 5.72 minutes, distance 2.38 km.\n"
     ]
    },
    {
     "name": "stdout",
     "output_type": "stream",
     "text": [
      "63\n",
      "343.0\n",
      "363\n"
     ]
    },
    {
     "name": "stderr",
     "output_type": "stream",
     "text": [
      "From: 32.155104,34.894483 - to: 32.14303,34.894369\n",
      "Start coords: (32.155104, 34.894483)\n",
      "End coords: (32.14303, 34.894369)\n",
      "Time 2.27 minutes, distance 1.34 km.\n"
     ]
    },
    {
     "name": "stdout",
     "output_type": "stream",
     "text": [
      "64\n",
      "136.0\n",
      "364\n"
     ]
    },
    {
     "name": "stderr",
     "output_type": "stream",
     "text": [
      "From: 32.14303,34.894369 - to: 32.137306,34.896274\n",
      "Start coords: (32.14303, 34.894369)\n",
      "End coords: (32.137306, 34.896274)\n",
      "Time 0.68 minutes, distance 0.68 km.\n"
     ]
    },
    {
     "name": "stdout",
     "output_type": "stream",
     "text": [
      "65\n",
      "41.0\n",
      "365\n"
     ]
    },
    {
     "name": "stderr",
     "output_type": "stream",
     "text": [
      "From: 32.137306,34.896274 - to: 32.132375,34.89996\n",
      "Start coords: (32.137306, 34.896274)\n",
      "End coords: (32.132375, 34.89996)\n",
      "Time 1.08 minutes, distance 0.65 km.\n"
     ]
    },
    {
     "name": "stdout",
     "output_type": "stream",
     "text": [
      "66\n",
      "65.0\n",
      "366\n"
     ]
    },
    {
     "name": "stderr",
     "output_type": "stream",
     "text": [
      "From: 32.132375,34.89996 - to: 32.119907,34.903229\n",
      "Start coords: (32.132375, 34.89996)\n",
      "End coords: (32.119907, 34.903229)\n",
      "Time 2.10 minutes, distance 1.49 km.\n"
     ]
    },
    {
     "name": "stdout",
     "output_type": "stream",
     "text": [
      "67\n",
      "126.0\n",
      "367\n"
     ]
    },
    {
     "name": "stderr",
     "output_type": "stream",
     "text": [
      "From: 32.119907,34.903229 - to: 32.101597,34.89757\n",
      "Start coords: (32.119907, 34.903229)\n",
      "End coords: (32.101597, 34.89757)\n",
      "Time 2.50 minutes, distance 2.13 km.\n"
     ]
    },
    {
     "name": "stdout",
     "output_type": "stream",
     "text": [
      "68\n",
      "150.0\n",
      "368\n"
     ]
    },
    {
     "name": "stderr",
     "output_type": "stream",
     "text": [
      "From: 32.101597,34.89757 - to: 32.09914,34.895905\n",
      "Start coords: (32.101597, 34.89757)\n",
      "End coords: (32.09914, 34.895905)\n",
      "Time 0.42 minutes, distance 0.32 km.\n"
     ]
    },
    {
     "name": "stdout",
     "output_type": "stream",
     "text": [
      "69\n",
      "25.0\n",
      "369\n"
     ]
    },
    {
     "name": "stderr",
     "output_type": "stream",
     "text": [
      "From: 32.09914,34.895905 - to: 32.094807,34.886466\n",
      "Start coords: (32.09914, 34.895905)\n",
      "End coords: (32.094807, 34.886466)\n",
      "Time 3.40 minutes, distance 1.03 km.\n"
     ]
    },
    {
     "name": "stdout",
     "output_type": "stream",
     "text": [
      "70\n",
      "204.0\n",
      "370\n"
     ]
    },
    {
     "name": "stderr",
     "output_type": "stream",
     "text": [
      "From: 32.094807,34.886466 - to: 32.091798,34.865101\n",
      "Start coords: (32.094807, 34.886466)\n",
      "End coords: (32.091798, 34.865101)\n",
      "Time 5.25 minutes, distance 2.13 km.\n"
     ]
    },
    {
     "name": "stdout",
     "output_type": "stream",
     "text": [
      "71\n",
      "315.0\n",
      "371\n"
     ]
    },
    {
     "name": "stderr",
     "output_type": "stream",
     "text": [
      "From: 32.091798,34.865101 - to: 32.092482,34.857247\n",
      "Start coords: (32.091798, 34.865101)\n",
      "End coords: (32.092482, 34.857247)\n",
      "Time 2.33 minutes, distance 0.74 km.\n"
     ]
    },
    {
     "name": "stdout",
     "output_type": "stream",
     "text": [
      "72\n",
      "140.0\n",
      "372\n"
     ]
    },
    {
     "name": "stderr",
     "output_type": "stream",
     "text": [
      "From: 32.092482,34.857247 - to: 32.092807,34.847935\n",
      "Start coords: (32.092482, 34.857247)\n",
      "End coords: (32.092807, 34.847935)\n",
      "Time 1.35 minutes, distance 0.88 km.\n"
     ]
    },
    {
     "name": "stdout",
     "output_type": "stream",
     "text": [
      "73\n",
      "81.0\n",
      "373\n"
     ]
    },
    {
     "name": "stderr",
     "output_type": "stream",
     "text": [
      "From: 32.092807,34.847935 - to: 32.092866,34.836946\n",
      "Start coords: (32.092807, 34.847935)\n",
      "End coords: (32.092866, 34.836946)\n",
      "Time 3.05 minutes, distance 1.04 km.\n"
     ]
    },
    {
     "name": "stdout",
     "output_type": "stream",
     "text": [
      "74\n",
      "183.0\n",
      "374\n"
     ]
    },
    {
     "name": "stderr",
     "output_type": "stream",
     "text": [
      "From: 32.092866,34.836946 - to: 32.091728,34.826477\n",
      "Start coords: (32.092866, 34.836946)\n",
      "End coords: (32.091728, 34.826477)\n",
      "Time 1.38 minutes, distance 1.01 km.\n"
     ]
    },
    {
     "name": "stdout",
     "output_type": "stream",
     "text": [
      "75\n",
      "83.0\n",
      "375\n"
     ]
    },
    {
     "name": "stderr",
     "output_type": "stream",
     "text": [
      "From: 32.091728,34.826477 - to: 32.085293,34.810136\n",
      "Start coords: (32.091728, 34.826477)\n",
      "End coords: (32.085293, 34.810136)\n",
      "Time 4.80 minutes, distance 1.71 km.\n"
     ]
    },
    {
     "name": "stdout",
     "output_type": "stream",
     "text": [
      "76\n",
      "288.0\n",
      "376\n"
     ]
    },
    {
     "name": "stderr",
     "output_type": "stream",
     "text": [
      "From: 32.085293,34.810136 - to: 32.083677,34.806421\n",
      "Start coords: (32.085293, 34.810136)\n",
      "End coords: (32.083677, 34.806421)\n",
      "Time 0.68 minutes, distance 0.40 km.\n"
     ]
    },
    {
     "name": "stdout",
     "output_type": "stream",
     "text": [
      "77\n",
      "41.0\n",
      "377\n"
     ]
    },
    {
     "name": "stderr",
     "output_type": "stream",
     "text": [
      "From: 32.083677,34.806421 - to: 32.079838,34.794882\n",
      "Start coords: (32.083677, 34.806421)\n",
      "End coords: (32.079838, 34.794882)\n",
      "Time 4.12 minutes, distance 1.60 km.\n"
     ]
    },
    {
     "name": "stdout",
     "output_type": "stream",
     "text": [
      "78\n",
      "246.99999999999997\n",
      "378\n"
     ]
    },
    {
     "name": "stderr",
     "output_type": "stream",
     "text": [
      "From: 32.079838,34.794882 - to: 32.074914,34.790734\n",
      "Start coords: (32.079838, 34.794882)\n",
      "End coords: (32.074914, 34.790734)\n",
      "Time 1.62 minutes, distance 0.69 km.\n"
     ]
    },
    {
     "name": "stdout",
     "output_type": "stream",
     "text": [
      "79\n",
      "97.0\n",
      "379\n"
     ]
    },
    {
     "name": "stderr",
     "output_type": "stream",
     "text": [
      "From: 32.074914,34.790734 - to: 32.06123,34.784594\n",
      "Start coords: (32.074914, 34.790734)\n",
      "End coords: (32.06123, 34.784594)\n",
      "Time 3.15 minutes, distance 1.62 km.\n"
     ]
    },
    {
     "name": "stdout",
     "output_type": "stream",
     "text": [
      "80\n",
      "189.0\n",
      "380\n"
     ]
    },
    {
     "name": "stderr",
     "output_type": "stream",
     "text": [
      "From: 32.06123,34.784594 - to: 32.055636,34.780466\n",
      "Start coords: (32.06123, 34.784594)\n",
      "End coords: (32.055636, 34.780466)\n",
      "Time 2.85 minutes, distance 1.07 km.\n"
     ]
    },
    {
     "name": "stdout",
     "output_type": "stream",
     "text": [
      "81\n",
      "171.0\n",
      "381\n"
     ]
    },
    {
     "name": "stderr",
     "output_type": "stream",
     "text": [
      "From: 32.793372,34.958985 - to: 32.789609,34.962117\n",
      "Start coords: (32.793372, 34.958985)\n",
      "End coords: (32.789609, 34.962117)\n",
      "Time 2.13 minutes, distance 0.93 km.\n"
     ]
    },
    {
     "name": "stdout",
     "output_type": "stream",
     "text": [
      "0\n",
      "128.0\n",
      "400\n"
     ]
    },
    {
     "name": "stderr",
     "output_type": "stream",
     "text": [
      "From: 32.789609,34.962117 - to: 32.78459,34.962626\n",
      "Start coords: (32.789609, 34.962117)\n",
      "End coords: (32.78459, 34.962626)\n",
      "Time 0.80 minutes, distance 0.56 km.\n"
     ]
    },
    {
     "name": "stdout",
     "output_type": "stream",
     "text": [
      "1\n",
      "48.0\n",
      "401\n"
     ]
    },
    {
     "name": "stderr",
     "output_type": "stream",
     "text": [
      "From: 32.78459,34.962626 - to: 32.781207,34.962876\n",
      "Start coords: (32.78459, 34.962626)\n",
      "End coords: (32.781207, 34.962876)\n",
      "Time 0.32 minutes, distance 0.38 km.\n"
     ]
    },
    {
     "name": "stdout",
     "output_type": "stream",
     "text": [
      "2\n",
      "19.0\n",
      "402\n"
     ]
    },
    {
     "name": "stderr",
     "output_type": "stream",
     "text": [
      "From: 32.781207,34.962876 - to: 32.772031,34.962995\n",
      "Start coords: (32.781207, 34.962876)\n",
      "End coords: (32.772031, 34.962995)\n",
      "Time 1.83 minutes, distance 1.92 km.\n"
     ]
    },
    {
     "name": "stdout",
     "output_type": "stream",
     "text": [
      "3\n",
      "110.0\n",
      "403\n"
     ]
    },
    {
     "name": "stderr",
     "output_type": "stream",
     "text": [
      "From: 32.772031,34.962995 - to: 32.764238,34.961821\n",
      "Start coords: (32.772031, 34.962995)\n",
      "End coords: (32.764238, 34.961821)\n",
      "Time 0.72 minutes, distance 0.87 km.\n"
     ]
    },
    {
     "name": "stdout",
     "output_type": "stream",
     "text": [
      "4\n",
      "43.0\n",
      "404\n"
     ]
    },
    {
     "name": "stderr",
     "output_type": "stream",
     "text": [
      "From: 32.764238,34.961821 - to: 32.759921,34.961275\n",
      "Start coords: (32.764238, 34.961821)\n",
      "End coords: (32.759921, 34.961275)\n",
      "Time 0.67 minutes, distance 0.48 km.\n"
     ]
    },
    {
     "name": "stdout",
     "output_type": "stream",
     "text": [
      "5\n",
      "40.0\n",
      "405\n"
     ]
    },
    {
     "name": "stderr",
     "output_type": "stream",
     "text": [
      "From: 32.759921,34.961275 - to: 32.752365,34.962668\n",
      "Start coords: (32.759921, 34.961275)\n",
      "End coords: (32.752365, 34.962668)\n",
      "Time 1.05 minutes, distance 0.85 km.\n"
     ]
    },
    {
     "name": "stdout",
     "output_type": "stream",
     "text": [
      "6\n",
      "63.0\n",
      "406\n"
     ]
    },
    {
     "name": "stderr",
     "output_type": "stream",
     "text": [
      "From: 32.752365,34.962668 - to: 32.737043,34.966128\n",
      "Start coords: (32.752365, 34.962668)\n",
      "End coords: (32.737043, 34.966128)\n",
      "Time 1.43 minutes, distance 1.75 km.\n"
     ]
    },
    {
     "name": "stdout",
     "output_type": "stream",
     "text": [
      "7\n",
      "86.0\n",
      "407\n"
     ]
    },
    {
     "name": "stderr",
     "output_type": "stream",
     "text": [
      "From: 32.737043,34.966128 - to: 32.725875,34.966216\n",
      "Start coords: (32.737043, 34.966128)\n",
      "End coords: (32.725875, 34.966216)\n",
      "Time 0.87 minutes, distance 1.24 km.\n"
     ]
    },
    {
     "name": "stdout",
     "output_type": "stream",
     "text": [
      "8\n",
      "52.0\n",
      "408\n"
     ]
    },
    {
     "name": "stderr",
     "output_type": "stream",
     "text": [
      "From: 32.725875,34.966216 - to: 32.717596,34.968597\n",
      "Start coords: (32.725875, 34.966216)\n",
      "End coords: (32.717596, 34.968597)\n",
      "Time 0.72 minutes, distance 0.96 km.\n"
     ]
    },
    {
     "name": "stdout",
     "output_type": "stream",
     "text": [
      "9\n",
      "43.0\n",
      "409\n"
     ]
    },
    {
     "name": "stderr",
     "output_type": "stream",
     "text": [
      "From: 32.717596,34.968597 - to: 32.713239,34.970693\n",
      "Start coords: (32.717596, 34.968597)\n",
      "End coords: (32.713239, 34.970693)\n",
      "Time 0.42 minutes, distance 0.53 km.\n"
     ]
    },
    {
     "name": "stdout",
     "output_type": "stream",
     "text": [
      "10\n",
      "25.0\n",
      "410\n"
     ]
    },
    {
     "name": "stderr",
     "output_type": "stream",
     "text": [
      "From: 32.713239,34.970693 - to: 32.710042,34.970338\n",
      "Start coords: (32.713239, 34.970693)\n",
      "End coords: (32.710042, 34.970338)\n",
      "Time 0.47 minutes, distance 0.36 km.\n"
     ]
    },
    {
     "name": "stdout",
     "output_type": "stream",
     "text": [
      "11\n",
      "28.0\n",
      "411\n"
     ]
    },
    {
     "name": "stderr",
     "output_type": "stream",
     "text": [
      "From: 32.710042,34.970338 - to: 32.702365,34.968957\n",
      "Start coords: (32.710042, 34.970338)\n",
      "End coords: (32.702365, 34.968957)\n",
      "Time 0.72 minutes, distance 0.86 km.\n"
     ]
    },
    {
     "name": "stdout",
     "output_type": "stream",
     "text": [
      "12\n",
      "43.0\n",
      "412\n"
     ]
    },
    {
     "name": "stderr",
     "output_type": "stream",
     "text": [
      "From: 32.702365,34.968957 - to: 32.676436,34.96162\n",
      "Start coords: (32.702365, 34.968957)\n",
      "End coords: (32.676436, 34.96162)\n",
      "Time 2.13 minutes, distance 2.98 km.\n"
     ]
    },
    {
     "name": "stdout",
     "output_type": "stream",
     "text": [
      "13\n",
      "128.0\n",
      "413\n"
     ]
    },
    {
     "name": "stderr",
     "output_type": "stream",
     "text": [
      "From: 32.676436,34.96162 - to: 32.662089,34.960079\n",
      "Start coords: (32.676436, 34.96162)\n",
      "End coords: (32.662089, 34.960079)\n",
      "Time 1.13 minutes, distance 1.60 km.\n"
     ]
    },
    {
     "name": "stdout",
     "output_type": "stream",
     "text": [
      "14\n",
      "68.0\n",
      "414\n"
     ]
    },
    {
     "name": "stderr",
     "output_type": "stream",
     "text": [
      "From: 32.662089,34.960079 - to: 32.647133,34.958825\n",
      "Start coords: (32.662089, 34.960079)\n",
      "End coords: (32.647133, 34.958825)\n",
      "Time 1.00 minutes, distance 1.66 km.\n"
     ]
    },
    {
     "name": "stdout",
     "output_type": "stream",
     "text": [
      "15\n",
      "60.0\n",
      "415\n"
     ]
    },
    {
     "name": "stderr",
     "output_type": "stream",
     "text": [
      "From: 32.647133,34.958825 - to: 32.642367,34.958627\n",
      "Start coords: (32.647133, 34.958825)\n",
      "End coords: (32.642367, 34.958627)\n",
      "Time 0.40 minutes, distance 0.53 km.\n"
     ]
    },
    {
     "name": "stdout",
     "output_type": "stream",
     "text": [
      "16\n",
      "24.0\n",
      "416\n"
     ]
    },
    {
     "name": "stderr",
     "output_type": "stream",
     "text": [
      "From: 32.642367,34.958627 - to: 32.639184,34.958505\n",
      "Start coords: (32.642367, 34.958627)\n",
      "End coords: (32.639184, 34.958505)\n",
      "Time 0.20 minutes, distance 0.35 km.\n"
     ]
    },
    {
     "name": "stdout",
     "output_type": "stream",
     "text": [
      "17\n",
      "12.0\n",
      "417\n"
     ]
    },
    {
     "name": "stderr",
     "output_type": "stream",
     "text": [
      "From: 32.639184,34.958505 - to: 32.628246,34.957538\n",
      "Start coords: (32.639184, 34.958505)\n",
      "End coords: (32.628246, 34.957538)\n",
      "Time 0.92 minutes, distance 1.21 km.\n"
     ]
    },
    {
     "name": "stdout",
     "output_type": "stream",
     "text": [
      "18\n",
      "55.0\n",
      "418\n"
     ]
    },
    {
     "name": "stderr",
     "output_type": "stream",
     "text": [
      "From: 32.628246,34.957538 - to: 32.619035,34.955474\n",
      "Start coords: (32.628246, 34.957538)\n",
      "End coords: (32.619035, 34.955474)\n",
      "Time 0.72 minutes, distance 1.04 km.\n"
     ]
    },
    {
     "name": "stdout",
     "output_type": "stream",
     "text": [
      "19\n",
      "43.0\n",
      "419\n"
     ]
    },
    {
     "name": "stderr",
     "output_type": "stream",
     "text": [
      "From: 32.619035,34.955474 - to: 32.605658,34.952011\n",
      "Start coords: (32.619035, 34.955474)\n",
      "End coords: (32.605658, 34.952011)\n",
      "Time 0.93 minutes, distance 1.52 km.\n"
     ]
    },
    {
     "name": "stdout",
     "output_type": "stream",
     "text": [
      "20\n",
      "56.0\n",
      "420\n"
     ]
    },
    {
     "name": "stderr",
     "output_type": "stream",
     "text": [
      "From: 32.605658,34.952011 - to: 32.595734,34.949146\n",
      "Start coords: (32.605658, 34.952011)\n",
      "End coords: (32.595734, 34.949146)\n",
      "Time 1.22 minutes, distance 1.15 km.\n"
     ]
    },
    {
     "name": "stdout",
     "output_type": "stream",
     "text": [
      "21\n",
      "73.0\n",
      "421\n"
     ]
    },
    {
     "name": "stderr",
     "output_type": "stream",
     "text": [
      "From: 32.595734,34.949146 - to: 32.591639,34.946468\n",
      "Start coords: (32.595734, 34.949146)\n",
      "End coords: (32.591639, 34.946468)\n",
      "Time 1.85 minutes, distance 0.76 km.\n"
     ]
    },
    {
     "name": "stdout",
     "output_type": "stream",
     "text": [
      "22\n",
      "111.0\n",
      "422\n"
     ]
    },
    {
     "name": "stderr",
     "output_type": "stream",
     "text": [
      "From: 32.591639,34.946468 - to: 32.575448,34.938832\n",
      "Start coords: (32.591639, 34.946468)\n",
      "End coords: (32.575448, 34.938832)\n",
      "Time 1.33 minutes, distance 1.95 km.\n"
     ]
    },
    {
     "name": "stdout",
     "output_type": "stream",
     "text": [
      "23\n",
      "80.0\n",
      "423\n"
     ]
    },
    {
     "name": "stderr",
     "output_type": "stream",
     "text": [
      "From: 32.575448,34.938832 - to: 32.571108,34.937372\n",
      "Start coords: (32.575448, 34.938832)\n",
      "End coords: (32.571108, 34.937372)\n",
      "Time 0.52 minutes, distance 0.47 km.\n"
     ]
    },
    {
     "name": "stdout",
     "output_type": "stream",
     "text": [
      "24\n",
      "31.000000000000004\n",
      "424\n"
     ]
    },
    {
     "name": "stderr",
     "output_type": "stream",
     "text": [
      "From: 32.571108,34.937372 - to: 32.568084,34.936196\n",
      "Start coords: (32.571108, 34.937372)\n",
      "End coords: (32.568084, 34.936196)\n",
      "Time 0.33 minutes, distance 0.35 km.\n"
     ]
    },
    {
     "name": "stdout",
     "output_type": "stream",
     "text": [
      "25\n",
      "20.0\n",
      "425\n"
     ]
    },
    {
     "name": "stderr",
     "output_type": "stream",
     "text": [
      "From: 32.568084,34.936196 - to: 32.556372,34.931537\n",
      "Start coords: (32.568084, 34.936196)\n",
      "End coords: (32.556372, 34.931537)\n",
      "Time 0.88 minutes, distance 1.37 km.\n"
     ]
    },
    {
     "name": "stdout",
     "output_type": "stream",
     "text": [
      "26\n",
      "53.0\n",
      "426\n"
     ]
    },
    {
     "name": "stderr",
     "output_type": "stream",
     "text": [
      "From: 32.556372,34.931537 - to: 32.533345,34.928702\n",
      "Start coords: (32.556372, 34.931537)\n",
      "End coords: (32.533345, 34.928702)\n",
      "Time 1.80 minutes, distance 2.62 km.\n"
     ]
    },
    {
     "name": "stdout",
     "output_type": "stream",
     "text": [
      "27\n",
      "108.0\n",
      "427\n"
     ]
    },
    {
     "name": "stderr",
     "output_type": "stream",
     "text": [
      "From: 32.533345,34.928702 - to: 32.523128,34.929403\n",
      "Start coords: (32.533345, 34.928702)\n",
      "End coords: (32.523128, 34.929403)\n",
      "Time 1.52 minutes, distance 1.13 km.\n"
     ]
    },
    {
     "name": "stdout",
     "output_type": "stream",
     "text": [
      "28\n",
      "91.0\n",
      "428\n"
     ]
    },
    {
     "name": "stderr",
     "output_type": "stream",
     "text": [
      "From: 32.523128,34.929403 - to: 32.516826,34.929888\n",
      "Start coords: (32.523128, 34.929403)\n",
      "End coords: (32.516826, 34.929888)\n",
      "Time 4.55 minutes, distance 2.19 km.\n"
     ]
    },
    {
     "name": "stdout",
     "output_type": "stream",
     "text": [
      "29\n",
      "273.0\n",
      "429\n"
     ]
    },
    {
     "name": "stderr",
     "output_type": "stream",
     "text": [
      "From: 32.516826,34.929888 - to: 32.500294,34.927745\n",
      "Start coords: (32.516826, 34.929888)\n",
      "End coords: (32.500294, 34.927745)\n",
      "Time 1.50 minutes, distance 1.88 km.\n"
     ]
    },
    {
     "name": "stdout",
     "output_type": "stream",
     "text": [
      "30\n",
      "90.0\n",
      "430\n"
     ]
    },
    {
     "name": "stderr",
     "output_type": "stream",
     "text": [
      "From: 32.500294,34.927745 - to: 32.479664,34.91953\n",
      "Start coords: (32.500294, 34.927745)\n",
      "End coords: (32.479664, 34.91953)\n",
      "Time 1.70 minutes, distance 2.41 km.\n"
     ]
    },
    {
     "name": "stdout",
     "output_type": "stream",
     "text": [
      "31\n",
      "102.0\n",
      "431\n"
     ]
    },
    {
     "name": "stderr",
     "output_type": "stream",
     "text": [
      "From: 32.479664,34.91953 - to: 32.464412,34.912191\n",
      "Start coords: (32.479664, 34.91953)\n",
      "End coords: (32.464412, 34.912191)\n",
      "Time 2.65 minutes, distance 1.92 km.\n"
     ]
    },
    {
     "name": "stdout",
     "output_type": "stream",
     "text": [
      "32\n",
      "159.0\n",
      "432\n"
     ]
    },
    {
     "name": "stderr",
     "output_type": "stream",
     "text": [
      "From: 32.464412,34.912191 - to: 32.457375,34.9071\n",
      "Start coords: (32.464412, 34.912191)\n",
      "End coords: (32.457375, 34.9071)\n",
      "Time 0.72 minutes, distance 0.91 km.\n"
     ]
    },
    {
     "name": "stdout",
     "output_type": "stream",
     "text": [
      "33\n",
      "43.0\n",
      "433\n"
     ]
    },
    {
     "name": "stderr",
     "output_type": "stream",
     "text": [
      "From: 32.457375,34.9071 - to: 32.454646,34.907116\n",
      "Start coords: (32.457375, 34.9071)\n",
      "End coords: (32.454646, 34.907116)\n",
      "Time 0.22 minutes, distance 0.30 km.\n"
     ]
    },
    {
     "name": "stdout",
     "output_type": "stream",
     "text": [
      "34\n",
      "13.0\n",
      "434\n"
     ]
    },
    {
     "name": "stderr",
     "output_type": "stream",
     "text": [
      "From: 32.454646,34.907116 - to: 32.450906,34.90867\n",
      "Start coords: (32.454646, 34.907116)\n",
      "End coords: (32.450906, 34.90867)\n",
      "Time 0.47 minutes, distance 0.44 km.\n"
     ]
    },
    {
     "name": "stdout",
     "output_type": "stream",
     "text": [
      "35\n",
      "28.0\n",
      "435\n"
     ]
    },
    {
     "name": "stderr",
     "output_type": "stream",
     "text": [
      "From: 32.450906,34.90867 - to: 32.446689,34.910224\n",
      "Start coords: (32.450906, 34.90867)\n",
      "End coords: (32.446689, 34.910224)\n",
      "Time 0.55 minutes, distance 0.49 km.\n"
     ]
    },
    {
     "name": "stdout",
     "output_type": "stream",
     "text": [
      "36\n",
      "33.0\n",
      "436\n"
     ]
    },
    {
     "name": "stderr",
     "output_type": "stream",
     "text": [
      "From: 32.446689,34.910224 - to: 32.441755,34.910952\n",
      "Start coords: (32.446689, 34.910224)\n",
      "End coords: (32.441755, 34.910952)\n",
      "Time 0.73 minutes, distance 0.56 km.\n"
     ]
    },
    {
     "name": "stdout",
     "output_type": "stream",
     "text": [
      "37\n",
      "44.0\n",
      "437\n"
     ]
    },
    {
     "name": "stderr",
     "output_type": "stream",
     "text": [
      "From: 32.441755,34.910952 - to: 32.438209,34.911987\n",
      "Start coords: (32.441755, 34.910952)\n",
      "End coords: (32.438209, 34.911987)\n",
      "Time 1.00 minutes, distance 0.53 km.\n"
     ]
    },
    {
     "name": "stdout",
     "output_type": "stream",
     "text": [
      "38\n",
      "60.0\n",
      "438\n"
     ]
    },
    {
     "name": "stderr",
     "output_type": "stream",
     "text": [
      "From: 32.438209,34.911987 - to: 32.435324,34.914147\n",
      "Start coords: (32.438209, 34.911987)\n",
      "End coords: (32.435324, 34.914147)\n",
      "Time 2.60 minutes, distance 1.01 km.\n"
     ]
    },
    {
     "name": "stdout",
     "output_type": "stream",
     "text": [
      "39\n",
      "156.0\n",
      "439\n"
     ]
    },
    {
     "name": "stderr",
     "output_type": "stream",
     "text": [
      "From: 32.435324,34.914147 - to: 32.435962,34.914021\n",
      "Start coords: (32.435324, 34.914147)\n",
      "End coords: (32.435962, 34.914021)\n",
      "Time 0.57 minutes, distance 0.11 km.\n"
     ]
    },
    {
     "name": "stdout",
     "output_type": "stream",
     "text": [
      "40\n",
      "34.0\n",
      "440\n"
     ]
    },
    {
     "name": "stderr",
     "output_type": "stream",
     "text": [
      "From: 32.435962,34.914021 - to: 32.432762,34.909369\n",
      "Start coords: (32.435962, 34.914021)\n",
      "End coords: (32.432762, 34.909369)\n",
      "Time 3.02 minutes, distance 1.29 km.\n"
     ]
    },
    {
     "name": "stdout",
     "output_type": "stream",
     "text": [
      "41\n",
      "181.0\n",
      "441\n"
     ]
    },
    {
     "name": "stderr",
     "output_type": "stream",
     "text": [
      "From: 32.432762,34.909369 - to: 32.40895,34.903447\n",
      "Start coords: (32.432762, 34.909369)\n",
      "End coords: (32.40895, 34.903447)\n",
      "Time 1.73 minutes, distance 2.70 km.\n"
     ]
    },
    {
     "name": "stdout",
     "output_type": "stream",
     "text": [
      "42\n",
      "104.0\n",
      "442\n"
     ]
    },
    {
     "name": "stderr",
     "output_type": "stream",
     "text": [
      "From: 32.40895,34.903447 - to: 32.400004,34.903026\n",
      "Start coords: (32.40895, 34.903447)\n",
      "End coords: (32.400004, 34.903026)\n",
      "Time 0.60 minutes, distance 0.99 km.\n"
     ]
    },
    {
     "name": "stdout",
     "output_type": "stream",
     "text": [
      "43\n",
      "36.0\n",
      "443\n"
     ]
    },
    {
     "name": "stderr",
     "output_type": "stream",
     "text": [
      "From: 32.400004,34.903026 - to: 32.392873,34.903167\n",
      "Start coords: (32.400004, 34.903026)\n",
      "End coords: (32.392873, 34.903167)\n",
      "Time 0.53 minutes, distance 0.79 km.\n"
     ]
    },
    {
     "name": "stdout",
     "output_type": "stream",
     "text": [
      "44\n",
      "32.0\n",
      "444\n"
     ]
    },
    {
     "name": "stderr",
     "output_type": "stream",
     "text": [
      "From: 32.392873,34.903167 - to: 32.378766,34.907664\n",
      "Start coords: (32.392873, 34.903167)\n",
      "End coords: (32.378766, 34.907664)\n",
      "Time 0.95 minutes, distance 1.62 km.\n"
     ]
    },
    {
     "name": "stdout",
     "output_type": "stream",
     "text": [
      "45\n",
      "57.0\n",
      "445\n"
     ]
    },
    {
     "name": "stderr",
     "output_type": "stream",
     "text": [
      "From: 32.378766,34.907664 - to: 32.373139,34.908841\n",
      "Start coords: (32.378766, 34.907664)\n",
      "End coords: (32.373139, 34.908841)\n",
      "Time 0.33 minutes, distance 0.63 km.\n"
     ]
    },
    {
     "name": "stdout",
     "output_type": "stream",
     "text": [
      "46\n",
      "20.0\n",
      "446\n"
     ]
    },
    {
     "name": "stderr",
     "output_type": "stream",
     "text": [
      "From: 32.373139,34.908841 - to: 32.364299,34.90753\n",
      "Start coords: (32.373139, 34.908841)\n",
      "End coords: (32.364299, 34.90753)\n",
      "Time 0.80 minutes, distance 0.99 km.\n"
     ]
    },
    {
     "name": "stdout",
     "output_type": "stream",
     "text": [
      "47\n",
      "48.0\n",
      "447\n"
     ]
    },
    {
     "name": "stderr",
     "output_type": "stream",
     "text": [
      "From: 32.364299,34.90753 - to: 32.358205,34.906876\n",
      "Start coords: (32.364299, 34.90753)\n",
      "End coords: (32.358205, 34.906876)\n",
      "Time 1.33 minutes, distance 0.89 km.\n"
     ]
    },
    {
     "name": "stdout",
     "output_type": "stream",
     "text": [
      "48\n",
      "80.0\n",
      "448\n"
     ]
    },
    {
     "name": "stderr",
     "output_type": "stream",
     "text": [
      "From: 32.358205,34.906876 - to: 32.357114,34.908334\n",
      "Start coords: (32.358205, 34.906876)\n",
      "End coords: (32.357114, 34.908334)\n",
      "Time 0.43 minutes, distance 0.28 km.\n"
     ]
    },
    {
     "name": "stdout",
     "output_type": "stream",
     "text": [
      "49\n",
      "26.0\n",
      "449\n"
     ]
    },
    {
     "name": "stderr",
     "output_type": "stream",
     "text": [
      "From: 32.357114,34.908334 - to: 32.344205,34.907781\n",
      "Start coords: (32.357114, 34.908334)\n",
      "End coords: (32.344205, 34.907781)\n",
      "Time 0.90 minutes, distance 1.43 km.\n"
     ]
    },
    {
     "name": "stdout",
     "output_type": "stream",
     "text": [
      "50\n",
      "54.0\n",
      "450\n"
     ]
    },
    {
     "name": "stderr",
     "output_type": "stream",
     "text": [
      "From: 32.344205,34.907781 - to: 32.321146,34.903693\n",
      "Start coords: (32.344205, 34.907781)\n",
      "End coords: (32.321146, 34.903693)\n",
      "Time 1.68 minutes, distance 2.59 km.\n"
     ]
    },
    {
     "name": "stdout",
     "output_type": "stream",
     "text": [
      "51\n",
      "101.0\n",
      "451\n"
     ]
    },
    {
     "name": "stderr",
     "output_type": "stream",
     "text": [
      "From: 32.321146,34.903693 - to: 32.304107,34.900468\n",
      "Start coords: (32.321146, 34.903693)\n",
      "End coords: (32.304107, 34.900468)\n",
      "Time 1.28 minutes, distance 1.91 km.\n"
     ]
    },
    {
     "name": "stdout",
     "output_type": "stream",
     "text": [
      "52\n",
      "77.0\n",
      "452\n"
     ]
    },
    {
     "name": "stderr",
     "output_type": "stream",
     "text": [
      "From: 32.304107,34.900468 - to: 32.28275,34.896439\n",
      "Start coords: (32.304107, 34.900468)\n",
      "End coords: (32.28275, 34.896439)\n",
      "Time 1.40 minutes, distance 2.40 km.\n"
     ]
    },
    {
     "name": "stdout",
     "output_type": "stream",
     "text": [
      "53\n",
      "84.0\n",
      "453\n"
     ]
    },
    {
     "name": "stderr",
     "output_type": "stream",
     "text": [
      "From: 32.28275,34.896439 - to: 32.275284,34.895065\n",
      "Start coords: (32.28275, 34.896439)\n",
      "End coords: (32.275284, 34.895065)\n",
      "Time 0.47 minutes, distance 0.74 km.\n"
     ]
    },
    {
     "name": "stdout",
     "output_type": "stream",
     "text": [
      "54\n",
      "28.0\n",
      "454\n"
     ]
    },
    {
     "name": "stderr",
     "output_type": "stream",
     "text": [
      "From: 32.275284,34.895065 - to: 32.268669,34.893805\n",
      "Start coords: (32.275284, 34.895065)\n",
      "End coords: (32.268669, 34.893805)\n",
      "Time 0.42 minutes, distance 0.74 km.\n"
     ]
    },
    {
     "name": "stdout",
     "output_type": "stream",
     "text": [
      "55\n",
      "25.0\n",
      "455\n"
     ]
    },
    {
     "name": "stderr",
     "output_type": "stream",
     "text": [
      "From: 32.268669,34.893805 - to: 32.254064,34.88915\n",
      "Start coords: (32.268669, 34.893805)\n",
      "End coords: (32.254064, 34.88915)\n",
      "Time 5.77 minutes, distance 5.11 km.\n"
     ]
    },
    {
     "name": "stdout",
     "output_type": "stream",
     "text": [
      "56\n",
      "346.0\n",
      "456\n"
     ]
    },
    {
     "name": "stderr",
     "output_type": "stream",
     "text": [
      "From: 32.254064,34.88915 - to: 32.239492,34.886062\n",
      "Start coords: (32.254064, 34.88915)\n",
      "End coords: (32.239492, 34.886062)\n",
      "Time 1.25 minutes, distance 1.68 km.\n"
     ]
    },
    {
     "name": "stdout",
     "output_type": "stream",
     "text": [
      "57\n",
      "75.0\n",
      "457\n"
     ]
    },
    {
     "name": "stderr",
     "output_type": "stream",
     "text": [
      "From: 32.239492,34.886062 - to: 32.234942,34.88462\n",
      "Start coords: (32.239492, 34.886062)\n",
      "End coords: (32.234942, 34.88462)\n",
      "Time 0.72 minutes, distance 0.52 km.\n"
     ]
    },
    {
     "name": "stdout",
     "output_type": "stream",
     "text": [
      "58\n",
      "43.0\n",
      "458\n"
     ]
    },
    {
     "name": "stderr",
     "output_type": "stream",
     "text": [
      "From: 32.234942,34.88462 - to: 32.218431,34.883157\n",
      "Start coords: (32.234942, 34.88462)\n",
      "End coords: (32.218431, 34.883157)\n",
      "Time 1.18 minutes, distance 1.85 km.\n"
     ]
    },
    {
     "name": "stdout",
     "output_type": "stream",
     "text": [
      "59\n",
      "71.0\n",
      "459\n"
     ]
    },
    {
     "name": "stderr",
     "output_type": "stream",
     "text": [
      "From: 32.218431,34.883157 - to: 32.209417,34.883706\n",
      "Start coords: (32.218431, 34.883157)\n",
      "End coords: (32.209417, 34.883706)\n",
      "Time 0.58 minutes, distance 1.00 km.\n"
     ]
    },
    {
     "name": "stdout",
     "output_type": "stream",
     "text": [
      "60\n",
      "35.0\n",
      "460\n"
     ]
    },
    {
     "name": "stderr",
     "output_type": "stream",
     "text": [
      "From: 32.209417,34.883706 - to: 32.190754,34.887242\n",
      "Start coords: (32.209417, 34.883706)\n",
      "End coords: (32.190754, 34.887242)\n",
      "Time 2.50 minutes, distance 2.15 km.\n"
     ]
    },
    {
     "name": "stdout",
     "output_type": "stream",
     "text": [
      "61\n",
      "150.0\n",
      "461\n"
     ]
    },
    {
     "name": "stderr",
     "output_type": "stream",
     "text": [
      "From: 32.190754,34.887242 - to: 32.175756,34.890738\n",
      "Start coords: (32.190754, 34.887242)\n",
      "End coords: (32.175756, 34.890738)\n",
      "Time 2.45 minutes, distance 1.90 km.\n"
     ]
    },
    {
     "name": "stdout",
     "output_type": "stream",
     "text": [
      "62\n",
      "147.0\n",
      "462\n"
     ]
    },
    {
     "name": "stderr",
     "output_type": "stream",
     "text": [
      "From: 32.175756,34.890738 - to: 32.155104,34.894483\n",
      "Start coords: (32.175756, 34.890738)\n",
      "End coords: (32.155104, 34.894483)\n",
      "Time 5.23 minutes, distance 2.38 km.\n"
     ]
    },
    {
     "name": "stdout",
     "output_type": "stream",
     "text": [
      "63\n",
      "314.0\n",
      "463\n"
     ]
    },
    {
     "name": "stderr",
     "output_type": "stream",
     "text": [
      "From: 32.155104,34.894483 - to: 32.14303,34.894369\n",
      "Start coords: (32.155104, 34.894483)\n",
      "End coords: (32.14303, 34.894369)\n",
      "Time 1.73 minutes, distance 1.34 km.\n"
     ]
    },
    {
     "name": "stdout",
     "output_type": "stream",
     "text": [
      "64\n",
      "104.0\n",
      "464\n"
     ]
    },
    {
     "name": "stderr",
     "output_type": "stream",
     "text": [
      "From: 32.14303,34.894369 - to: 32.137306,34.896274\n",
      "Start coords: (32.14303, 34.894369)\n",
      "End coords: (32.137306, 34.896274)\n",
      "Time 0.82 minutes, distance 0.68 km.\n"
     ]
    },
    {
     "name": "stdout",
     "output_type": "stream",
     "text": [
      "65\n",
      "49.0\n",
      "465\n"
     ]
    },
    {
     "name": "stderr",
     "output_type": "stream",
     "text": [
      "From: 32.137306,34.896274 - to: 32.132375,34.89996\n",
      "Start coords: (32.137306, 34.896274)\n",
      "End coords: (32.132375, 34.89996)\n",
      "Time 1.23 minutes, distance 0.65 km.\n"
     ]
    },
    {
     "name": "stdout",
     "output_type": "stream",
     "text": [
      "66\n",
      "74.0\n",
      "466\n"
     ]
    },
    {
     "name": "stderr",
     "output_type": "stream",
     "text": [
      "From: 32.132375,34.89996 - to: 32.119907,34.903229\n",
      "Start coords: (32.132375, 34.89996)\n",
      "End coords: (32.119907, 34.903229)\n",
      "Time 1.63 minutes, distance 1.49 km.\n"
     ]
    },
    {
     "name": "stdout",
     "output_type": "stream",
     "text": [
      "67\n",
      "98.0\n",
      "467\n"
     ]
    },
    {
     "name": "stderr",
     "output_type": "stream",
     "text": [
      "From: 32.119907,34.903229 - to: 32.101597,34.89757\n",
      "Start coords: (32.119907, 34.903229)\n",
      "End coords: (32.101597, 34.89757)\n",
      "Time 2.18 minutes, distance 2.13 km.\n"
     ]
    },
    {
     "name": "stdout",
     "output_type": "stream",
     "text": [
      "68\n",
      "131.0\n",
      "468\n"
     ]
    },
    {
     "name": "stderr",
     "output_type": "stream",
     "text": [
      "From: 32.101597,34.89757 - to: 32.09914,34.895905\n",
      "Start coords: (32.101597, 34.89757)\n",
      "End coords: (32.09914, 34.895905)\n",
      "Time 0.60 minutes, distance 0.32 km.\n"
     ]
    },
    {
     "name": "stdout",
     "output_type": "stream",
     "text": [
      "69\n",
      "36.0\n",
      "469\n"
     ]
    },
    {
     "name": "stderr",
     "output_type": "stream",
     "text": [
      "From: 32.09914,34.895905 - to: 32.094807,34.886466\n",
      "Start coords: (32.09914, 34.895905)\n",
      "End coords: (32.094807, 34.886466)\n",
      "Time 3.17 minutes, distance 1.03 km.\n"
     ]
    },
    {
     "name": "stdout",
     "output_type": "stream",
     "text": [
      "70\n",
      "190.0\n",
      "470\n"
     ]
    },
    {
     "name": "stderr",
     "output_type": "stream",
     "text": [
      "From: 32.094807,34.886466 - to: 32.091798,34.865101\n",
      "Start coords: (32.094807, 34.886466)\n",
      "End coords: (32.091798, 34.865101)\n",
      "Time 5.18 minutes, distance 2.43 km.\n"
     ]
    },
    {
     "name": "stdout",
     "output_type": "stream",
     "text": [
      "71\n",
      "311.0\n",
      "471\n"
     ]
    },
    {
     "name": "stderr",
     "output_type": "stream",
     "text": [
      "From: 32.091798,34.865101 - to: 32.092482,34.857247\n",
      "Start coords: (32.091798, 34.865101)\n",
      "End coords: (32.092482, 34.857247)\n",
      "Time 2.02 minutes, distance 0.74 km.\n"
     ]
    },
    {
     "name": "stdout",
     "output_type": "stream",
     "text": [
      "72\n",
      "121.0\n",
      "472\n"
     ]
    },
    {
     "name": "stderr",
     "output_type": "stream",
     "text": [
      "From: 32.092482,34.857247 - to: 32.092807,34.847935\n",
      "Start coords: (32.092482, 34.857247)\n",
      "End coords: (32.092807, 34.847935)\n",
      "Time 1.03 minutes, distance 0.88 km.\n"
     ]
    },
    {
     "name": "stdout",
     "output_type": "stream",
     "text": [
      "73\n",
      "62.00000000000001\n",
      "473\n"
     ]
    },
    {
     "name": "stderr",
     "output_type": "stream",
     "text": [
      "From: 32.092807,34.847935 - to: 32.092866,34.836946\n",
      "Start coords: (32.092807, 34.847935)\n",
      "End coords: (32.092866, 34.836946)\n",
      "Time 1.92 minutes, distance 1.04 km.\n"
     ]
    },
    {
     "name": "stdout",
     "output_type": "stream",
     "text": [
      "74\n",
      "115.0\n",
      "474\n"
     ]
    },
    {
     "name": "stderr",
     "output_type": "stream",
     "text": [
      "From: 32.092866,34.836946 - to: 32.091728,34.826477\n",
      "Start coords: (32.092866, 34.836946)\n",
      "End coords: (32.091728, 34.826477)\n",
      "Time 1.67 minutes, distance 1.01 km.\n"
     ]
    },
    {
     "name": "stdout",
     "output_type": "stream",
     "text": [
      "75\n",
      "100.0\n",
      "475\n"
     ]
    },
    {
     "name": "stderr",
     "output_type": "stream",
     "text": [
      "From: 32.091728,34.826477 - to: 32.085293,34.810136\n",
      "Start coords: (32.091728, 34.826477)\n",
      "End coords: (32.085293, 34.810136)\n",
      "Time 4.25 minutes, distance 1.71 km.\n"
     ]
    },
    {
     "name": "stdout",
     "output_type": "stream",
     "text": [
      "76\n",
      "255.0\n",
      "476\n"
     ]
    },
    {
     "name": "stderr",
     "output_type": "stream",
     "text": [
      "From: 32.085293,34.810136 - to: 32.083677,34.806421\n",
      "Start coords: (32.085293, 34.810136)\n",
      "End coords: (32.083677, 34.806421)\n",
      "Time 0.53 minutes, distance 0.40 km.\n"
     ]
    },
    {
     "name": "stdout",
     "output_type": "stream",
     "text": [
      "77\n",
      "32.0\n",
      "477\n"
     ]
    },
    {
     "name": "stderr",
     "output_type": "stream",
     "text": [
      "From: 32.083677,34.806421 - to: 32.079838,34.794882\n",
      "Start coords: (32.083677, 34.806421)\n",
      "End coords: (32.079838, 34.794882)\n",
      "Time 3.75 minutes, distance 1.60 km.\n"
     ]
    },
    {
     "name": "stdout",
     "output_type": "stream",
     "text": [
      "78\n",
      "225.0\n",
      "478\n"
     ]
    },
    {
     "name": "stderr",
     "output_type": "stream",
     "text": [
      "From: 32.079838,34.794882 - to: 32.074914,34.790734\n",
      "Start coords: (32.079838, 34.794882)\n",
      "End coords: (32.074914, 34.790734)\n",
      "Time 1.13 minutes, distance 0.69 km.\n"
     ]
    },
    {
     "name": "stdout",
     "output_type": "stream",
     "text": [
      "79\n",
      "68.0\n",
      "479\n"
     ]
    },
    {
     "name": "stderr",
     "output_type": "stream",
     "text": [
      "From: 32.074914,34.790734 - to: 32.06123,34.784594\n",
      "Start coords: (32.074914, 34.790734)\n",
      "End coords: (32.06123, 34.784594)\n",
      "Time 4.00 minutes, distance 1.62 km.\n"
     ]
    },
    {
     "name": "stdout",
     "output_type": "stream",
     "text": [
      "80\n",
      "240.0\n",
      "480\n"
     ]
    },
    {
     "name": "stderr",
     "output_type": "stream",
     "text": [
      "From: 32.06123,34.784594 - to: 32.055636,34.780466\n",
      "Start coords: (32.06123, 34.784594)\n",
      "End coords: (32.055636, 34.780466)\n",
      "Time 2.58 minutes, distance 1.07 km.\n"
     ]
    },
    {
     "name": "stdout",
     "output_type": "stream",
     "text": [
      "81\n",
      "155.0\n",
      "481\n"
     ]
    },
    {
     "name": "stderr",
     "output_type": "stream",
     "text": [
      "From: 32.793372,34.958985 - to: 32.789609,34.962117\n",
      "Start coords: (32.793372, 34.958985)\n",
      "End coords: (32.789609, 34.962117)\n",
      "Time 2.32 minutes, distance 0.93 km.\n"
     ]
    },
    {
     "name": "stdout",
     "output_type": "stream",
     "text": [
      "0\n",
      "139.0\n",
      "500\n"
     ]
    },
    {
     "name": "stderr",
     "output_type": "stream",
     "text": [
      "From: 32.789609,34.962117 - to: 32.78459,34.962626\n",
      "Start coords: (32.789609, 34.962117)\n",
      "End coords: (32.78459, 34.962626)\n",
      "Time 0.50 minutes, distance 0.56 km.\n"
     ]
    },
    {
     "name": "stdout",
     "output_type": "stream",
     "text": [
      "1\n",
      "30.0\n",
      "501\n"
     ]
    },
    {
     "name": "stderr",
     "output_type": "stream",
     "text": [
      "From: 32.78459,34.962626 - to: 32.781207,34.962876\n",
      "Start coords: (32.78459, 34.962626)\n",
      "End coords: (32.781207, 34.962876)\n",
      "Time 0.28 minutes, distance 0.38 km.\n"
     ]
    },
    {
     "name": "stdout",
     "output_type": "stream",
     "text": [
      "2\n",
      "17.0\n",
      "502\n"
     ]
    },
    {
     "name": "stderr",
     "output_type": "stream",
     "text": [
      "From: 32.781207,34.962876 - to: 32.772031,34.962995\n",
      "Start coords: (32.781207, 34.962876)\n",
      "End coords: (32.772031, 34.962995)\n",
      "Time 1.52 minutes, distance 1.92 km.\n"
     ]
    },
    {
     "name": "stdout",
     "output_type": "stream",
     "text": [
      "3\n",
      "91.0\n",
      "503\n"
     ]
    },
    {
     "name": "stderr",
     "output_type": "stream",
     "text": [
      "From: 32.772031,34.962995 - to: 32.764238,34.961821\n",
      "Start coords: (32.772031, 34.962995)\n",
      "End coords: (32.764238, 34.961821)\n",
      "Time 0.68 minutes, distance 0.87 km.\n"
     ]
    },
    {
     "name": "stdout",
     "output_type": "stream",
     "text": [
      "4\n",
      "41.0\n",
      "504\n"
     ]
    },
    {
     "name": "stderr",
     "output_type": "stream",
     "text": [
      "From: 32.764238,34.961821 - to: 32.759921,34.961275\n",
      "Start coords: (32.764238, 34.961821)\n",
      "End coords: (32.759921, 34.961275)\n",
      "Time 0.52 minutes, distance 0.48 km.\n"
     ]
    },
    {
     "name": "stdout",
     "output_type": "stream",
     "text": [
      "5\n",
      "31.000000000000004\n",
      "505\n"
     ]
    },
    {
     "name": "stderr",
     "output_type": "stream",
     "text": [
      "From: 32.759921,34.961275 - to: 32.752365,34.962668\n",
      "Start coords: (32.759921, 34.961275)\n",
      "End coords: (32.752365, 34.962668)\n",
      "Time 0.68 minutes, distance 0.85 km.\n"
     ]
    },
    {
     "name": "stdout",
     "output_type": "stream",
     "text": [
      "6\n",
      "41.0\n",
      "506\n"
     ]
    },
    {
     "name": "stderr",
     "output_type": "stream",
     "text": [
      "From: 32.752365,34.962668 - to: 32.737043,34.966128\n",
      "Start coords: (32.752365, 34.962668)\n",
      "End coords: (32.737043, 34.966128)\n",
      "Time 1.17 minutes, distance 1.75 km.\n"
     ]
    },
    {
     "name": "stdout",
     "output_type": "stream",
     "text": [
      "7\n",
      "70.0\n",
      "507\n"
     ]
    },
    {
     "name": "stderr",
     "output_type": "stream",
     "text": [
      "From: 32.737043,34.966128 - to: 32.725875,34.966216\n",
      "Start coords: (32.737043, 34.966128)\n",
      "End coords: (32.725875, 34.966216)\n",
      "Time 0.80 minutes, distance 1.24 km.\n"
     ]
    },
    {
     "name": "stdout",
     "output_type": "stream",
     "text": [
      "8\n",
      "48.0\n",
      "508\n"
     ]
    },
    {
     "name": "stderr",
     "output_type": "stream",
     "text": [
      "From: 32.725875,34.966216 - to: 32.717596,34.968597\n",
      "Start coords: (32.725875, 34.966216)\n",
      "End coords: (32.717596, 34.968597)\n",
      "Time 0.63 minutes, distance 0.96 km.\n"
     ]
    },
    {
     "name": "stdout",
     "output_type": "stream",
     "text": [
      "9\n",
      "38.0\n",
      "509\n"
     ]
    },
    {
     "name": "stderr",
     "output_type": "stream",
     "text": [
      "From: 32.717596,34.968597 - to: 32.713239,34.970693\n",
      "Start coords: (32.717596, 34.968597)\n",
      "End coords: (32.713239, 34.970693)\n",
      "Time 0.37 minutes, distance 0.53 km.\n"
     ]
    },
    {
     "name": "stdout",
     "output_type": "stream",
     "text": [
      "10\n",
      "22.0\n",
      "510\n"
     ]
    },
    {
     "name": "stderr",
     "output_type": "stream",
     "text": [
      "From: 32.713239,34.970693 - to: 32.710042,34.970338\n",
      "Start coords: (32.713239, 34.970693)\n",
      "End coords: (32.710042, 34.970338)\n",
      "Time 0.38 minutes, distance 0.36 km.\n"
     ]
    },
    {
     "name": "stdout",
     "output_type": "stream",
     "text": [
      "11\n",
      "23.0\n",
      "511\n"
     ]
    },
    {
     "name": "stderr",
     "output_type": "stream",
     "text": [
      "From: 32.710042,34.970338 - to: 32.702365,34.968957\n",
      "Start coords: (32.710042, 34.970338)\n",
      "End coords: (32.702365, 34.968957)\n",
      "Time 0.70 minutes, distance 0.86 km.\n"
     ]
    },
    {
     "name": "stdout",
     "output_type": "stream",
     "text": [
      "12\n",
      "42.0\n",
      "512\n"
     ]
    },
    {
     "name": "stderr",
     "output_type": "stream",
     "text": [
      "From: 32.702365,34.968957 - to: 32.676436,34.96162\n",
      "Start coords: (32.702365, 34.968957)\n",
      "End coords: (32.676436, 34.96162)\n",
      "Time 2.12 minutes, distance 2.98 km.\n"
     ]
    },
    {
     "name": "stdout",
     "output_type": "stream",
     "text": [
      "13\n",
      "127.0\n",
      "513\n"
     ]
    },
    {
     "name": "stderr",
     "output_type": "stream",
     "text": [
      "From: 32.676436,34.96162 - to: 32.662089,34.960079\n",
      "Start coords: (32.676436, 34.96162)\n",
      "End coords: (32.662089, 34.960079)\n",
      "Time 1.13 minutes, distance 1.60 km.\n"
     ]
    },
    {
     "name": "stdout",
     "output_type": "stream",
     "text": [
      "14\n",
      "68.0\n"
     ]
    },
    {
     "name": "stderr",
     "output_type": "stream",
     "text": [
      "From: 32.662089,34.960079 - to: 32.647133,34.958825\n",
      "Start coords: (32.662089, 34.960079)\n",
      "End coords: (32.647133, 34.958825)\n",
      "Time 1.17 minutes, distance 1.66 km.\n"
     ]
    },
    {
     "name": "stdout",
     "output_type": "stream",
     "text": [
      "514\n",
      "15\n",
      "70.0\n",
      "515\n"
     ]
    },
    {
     "name": "stderr",
     "output_type": "stream",
     "text": [
      "From: 32.647133,34.958825 - to: 32.642367,34.958627\n",
      "Start coords: (32.647133, 34.958825)\n",
      "End coords: (32.642367, 34.958627)\n",
      "Time 0.28 minutes, distance 0.53 km.\n"
     ]
    },
    {
     "name": "stdout",
     "output_type": "stream",
     "text": [
      "16\n",
      "17.0\n",
      "516\n"
     ]
    },
    {
     "name": "stderr",
     "output_type": "stream",
     "text": [
      "From: 32.642367,34.958627 - to: 32.639184,34.958505\n",
      "Start coords: (32.642367, 34.958627)\n",
      "End coords: (32.639184, 34.958505)\n",
      "Time 0.18 minutes, distance 0.35 km.\n"
     ]
    },
    {
     "name": "stdout",
     "output_type": "stream",
     "text": [
      "17\n",
      "11.0\n",
      "517\n"
     ]
    },
    {
     "name": "stderr",
     "output_type": "stream",
     "text": [
      "From: 32.639184,34.958505 - to: 32.628246,34.957538\n",
      "Start coords: (32.639184, 34.958505)\n",
      "End coords: (32.628246, 34.957538)\n",
      "Time 0.92 minutes, distance 1.21 km.\n"
     ]
    },
    {
     "name": "stdout",
     "output_type": "stream",
     "text": [
      "18\n",
      "55.0\n",
      "518\n"
     ]
    },
    {
     "name": "stderr",
     "output_type": "stream",
     "text": [
      "From: 32.628246,34.957538 - to: 32.619035,34.955474\n",
      "Start coords: (32.628246, 34.957538)\n",
      "End coords: (32.619035, 34.955474)\n",
      "Time 0.72 minutes, distance 1.04 km.\n"
     ]
    },
    {
     "name": "stdout",
     "output_type": "stream",
     "text": [
      "19\n",
      "43.0\n",
      "519\n"
     ]
    },
    {
     "name": "stderr",
     "output_type": "stream",
     "text": [
      "From: 32.619035,34.955474 - to: 32.605658,34.952011\n",
      "Start coords: (32.619035, 34.955474)\n",
      "End coords: (32.605658, 34.952011)\n",
      "Time 1.08 minutes, distance 1.52 km.\n"
     ]
    },
    {
     "name": "stdout",
     "output_type": "stream",
     "text": [
      "20\n",
      "65.0\n",
      "520\n"
     ]
    },
    {
     "name": "stderr",
     "output_type": "stream",
     "text": [
      "From: 32.605658,34.952011 - to: 32.595734,34.949146\n",
      "Start coords: (32.605658, 34.952011)\n",
      "End coords: (32.595734, 34.949146)\n",
      "Time 1.38 minutes, distance 1.15 km.\n"
     ]
    },
    {
     "name": "stdout",
     "output_type": "stream",
     "text": [
      "21\n",
      "83.0\n",
      "521\n"
     ]
    },
    {
     "name": "stderr",
     "output_type": "stream",
     "text": [
      "From: 32.595734,34.949146 - to: 32.591639,34.946468\n",
      "Start coords: (32.595734, 34.949146)\n",
      "End coords: (32.591639, 34.946468)\n",
      "Time 1.87 minutes, distance 0.76 km.\n"
     ]
    },
    {
     "name": "stdout",
     "output_type": "stream",
     "text": [
      "22\n",
      "112.0\n",
      "522\n"
     ]
    },
    {
     "name": "stderr",
     "output_type": "stream",
     "text": [
      "From: 32.591639,34.946468 - to: 32.575448,34.938832\n",
      "Start coords: (32.591639, 34.946468)\n",
      "End coords: (32.575448, 34.938832)\n",
      "Time 1.35 minutes, distance 1.95 km.\n"
     ]
    },
    {
     "name": "stdout",
     "output_type": "stream",
     "text": [
      "23\n",
      "81.0\n",
      "523\n"
     ]
    },
    {
     "name": "stderr",
     "output_type": "stream",
     "text": [
      "From: 32.575448,34.938832 - to: 32.571108,34.937372\n",
      "Start coords: (32.575448, 34.938832)\n",
      "End coords: (32.571108, 34.937372)\n",
      "Time 0.47 minutes, distance 0.47 km.\n"
     ]
    },
    {
     "name": "stdout",
     "output_type": "stream",
     "text": [
      "24\n",
      "28.0\n",
      "524\n"
     ]
    },
    {
     "name": "stderr",
     "output_type": "stream",
     "text": [
      "From: 32.571108,34.937372 - to: 32.568084,34.936196\n",
      "Start coords: (32.571108, 34.937372)\n",
      "End coords: (32.568084, 34.936196)\n",
      "Time 0.28 minutes, distance 0.35 km.\n"
     ]
    },
    {
     "name": "stdout",
     "output_type": "stream",
     "text": [
      "25\n",
      "17.0\n",
      "525\n"
     ]
    },
    {
     "name": "stderr",
     "output_type": "stream",
     "text": [
      "From: 32.568084,34.936196 - to: 32.556372,34.931537\n",
      "Start coords: (32.568084, 34.936196)\n",
      "End coords: (32.556372, 34.931537)\n",
      "Time 0.82 minutes, distance 1.37 km.\n"
     ]
    },
    {
     "name": "stdout",
     "output_type": "stream",
     "text": [
      "26\n",
      "49.0\n",
      "526\n"
     ]
    },
    {
     "name": "stderr",
     "output_type": "stream",
     "text": [
      "From: 32.556372,34.931537 - to: 32.533345,34.928702\n",
      "Start coords: (32.556372, 34.931537)\n",
      "End coords: (32.533345, 34.928702)\n",
      "Time 1.62 minutes, distance 2.62 km.\n"
     ]
    },
    {
     "name": "stdout",
     "output_type": "stream",
     "text": [
      "27\n",
      "97.0\n",
      "527\n"
     ]
    },
    {
     "name": "stderr",
     "output_type": "stream",
     "text": [
      "From: 32.533345,34.928702 - to: 32.523128,34.929403\n",
      "Start coords: (32.533345, 34.928702)\n",
      "End coords: (32.523128, 34.929403)\n",
      "Time 1.52 minutes, distance 1.13 km.\n"
     ]
    },
    {
     "name": "stdout",
     "output_type": "stream",
     "text": [
      "28\n",
      "91.0\n",
      "528\n"
     ]
    },
    {
     "name": "stderr",
     "output_type": "stream",
     "text": [
      "From: 32.523128,34.929403 - to: 32.516826,34.929888\n",
      "Start coords: (32.523128, 34.929403)\n",
      "End coords: (32.516826, 34.929888)\n",
      "Time 3.88 minutes, distance 2.19 km.\n"
     ]
    },
    {
     "name": "stdout",
     "output_type": "stream",
     "text": [
      "29\n",
      "233.0\n",
      "529\n"
     ]
    },
    {
     "name": "stderr",
     "output_type": "stream",
     "text": [
      "From: 32.516826,34.929888 - to: 32.500294,34.927745\n",
      "Start coords: (32.516826, 34.929888)\n",
      "End coords: (32.500294, 34.927745)\n",
      "Time 1.62 minutes, distance 1.88 km.\n"
     ]
    },
    {
     "name": "stdout",
     "output_type": "stream",
     "text": [
      "30\n",
      "97.0\n",
      "530\n"
     ]
    },
    {
     "name": "stderr",
     "output_type": "stream",
     "text": [
      "From: 32.500294,34.927745 - to: 32.479664,34.91953\n",
      "Start coords: (32.500294, 34.927745)\n",
      "End coords: (32.479664, 34.91953)\n",
      "Time 1.98 minutes, distance 2.41 km.\n"
     ]
    },
    {
     "name": "stdout",
     "output_type": "stream",
     "text": [
      "31\n",
      "119.0\n",
      "531\n"
     ]
    },
    {
     "name": "stderr",
     "output_type": "stream",
     "text": [
      "From: 32.479664,34.91953 - to: 32.464412,34.912191\n",
      "Start coords: (32.479664, 34.91953)\n",
      "End coords: (32.464412, 34.912191)\n",
      "Time 2.00 minutes, distance 1.92 km.\n"
     ]
    },
    {
     "name": "stdout",
     "output_type": "stream",
     "text": [
      "32\n",
      "120.0\n",
      "532\n"
     ]
    },
    {
     "name": "stderr",
     "output_type": "stream",
     "text": [
      "From: 32.464412,34.912191 - to: 32.457375,34.9071\n",
      "Start coords: (32.464412, 34.912191)\n",
      "End coords: (32.457375, 34.9071)\n",
      "Time 0.73 minutes, distance 0.91 km.\n"
     ]
    },
    {
     "name": "stdout",
     "output_type": "stream",
     "text": [
      "33\n",
      "44.0\n",
      "533\n"
     ]
    },
    {
     "name": "stderr",
     "output_type": "stream",
     "text": [
      "From: 32.457375,34.9071 - to: 32.454646,34.907116\n",
      "Start coords: (32.457375, 34.9071)\n",
      "End coords: (32.454646, 34.907116)\n",
      "Time 0.47 minutes, distance 0.30 km.\n"
     ]
    },
    {
     "name": "stdout",
     "output_type": "stream",
     "text": [
      "34\n",
      "28.0\n",
      "534\n"
     ]
    },
    {
     "name": "stderr",
     "output_type": "stream",
     "text": [
      "From: 32.454646,34.907116 - to: 32.450906,34.90867\n",
      "Start coords: (32.454646, 34.907116)\n",
      "End coords: (32.450906, 34.90867)\n",
      "Time 0.42 minutes, distance 0.44 km.\n"
     ]
    },
    {
     "name": "stdout",
     "output_type": "stream",
     "text": [
      "35\n",
      "25.0\n",
      "535\n"
     ]
    },
    {
     "name": "stderr",
     "output_type": "stream",
     "text": [
      "From: 32.450906,34.90867 - to: 32.446689,34.910224\n",
      "Start coords: (32.450906, 34.90867)\n",
      "End coords: (32.446689, 34.910224)\n",
      "Time 0.63 minutes, distance 0.49 km.\n"
     ]
    },
    {
     "name": "stdout",
     "output_type": "stream",
     "text": [
      "36\n",
      "38.0\n",
      "536\n"
     ]
    },
    {
     "name": "stderr",
     "output_type": "stream",
     "text": [
      "From: 32.446689,34.910224 - to: 32.441755,34.910952\n",
      "Start coords: (32.446689, 34.910224)\n",
      "End coords: (32.441755, 34.910952)\n",
      "Time 0.72 minutes, distance 0.56 km.\n"
     ]
    },
    {
     "name": "stdout",
     "output_type": "stream",
     "text": [
      "37\n",
      "43.0\n",
      "537\n"
     ]
    },
    {
     "name": "stderr",
     "output_type": "stream",
     "text": [
      "From: 32.441755,34.910952 - to: 32.438209,34.911987\n",
      "Start coords: (32.441755, 34.910952)\n",
      "End coords: (32.438209, 34.911987)\n",
      "Time 1.05 minutes, distance 0.53 km.\n"
     ]
    },
    {
     "name": "stdout",
     "output_type": "stream",
     "text": [
      "38\n",
      "63.0\n",
      "538\n"
     ]
    },
    {
     "name": "stderr",
     "output_type": "stream",
     "text": [
      "From: 32.438209,34.911987 - to: 32.435324,34.914147\n",
      "Start coords: (32.438209, 34.911987)\n",
      "End coords: (32.435324, 34.914147)\n",
      "Time 2.50 minutes, distance 1.01 km.\n"
     ]
    },
    {
     "name": "stdout",
     "output_type": "stream",
     "text": [
      "39\n",
      "150.0\n",
      "539\n"
     ]
    },
    {
     "name": "stderr",
     "output_type": "stream",
     "text": [
      "From: 32.435324,34.914147 - to: 32.435962,34.914021\n",
      "Start coords: (32.435324, 34.914147)\n",
      "End coords: (32.435962, 34.914021)\n",
      "Time 0.53 minutes, distance 0.11 km.\n"
     ]
    },
    {
     "name": "stdout",
     "output_type": "stream",
     "text": [
      "40\n",
      "32.0\n",
      "540\n"
     ]
    },
    {
     "name": "stderr",
     "output_type": "stream",
     "text": [
      "From: 32.435962,34.914021 - to: 32.432762,34.909369\n",
      "Start coords: (32.435962, 34.914021)\n",
      "End coords: (32.432762, 34.909369)\n",
      "Time 3.13 minutes, distance 1.29 km.\n"
     ]
    },
    {
     "name": "stdout",
     "output_type": "stream",
     "text": [
      "41\n",
      "188.0\n",
      "541\n"
     ]
    },
    {
     "name": "stderr",
     "output_type": "stream",
     "text": [
      "From: 32.432762,34.909369 - to: 32.40895,34.903447\n",
      "Start coords: (32.432762, 34.909369)\n",
      "End coords: (32.40895, 34.903447)\n",
      "Time 2.27 minutes, distance 2.70 km.\n"
     ]
    },
    {
     "name": "stdout",
     "output_type": "stream",
     "text": [
      "42\n",
      "136.0\n",
      "542\n"
     ]
    },
    {
     "name": "stderr",
     "output_type": "stream",
     "text": [
      "From: 32.40895,34.903447 - to: 32.400004,34.903026\n",
      "Start coords: (32.40895, 34.903447)\n",
      "End coords: (32.400004, 34.903026)\n",
      "Time 0.92 minutes, distance 0.99 km.\n"
     ]
    },
    {
     "name": "stdout",
     "output_type": "stream",
     "text": [
      "43\n",
      "55.0\n",
      "543\n"
     ]
    },
    {
     "name": "stderr",
     "output_type": "stream",
     "text": [
      "From: 32.400004,34.903026 - to: 32.392873,34.903167\n",
      "Start coords: (32.400004, 34.903026)\n",
      "End coords: (32.392873, 34.903167)\n",
      "Time 1.02 minutes, distance 0.79 km.\n"
     ]
    },
    {
     "name": "stdout",
     "output_type": "stream",
     "text": [
      "44\n",
      "61.0\n",
      "544\n"
     ]
    },
    {
     "name": "stderr",
     "output_type": "stream",
     "text": [
      "From: 32.392873,34.903167 - to: 32.378766,34.907664\n",
      "Start coords: (32.392873, 34.903167)\n",
      "End coords: (32.378766, 34.907664)\n",
      "Time 1.18 minutes, distance 1.62 km.\n"
     ]
    },
    {
     "name": "stdout",
     "output_type": "stream",
     "text": [
      "45\n",
      "71.0\n",
      "545\n"
     ]
    },
    {
     "name": "stderr",
     "output_type": "stream",
     "text": [
      "From: 32.378766,34.907664 - to: 32.373139,34.908841\n",
      "Start coords: (32.378766, 34.907664)\n",
      "End coords: (32.373139, 34.908841)\n",
      "Time 0.53 minutes, distance 0.63 km.\n"
     ]
    },
    {
     "name": "stdout",
     "output_type": "stream",
     "text": [
      "46\n",
      "32.0\n",
      "546\n"
     ]
    },
    {
     "name": "stderr",
     "output_type": "stream",
     "text": [
      "From: 32.373139,34.908841 - to: 32.364299,34.90753\n",
      "Start coords: (32.373139, 34.908841)\n",
      "End coords: (32.364299, 34.90753)\n",
      "Time 0.75 minutes, distance 0.99 km.\n"
     ]
    },
    {
     "name": "stdout",
     "output_type": "stream",
     "text": [
      "47\n",
      "45.0\n",
      "547\n"
     ]
    },
    {
     "name": "stderr",
     "output_type": "stream",
     "text": [
      "From: 32.364299,34.90753 - to: 32.358205,34.906876\n",
      "Start coords: (32.364299, 34.90753)\n",
      "End coords: (32.358205, 34.906876)\n",
      "Time 1.30 minutes, distance 0.89 km.\n"
     ]
    },
    {
     "name": "stdout",
     "output_type": "stream",
     "text": [
      "48\n",
      "78.0\n",
      "548\n"
     ]
    },
    {
     "name": "stderr",
     "output_type": "stream",
     "text": [
      "From: 32.358205,34.906876 - to: 32.357114,34.908334\n",
      "Start coords: (32.358205, 34.906876)\n",
      "End coords: (32.357114, 34.908334)\n",
      "Time 0.43 minutes, distance 0.28 km.\n"
     ]
    },
    {
     "name": "stdout",
     "output_type": "stream",
     "text": [
      "49\n",
      "26.0\n",
      "549\n"
     ]
    },
    {
     "name": "stderr",
     "output_type": "stream",
     "text": [
      "From: 32.357114,34.908334 - to: 32.344205,34.907781\n",
      "Start coords: (32.357114, 34.908334)\n",
      "End coords: (32.344205, 34.907781)\n",
      "Time 1.48 minutes, distance 1.43 km.\n"
     ]
    },
    {
     "name": "stdout",
     "output_type": "stream",
     "text": [
      "50\n",
      "89.0\n",
      "550\n"
     ]
    },
    {
     "name": "stderr",
     "output_type": "stream",
     "text": [
      "From: 32.344205,34.907781 - to: 32.321146,34.903693\n",
      "Start coords: (32.344205, 34.907781)\n",
      "End coords: (32.321146, 34.903693)\n",
      "Time 2.30 minutes, distance 2.59 km.\n"
     ]
    },
    {
     "name": "stdout",
     "output_type": "stream",
     "text": [
      "51\n",
      "138.0\n",
      "551\n"
     ]
    },
    {
     "name": "stderr",
     "output_type": "stream",
     "text": [
      "From: 32.321146,34.903693 - to: 32.304107,34.900468\n",
      "Start coords: (32.321146, 34.903693)\n",
      "End coords: (32.304107, 34.900468)\n",
      "Time 1.98 minutes, distance 1.91 km.\n"
     ]
    },
    {
     "name": "stdout",
     "output_type": "stream",
     "text": [
      "52\n",
      "119.0\n",
      "552\n"
     ]
    },
    {
     "name": "stderr",
     "output_type": "stream",
     "text": [
      "From: 32.304107,34.900468 - to: 32.28275,34.896439\n",
      "Start coords: (32.304107, 34.900468)\n",
      "End coords: (32.28275, 34.896439)\n",
      "Time 2.13 minutes, distance 2.40 km.\n"
     ]
    },
    {
     "name": "stdout",
     "output_type": "stream",
     "text": [
      "53\n",
      "128.0\n",
      "553\n"
     ]
    },
    {
     "name": "stderr",
     "output_type": "stream",
     "text": [
      "From: 32.28275,34.896439 - to: 32.275284,34.895065\n",
      "Start coords: (32.28275, 34.896439)\n",
      "End coords: (32.275284, 34.895065)\n",
      "Time 0.53 minutes, distance 0.74 km.\n"
     ]
    },
    {
     "name": "stdout",
     "output_type": "stream",
     "text": [
      "54\n",
      "32.0\n",
      "554\n"
     ]
    },
    {
     "name": "stderr",
     "output_type": "stream",
     "text": [
      "From: 32.275284,34.895065 - to: 32.268669,34.893805\n",
      "Start coords: (32.275284, 34.895065)\n",
      "End coords: (32.268669, 34.893805)\n",
      "Time 0.50 minutes, distance 0.74 km.\n"
     ]
    },
    {
     "name": "stdout",
     "output_type": "stream",
     "text": [
      "55\n",
      "30.0\n",
      "555\n"
     ]
    },
    {
     "name": "stderr",
     "output_type": "stream",
     "text": [
      "From: 32.268669,34.893805 - to: 32.254064,34.88915\n",
      "Start coords: (32.268669, 34.893805)\n",
      "End coords: (32.254064, 34.88915)\n",
      "Time 5.25 minutes, distance 5.11 km.\n"
     ]
    },
    {
     "name": "stdout",
     "output_type": "stream",
     "text": [
      "56\n",
      "315.0\n",
      "556\n"
     ]
    },
    {
     "name": "stderr",
     "output_type": "stream",
     "text": [
      "From: 32.254064,34.88915 - to: 32.239492,34.886062\n",
      "Start coords: (32.254064, 34.88915)\n",
      "End coords: (32.239492, 34.886062)\n",
      "Time 1.25 minutes, distance 1.68 km.\n"
     ]
    },
    {
     "name": "stdout",
     "output_type": "stream",
     "text": [
      "57\n",
      "75.0\n",
      "557\n"
     ]
    },
    {
     "name": "stderr",
     "output_type": "stream",
     "text": [
      "From: 32.239492,34.886062 - to: 32.234942,34.88462\n",
      "Start coords: (32.239492, 34.886062)\n",
      "End coords: (32.234942, 34.88462)\n",
      "Time 0.68 minutes, distance 0.52 km.\n"
     ]
    },
    {
     "name": "stdout",
     "output_type": "stream",
     "text": [
      "58\n",
      "41.0\n",
      "558\n"
     ]
    },
    {
     "name": "stderr",
     "output_type": "stream",
     "text": [
      "From: 32.234942,34.88462 - to: 32.218431,34.883157\n",
      "Start coords: (32.234942, 34.88462)\n",
      "End coords: (32.218431, 34.883157)\n",
      "Time 1.52 minutes, distance 1.85 km.\n"
     ]
    },
    {
     "name": "stdout",
     "output_type": "stream",
     "text": [
      "59\n",
      "91.0\n",
      "559\n"
     ]
    },
    {
     "name": "stderr",
     "output_type": "stream",
     "text": [
      "From: 32.218431,34.883157 - to: 32.209417,34.883706\n",
      "Start coords: (32.218431, 34.883157)\n",
      "End coords: (32.209417, 34.883706)\n",
      "Time 0.63 minutes, distance 1.00 km.\n"
     ]
    },
    {
     "name": "stdout",
     "output_type": "stream",
     "text": [
      "60\n",
      "38.0\n",
      "560\n"
     ]
    },
    {
     "name": "stderr",
     "output_type": "stream",
     "text": [
      "From: 32.209417,34.883706 - to: 32.190754,34.887242\n",
      "Start coords: (32.209417, 34.883706)\n",
      "End coords: (32.190754, 34.887242)\n",
      "Time 1.87 minutes, distance 2.15 km.\n"
     ]
    },
    {
     "name": "stdout",
     "output_type": "stream",
     "text": [
      "61\n",
      "112.0\n",
      "561\n"
     ]
    },
    {
     "name": "stderr",
     "output_type": "stream",
     "text": [
      "From: 32.190754,34.887242 - to: 32.175756,34.890738\n",
      "Start coords: (32.190754, 34.887242)\n",
      "End coords: (32.175756, 34.890738)\n",
      "Time 2.77 minutes, distance 1.90 km.\n"
     ]
    },
    {
     "name": "stdout",
     "output_type": "stream",
     "text": [
      "62\n",
      "166.0\n",
      "562\n"
     ]
    },
    {
     "name": "stderr",
     "output_type": "stream",
     "text": [
      "From: 32.175756,34.890738 - to: 32.155104,34.894483\n",
      "Start coords: (32.175756, 34.890738)\n",
      "End coords: (32.155104, 34.894483)\n",
      "Time 4.78 minutes, distance 2.38 km.\n"
     ]
    },
    {
     "name": "stdout",
     "output_type": "stream",
     "text": [
      "63\n",
      "287.0\n",
      "563\n"
     ]
    },
    {
     "name": "stderr",
     "output_type": "stream",
     "text": [
      "From: 32.155104,34.894483 - to: 32.14303,34.894369\n",
      "Start coords: (32.155104, 34.894483)\n",
      "End coords: (32.14303, 34.894369)\n",
      "Time 2.42 minutes, distance 1.34 km.\n"
     ]
    },
    {
     "name": "stdout",
     "output_type": "stream",
     "text": [
      "64\n",
      "145.0\n",
      "564\n"
     ]
    },
    {
     "name": "stderr",
     "output_type": "stream",
     "text": [
      "From: 32.14303,34.894369 - to: 32.137306,34.896274\n",
      "Start coords: (32.14303, 34.894369)\n",
      "End coords: (32.137306, 34.896274)\n",
      "Time 0.67 minutes, distance 0.68 km.\n"
     ]
    },
    {
     "name": "stdout",
     "output_type": "stream",
     "text": [
      "65\n",
      "40.0\n",
      "565\n"
     ]
    },
    {
     "name": "stderr",
     "output_type": "stream",
     "text": [
      "From: 32.137306,34.896274 - to: 32.132375,34.89996\n",
      "Start coords: (32.137306, 34.896274)\n",
      "End coords: (32.132375, 34.89996)\n",
      "Time 0.93 minutes, distance 0.65 km.\n"
     ]
    },
    {
     "name": "stdout",
     "output_type": "stream",
     "text": [
      "66\n",
      "56.0\n",
      "566\n"
     ]
    },
    {
     "name": "stderr",
     "output_type": "stream",
     "text": [
      "From: 32.132375,34.89996 - to: 32.119907,34.903229\n",
      "Start coords: (32.132375, 34.89996)\n",
      "End coords: (32.119907, 34.903229)\n",
      "Time 1.95 minutes, distance 1.49 km.\n"
     ]
    },
    {
     "name": "stdout",
     "output_type": "stream",
     "text": [
      "67\n",
      "117.0\n",
      "567\n"
     ]
    },
    {
     "name": "stderr",
     "output_type": "stream",
     "text": [
      "From: 32.119907,34.903229 - to: 32.101597,34.89757\n",
      "Start coords: (32.119907, 34.903229)\n",
      "End coords: (32.101597, 34.89757)\n",
      "Time 2.85 minutes, distance 2.13 km.\n"
     ]
    },
    {
     "name": "stdout",
     "output_type": "stream",
     "text": [
      "68\n",
      "171.0\n",
      "568\n"
     ]
    },
    {
     "name": "stderr",
     "output_type": "stream",
     "text": [
      "From: 32.101597,34.89757 - to: 32.09914,34.895905\n",
      "Start coords: (32.101597, 34.89757)\n",
      "End coords: (32.09914, 34.895905)\n",
      "Time 0.58 minutes, distance 0.32 km.\n"
     ]
    },
    {
     "name": "stdout",
     "output_type": "stream",
     "text": [
      "69\n",
      "35.0\n",
      "569\n"
     ]
    },
    {
     "name": "stderr",
     "output_type": "stream",
     "text": [
      "From: 32.09914,34.895905 - to: 32.094807,34.886466\n",
      "Start coords: (32.09914, 34.895905)\n",
      "End coords: (32.094807, 34.886466)\n",
      "Time 3.70 minutes, distance 1.03 km.\n"
     ]
    },
    {
     "name": "stdout",
     "output_type": "stream",
     "text": [
      "70\n",
      "222.0\n",
      "570\n"
     ]
    },
    {
     "name": "stderr",
     "output_type": "stream",
     "text": [
      "From: 32.094807,34.886466 - to: 32.091798,34.865101\n",
      "Start coords: (32.094807, 34.886466)\n",
      "End coords: (32.091798, 34.865101)\n",
      "Time 5.07 minutes, distance 2.13 km.\n"
     ]
    },
    {
     "name": "stdout",
     "output_type": "stream",
     "text": [
      "71\n",
      "304.0\n",
      "571\n"
     ]
    },
    {
     "name": "stderr",
     "output_type": "stream",
     "text": [
      "From: 32.091798,34.865101 - to: 32.092482,34.857247\n",
      "Start coords: (32.091798, 34.865101)\n",
      "End coords: (32.092482, 34.857247)\n",
      "Time 1.90 minutes, distance 0.74 km.\n"
     ]
    },
    {
     "name": "stdout",
     "output_type": "stream",
     "text": [
      "72\n",
      "114.0\n",
      "572\n"
     ]
    },
    {
     "name": "stderr",
     "output_type": "stream",
     "text": [
      "From: 32.092482,34.857247 - to: 32.092807,34.847935\n",
      "Start coords: (32.092482, 34.857247)\n",
      "End coords: (32.092807, 34.847935)\n",
      "Time 1.67 minutes, distance 0.88 km.\n"
     ]
    },
    {
     "name": "stdout",
     "output_type": "stream",
     "text": [
      "73\n",
      "100.0\n",
      "573\n"
     ]
    },
    {
     "name": "stderr",
     "output_type": "stream",
     "text": [
      "From: 32.092807,34.847935 - to: 32.092866,34.836946\n",
      "Start coords: (32.092807, 34.847935)\n",
      "End coords: (32.092866, 34.836946)\n",
      "Time 6.78 minutes, distance 1.04 km.\n"
     ]
    },
    {
     "name": "stdout",
     "output_type": "stream",
     "text": [
      "74\n",
      "407.0\n",
      "574\n"
     ]
    },
    {
     "name": "stderr",
     "output_type": "stream",
     "text": [
      "From: 32.092866,34.836946 - to: 32.091728,34.826477\n",
      "Start coords: (32.092866, 34.836946)\n",
      "End coords: (32.091728, 34.826477)\n",
      "Time 2.05 minutes, distance 1.01 km.\n"
     ]
    },
    {
     "name": "stdout",
     "output_type": "stream",
     "text": [
      "75\n",
      "122.99999999999999\n",
      "575\n"
     ]
    },
    {
     "name": "stderr",
     "output_type": "stream",
     "text": [
      "From: 32.091728,34.826477 - to: 32.085293,34.810136\n",
      "Start coords: (32.091728, 34.826477)\n",
      "End coords: (32.085293, 34.810136)\n",
      "Time 5.38 minutes, distance 1.71 km.\n"
     ]
    },
    {
     "name": "stdout",
     "output_type": "stream",
     "text": [
      "76\n",
      "323.0\n",
      "576\n"
     ]
    },
    {
     "name": "stderr",
     "output_type": "stream",
     "text": [
      "From: 32.085293,34.810136 - to: 32.083677,34.806421\n",
      "Start coords: (32.085293, 34.810136)\n",
      "End coords: (32.083677, 34.806421)\n",
      "Time 0.73 minutes, distance 0.40 km.\n"
     ]
    },
    {
     "name": "stdout",
     "output_type": "stream",
     "text": [
      "77\n",
      "44.0\n",
      "577\n"
     ]
    },
    {
     "name": "stderr",
     "output_type": "stream",
     "text": [
      "From: 32.083677,34.806421 - to: 32.079838,34.794882\n",
      "Start coords: (32.083677, 34.806421)\n",
      "End coords: (32.079838, 34.794882)\n",
      "Time 3.67 minutes, distance 1.60 km.\n"
     ]
    },
    {
     "name": "stdout",
     "output_type": "stream",
     "text": [
      "78\n",
      "220.0\n",
      "578\n"
     ]
    },
    {
     "name": "stderr",
     "output_type": "stream",
     "text": [
      "From: 32.079838,34.794882 - to: 32.074914,34.790734\n",
      "Start coords: (32.079838, 34.794882)\n",
      "End coords: (32.074914, 34.790734)\n",
      "Time 1.43 minutes, distance 0.69 km.\n"
     ]
    },
    {
     "name": "stdout",
     "output_type": "stream",
     "text": [
      "79\n",
      "86.0\n",
      "579\n"
     ]
    },
    {
     "name": "stderr",
     "output_type": "stream",
     "text": [
      "From: 32.074914,34.790734 - to: 32.06123,34.784594\n",
      "Start coords: (32.074914, 34.790734)\n",
      "End coords: (32.06123, 34.784594)\n",
      "Time 4.28 minutes, distance 2.25 km.\n"
     ]
    },
    {
     "name": "stdout",
     "output_type": "stream",
     "text": [
      "80\n",
      "257.0\n",
      "580\n"
     ]
    },
    {
     "name": "stderr",
     "output_type": "stream",
     "text": [
      "From: 32.06123,34.784594 - to: 32.055636,34.780466\n",
      "Start coords: (32.06123, 34.784594)\n",
      "End coords: (32.055636, 34.780466)\n",
      "Time 3.02 minutes, distance 1.07 km.\n"
     ]
    },
    {
     "name": "stdout",
     "output_type": "stream",
     "text": [
      "81\n",
      "181.0\n",
      "581\n"
     ]
    },
    {
     "name": "stderr",
     "output_type": "stream",
     "text": [
      "From: 32.793372,34.958985 - to: 32.789609,34.962117\n",
      "Start coords: (32.793372, 34.958985)\n",
      "End coords: (32.789609, 34.962117)\n",
      "Time 2.12 minutes, distance 0.93 km.\n"
     ]
    },
    {
     "name": "stdout",
     "output_type": "stream",
     "text": [
      "0\n",
      "127.0\n",
      "600\n"
     ]
    },
    {
     "name": "stderr",
     "output_type": "stream",
     "text": [
      "From: 32.789609,34.962117 - to: 32.78459,34.962626\n",
      "Start coords: (32.789609, 34.962117)\n",
      "End coords: (32.78459, 34.962626)\n",
      "Time 1.12 minutes, distance 0.56 km.\n"
     ]
    },
    {
     "name": "stdout",
     "output_type": "stream",
     "text": [
      "1\n",
      "67.0\n",
      "601\n"
     ]
    },
    {
     "name": "stderr",
     "output_type": "stream",
     "text": [
      "From: 32.78459,34.962626 - to: 32.781207,34.962876\n",
      "Start coords: (32.78459, 34.962626)\n",
      "End coords: (32.781207, 34.962876)\n",
      "Time 0.33 minutes, distance 0.38 km.\n"
     ]
    },
    {
     "name": "stdout",
     "output_type": "stream",
     "text": [
      "2\n",
      "20.0\n",
      "602\n"
     ]
    },
    {
     "name": "stderr",
     "output_type": "stream",
     "text": [
      "From: 32.781207,34.962876 - to: 32.772031,34.962995\n",
      "Start coords: (32.781207, 34.962876)\n",
      "End coords: (32.772031, 34.962995)\n",
      "Time 2.08 minutes, distance 1.92 km.\n"
     ]
    },
    {
     "name": "stdout",
     "output_type": "stream",
     "text": [
      "3\n",
      "125.00000000000001\n",
      "603\n"
     ]
    },
    {
     "name": "stderr",
     "output_type": "stream",
     "text": [
      "From: 32.772031,34.962995 - to: 32.764238,34.961821\n",
      "Start coords: (32.772031, 34.962995)\n",
      "End coords: (32.764238, 34.961821)\n",
      "Time 0.77 minutes, distance 0.87 km.\n"
     ]
    },
    {
     "name": "stdout",
     "output_type": "stream",
     "text": [
      "4\n",
      "46.0\n",
      "604\n"
     ]
    },
    {
     "name": "stderr",
     "output_type": "stream",
     "text": [
      "From: 32.764238,34.961821 - to: 32.759921,34.961275\n",
      "Start coords: (32.764238, 34.961821)\n",
      "End coords: (32.759921, 34.961275)\n",
      "Time 0.57 minutes, distance 0.48 km.\n"
     ]
    },
    {
     "name": "stdout",
     "output_type": "stream",
     "text": [
      "5\n",
      "34.0\n",
      "605\n"
     ]
    },
    {
     "name": "stderr",
     "output_type": "stream",
     "text": [
      "From: 32.759921,34.961275 - to: 32.752365,34.962668\n",
      "Start coords: (32.759921, 34.961275)\n",
      "End coords: (32.752365, 34.962668)\n",
      "Time 0.73 minutes, distance 0.85 km.\n"
     ]
    },
    {
     "name": "stdout",
     "output_type": "stream",
     "text": [
      "6\n",
      "44.0\n",
      "606\n"
     ]
    },
    {
     "name": "stderr",
     "output_type": "stream",
     "text": [
      "From: 32.752365,34.962668 - to: 32.737043,34.966128\n",
      "Start coords: (32.752365, 34.962668)\n",
      "End coords: (32.737043, 34.966128)\n",
      "Time 1.32 minutes, distance 1.75 km.\n"
     ]
    },
    {
     "name": "stdout",
     "output_type": "stream",
     "text": [
      "7\n",
      "79.0\n",
      "607\n"
     ]
    },
    {
     "name": "stderr",
     "output_type": "stream",
     "text": [
      "From: 32.737043,34.966128 - to: 32.725875,34.966216\n",
      "Start coords: (32.737043, 34.966128)\n",
      "End coords: (32.725875, 34.966216)\n",
      "Time 0.87 minutes, distance 1.24 km.\n"
     ]
    },
    {
     "name": "stdout",
     "output_type": "stream",
     "text": [
      "8\n",
      "52.0\n",
      "608\n"
     ]
    },
    {
     "name": "stderr",
     "output_type": "stream",
     "text": [
      "From: 32.725875,34.966216 - to: 32.717596,34.968597\n",
      "Start coords: (32.725875, 34.966216)\n",
      "End coords: (32.717596, 34.968597)\n",
      "Time 0.73 minutes, distance 0.96 km.\n"
     ]
    },
    {
     "name": "stdout",
     "output_type": "stream",
     "text": [
      "9\n",
      "44.0\n",
      "609\n"
     ]
    },
    {
     "name": "stderr",
     "output_type": "stream",
     "text": [
      "From: 32.717596,34.968597 - to: 32.713239,34.970693\n",
      "Start coords: (32.717596, 34.968597)\n",
      "End coords: (32.713239, 34.970693)\n",
      "Time 0.42 minutes, distance 0.53 km.\n"
     ]
    },
    {
     "name": "stdout",
     "output_type": "stream",
     "text": [
      "10\n",
      "25.0\n",
      "610\n"
     ]
    },
    {
     "name": "stderr",
     "output_type": "stream",
     "text": [
      "From: 32.713239,34.970693 - to: 32.710042,34.970338\n",
      "Start coords: (32.713239, 34.970693)\n",
      "End coords: (32.710042, 34.970338)\n",
      "Time 0.53 minutes, distance 0.36 km.\n"
     ]
    },
    {
     "name": "stdout",
     "output_type": "stream",
     "text": [
      "11\n",
      "32.0\n",
      "611\n"
     ]
    },
    {
     "name": "stderr",
     "output_type": "stream",
     "text": [
      "From: 32.710042,34.970338 - to: 32.702365,34.968957\n",
      "Start coords: (32.710042, 34.970338)\n",
      "End coords: (32.702365, 34.968957)\n",
      "Time 0.85 minutes, distance 0.86 km.\n"
     ]
    },
    {
     "name": "stdout",
     "output_type": "stream",
     "text": [
      "12\n",
      "51.0\n",
      "612\n"
     ]
    },
    {
     "name": "stderr",
     "output_type": "stream",
     "text": [
      "From: 32.702365,34.968957 - to: 32.676436,34.96162\n",
      "Start coords: (32.702365, 34.968957)\n",
      "End coords: (32.676436, 34.96162)\n",
      "Time 2.35 minutes, distance 2.98 km.\n"
     ]
    },
    {
     "name": "stdout",
     "output_type": "stream",
     "text": [
      "13\n",
      "141.0\n",
      "613\n"
     ]
    },
    {
     "name": "stderr",
     "output_type": "stream",
     "text": [
      "From: 32.676436,34.96162 - to: 32.662089,34.960079\n",
      "Start coords: (32.676436, 34.96162)\n",
      "End coords: (32.662089, 34.960079)\n",
      "Time 1.20 minutes, distance 1.60 km.\n"
     ]
    },
    {
     "name": "stdout",
     "output_type": "stream",
     "text": [
      "14\n",
      "72.0\n",
      "614\n"
     ]
    },
    {
     "name": "stderr",
     "output_type": "stream",
     "text": [
      "From: 32.662089,34.960079 - to: 32.647133,34.958825\n",
      "Start coords: (32.662089, 34.960079)\n",
      "End coords: (32.647133, 34.958825)\n",
      "Time 1.27 minutes, distance 1.66 km.\n"
     ]
    },
    {
     "name": "stdout",
     "output_type": "stream",
     "text": [
      "15\n",
      "76.0\n",
      "615\n"
     ]
    },
    {
     "name": "stderr",
     "output_type": "stream",
     "text": [
      "From: 32.647133,34.958825 - to: 32.642367,34.958627\n",
      "Start coords: (32.647133, 34.958825)\n",
      "End coords: (32.642367, 34.958627)\n",
      "Time 0.42 minutes, distance 0.53 km.\n"
     ]
    },
    {
     "name": "stdout",
     "output_type": "stream",
     "text": [
      "16\n",
      "25.0\n",
      "616\n"
     ]
    },
    {
     "name": "stderr",
     "output_type": "stream",
     "text": [
      "From: 32.642367,34.958627 - to: 32.639184,34.958505\n",
      "Start coords: (32.642367, 34.958627)\n",
      "End coords: (32.639184, 34.958505)\n",
      "Time 0.27 minutes, distance 0.35 km.\n"
     ]
    },
    {
     "name": "stdout",
     "output_type": "stream",
     "text": [
      "17\n",
      "16.0\n",
      "617\n"
     ]
    },
    {
     "name": "stderr",
     "output_type": "stream",
     "text": [
      "From: 32.639184,34.958505 - to: 32.628246,34.957538\n",
      "Start coords: (32.639184, 34.958505)\n",
      "End coords: (32.628246, 34.957538)\n",
      "Time 1.18 minutes, distance 1.21 km.\n"
     ]
    },
    {
     "name": "stdout",
     "output_type": "stream",
     "text": [
      "18\n",
      "71.0\n",
      "618\n"
     ]
    },
    {
     "name": "stderr",
     "output_type": "stream",
     "text": [
      "From: 32.628246,34.957538 - to: 32.619035,34.955474\n",
      "Start coords: (32.628246, 34.957538)\n",
      "End coords: (32.619035, 34.955474)\n",
      "Time 0.83 minutes, distance 1.04 km.\n"
     ]
    },
    {
     "name": "stdout",
     "output_type": "stream",
     "text": [
      "19\n",
      "50.0\n",
      "619\n"
     ]
    },
    {
     "name": "stderr",
     "output_type": "stream",
     "text": [
      "From: 32.619035,34.955474 - to: 32.605658,34.952011\n",
      "Start coords: (32.619035, 34.955474)\n",
      "End coords: (32.605658, 34.952011)\n",
      "Time 1.27 minutes, distance 1.52 km.\n"
     ]
    },
    {
     "name": "stdout",
     "output_type": "stream",
     "text": [
      "20\n",
      "76.0\n",
      "620\n"
     ]
    },
    {
     "name": "stderr",
     "output_type": "stream",
     "text": [
      "From: 32.605658,34.952011 - to: 32.595734,34.949146\n",
      "Start coords: (32.605658, 34.952011)\n",
      "End coords: (32.595734, 34.949146)\n",
      "Time 1.32 minutes, distance 1.15 km.\n"
     ]
    },
    {
     "name": "stdout",
     "output_type": "stream",
     "text": [
      "21\n",
      "79.0\n",
      "621\n"
     ]
    },
    {
     "name": "stderr",
     "output_type": "stream",
     "text": [
      "From: 32.595734,34.949146 - to: 32.591639,34.946468\n",
      "Start coords: (32.595734, 34.949146)\n",
      "End coords: (32.591639, 34.946468)\n",
      "Time 1.75 minutes, distance 0.76 km.\n"
     ]
    },
    {
     "name": "stdout",
     "output_type": "stream",
     "text": [
      "22\n",
      "105.0\n",
      "622\n"
     ]
    },
    {
     "name": "stderr",
     "output_type": "stream",
     "text": [
      "From: 32.591639,34.946468 - to: 32.575448,34.938832\n",
      "Start coords: (32.591639, 34.946468)\n",
      "End coords: (32.575448, 34.938832)\n",
      "Time 1.33 minutes, distance 1.95 km.\n"
     ]
    },
    {
     "name": "stdout",
     "output_type": "stream",
     "text": [
      "23\n",
      "80.0\n",
      "623\n"
     ]
    },
    {
     "name": "stderr",
     "output_type": "stream",
     "text": [
      "From: 32.575448,34.938832 - to: 32.571108,34.937372\n",
      "Start coords: (32.575448, 34.938832)\n",
      "End coords: (32.571108, 34.937372)\n",
      "Time 0.70 minutes, distance 0.47 km.\n"
     ]
    },
    {
     "name": "stdout",
     "output_type": "stream",
     "text": [
      "24\n",
      "42.0\n",
      "624\n"
     ]
    },
    {
     "name": "stderr",
     "output_type": "stream",
     "text": [
      "From: 32.571108,34.937372 - to: 32.568084,34.936196\n",
      "Start coords: (32.571108, 34.937372)\n",
      "End coords: (32.568084, 34.936196)\n",
      "Time 0.35 minutes, distance 0.35 km.\n"
     ]
    },
    {
     "name": "stdout",
     "output_type": "stream",
     "text": [
      "25\n",
      "21.0\n",
      "625\n"
     ]
    },
    {
     "name": "stderr",
     "output_type": "stream",
     "text": [
      "From: 32.568084,34.936196 - to: 32.556372,34.931537\n",
      "Start coords: (32.568084, 34.936196)\n",
      "End coords: (32.556372, 34.931537)\n",
      "Time 0.85 minutes, distance 1.37 km.\n"
     ]
    },
    {
     "name": "stdout",
     "output_type": "stream",
     "text": [
      "26\n",
      "51.0\n",
      "626\n"
     ]
    },
    {
     "name": "stderr",
     "output_type": "stream",
     "text": [
      "From: 32.556372,34.931537 - to: 32.533345,34.928702\n",
      "Start coords: (32.556372, 34.931537)\n",
      "End coords: (32.533345, 34.928702)\n",
      "Time 1.57 minutes, distance 2.62 km.\n"
     ]
    },
    {
     "name": "stdout",
     "output_type": "stream",
     "text": [
      "27\n",
      "94.0\n",
      "627\n"
     ]
    },
    {
     "name": "stderr",
     "output_type": "stream",
     "text": [
      "From: 32.533345,34.928702 - to: 32.523128,34.929403\n",
      "Start coords: (32.533345, 34.928702)\n",
      "End coords: (32.523128, 34.929403)\n",
      "Time 1.52 minutes, distance 1.13 km.\n"
     ]
    },
    {
     "name": "stdout",
     "output_type": "stream",
     "text": [
      "28\n",
      "91.0\n",
      "628\n"
     ]
    },
    {
     "name": "stderr",
     "output_type": "stream",
     "text": [
      "From: 32.523128,34.929403 - to: 32.516826,34.929888\n",
      "Start coords: (32.523128, 34.929403)\n",
      "End coords: (32.516826, 34.929888)\n",
      "Time 4.35 minutes, distance 2.19 km.\n"
     ]
    },
    {
     "name": "stdout",
     "output_type": "stream",
     "text": [
      "29\n",
      "261.0\n",
      "629\n"
     ]
    },
    {
     "name": "stderr",
     "output_type": "stream",
     "text": [
      "From: 32.516826,34.929888 - to: 32.500294,34.927745\n",
      "Start coords: (32.516826, 34.929888)\n",
      "End coords: (32.500294, 34.927745)\n",
      "Time 1.57 minutes, distance 1.88 km.\n"
     ]
    },
    {
     "name": "stdout",
     "output_type": "stream",
     "text": [
      "30\n",
      "94.0\n",
      "630\n"
     ]
    },
    {
     "name": "stderr",
     "output_type": "stream",
     "text": [
      "From: 32.500294,34.927745 - to: 32.479664,34.91953\n",
      "Start coords: (32.500294, 34.927745)\n",
      "End coords: (32.479664, 34.91953)\n",
      "Time 2.02 minutes, distance 2.41 km.\n"
     ]
    },
    {
     "name": "stdout",
     "output_type": "stream",
     "text": [
      "31\n",
      "121.0\n",
      "631\n"
     ]
    },
    {
     "name": "stderr",
     "output_type": "stream",
     "text": [
      "From: 32.479664,34.91953 - to: 32.464412,34.912191\n",
      "Start coords: (32.479664, 34.91953)\n",
      "End coords: (32.464412, 34.912191)\n",
      "Time 2.28 minutes, distance 1.92 km.\n"
     ]
    },
    {
     "name": "stdout",
     "output_type": "stream",
     "text": [
      "32\n",
      "137.0\n",
      "632\n"
     ]
    },
    {
     "name": "stderr",
     "output_type": "stream",
     "text": [
      "From: 32.464412,34.912191 - to: 32.457375,34.9071\n",
      "Start coords: (32.464412, 34.912191)\n",
      "End coords: (32.457375, 34.9071)\n",
      "Time 0.77 minutes, distance 0.91 km.\n"
     ]
    },
    {
     "name": "stdout",
     "output_type": "stream",
     "text": [
      "33\n",
      "46.0\n",
      "633\n"
     ]
    },
    {
     "name": "stderr",
     "output_type": "stream",
     "text": [
      "From: 32.457375,34.9071 - to: 32.454646,34.907116\n",
      "Start coords: (32.457375, 34.9071)\n",
      "End coords: (32.454646, 34.907116)\n",
      "Time 0.53 minutes, distance 0.30 km.\n"
     ]
    },
    {
     "name": "stdout",
     "output_type": "stream",
     "text": [
      "34\n",
      "32.0\n",
      "634\n"
     ]
    },
    {
     "name": "stderr",
     "output_type": "stream",
     "text": [
      "From: 32.454646,34.907116 - to: 32.450906,34.90867\n",
      "Start coords: (32.454646, 34.907116)\n",
      "End coords: (32.450906, 34.90867)\n",
      "Time 0.50 minutes, distance 0.44 km.\n"
     ]
    },
    {
     "name": "stdout",
     "output_type": "stream",
     "text": [
      "35\n",
      "30.0\n",
      "635\n"
     ]
    },
    {
     "name": "stderr",
     "output_type": "stream",
     "text": [
      "From: 32.450906,34.90867 - to: 32.446689,34.910224\n",
      "Start coords: (32.450906, 34.90867)\n",
      "End coords: (32.446689, 34.910224)\n",
      "Time 0.43 minutes, distance 0.49 km.\n"
     ]
    },
    {
     "name": "stdout",
     "output_type": "stream",
     "text": [
      "36\n",
      "26.0\n",
      "636\n"
     ]
    },
    {
     "name": "stderr",
     "output_type": "stream",
     "text": [
      "From: 32.446689,34.910224 - to: 32.441755,34.910952\n",
      "Start coords: (32.446689, 34.910224)\n",
      "End coords: (32.441755, 34.910952)\n",
      "Time 0.68 minutes, distance 0.56 km.\n"
     ]
    },
    {
     "name": "stdout",
     "output_type": "stream",
     "text": [
      "37\n",
      "41.0\n",
      "637\n"
     ]
    },
    {
     "name": "stderr",
     "output_type": "stream",
     "text": [
      "From: 32.441755,34.910952 - to: 32.438209,34.911987\n",
      "Start coords: (32.441755, 34.910952)\n",
      "End coords: (32.438209, 34.911987)\n",
      "Time 1.22 minutes, distance 0.53 km.\n"
     ]
    },
    {
     "name": "stdout",
     "output_type": "stream",
     "text": [
      "38\n",
      "73.0\n",
      "638\n"
     ]
    },
    {
     "name": "stderr",
     "output_type": "stream",
     "text": [
      "From: 32.438209,34.911987 - to: 32.435324,34.914147\n",
      "Start coords: (32.438209, 34.911987)\n",
      "End coords: (32.435324, 34.914147)\n",
      "Time 3.05 minutes, distance 1.01 km.\n"
     ]
    },
    {
     "name": "stdout",
     "output_type": "stream",
     "text": [
      "39\n",
      "183.0\n",
      "639\n"
     ]
    },
    {
     "name": "stderr",
     "output_type": "stream",
     "text": [
      "From: 32.435324,34.914147 - to: 32.435962,34.914021\n",
      "Start coords: (32.435324, 34.914147)\n",
      "End coords: (32.435962, 34.914021)\n",
      "Time 0.53 minutes, distance 0.11 km.\n"
     ]
    },
    {
     "name": "stdout",
     "output_type": "stream",
     "text": [
      "40\n",
      "32.0\n",
      "640\n"
     ]
    },
    {
     "name": "stderr",
     "output_type": "stream",
     "text": [
      "From: 32.435962,34.914021 - to: 32.432762,34.909369\n",
      "Start coords: (32.435962, 34.914021)\n",
      "End coords: (32.432762, 34.909369)\n",
      "Time 3.37 minutes, distance 1.29 km.\n"
     ]
    },
    {
     "name": "stdout",
     "output_type": "stream",
     "text": [
      "41\n",
      "202.0\n",
      "641\n"
     ]
    },
    {
     "name": "stderr",
     "output_type": "stream",
     "text": [
      "From: 32.432762,34.909369 - to: 32.40895,34.903447\n",
      "Start coords: (32.432762, 34.909369)\n",
      "End coords: (32.40895, 34.903447)\n",
      "Time 2.20 minutes, distance 2.70 km.\n"
     ]
    },
    {
     "name": "stdout",
     "output_type": "stream",
     "text": [
      "42\n",
      "132.0\n",
      "642\n"
     ]
    },
    {
     "name": "stderr",
     "output_type": "stream",
     "text": [
      "From: 32.40895,34.903447 - to: 32.400004,34.903026\n",
      "Start coords: (32.40895, 34.903447)\n",
      "End coords: (32.400004, 34.903026)\n",
      "Time 1.03 minutes, distance 0.99 km.\n"
     ]
    },
    {
     "name": "stdout",
     "output_type": "stream",
     "text": [
      "43\n",
      "62.00000000000001\n",
      "643\n"
     ]
    },
    {
     "name": "stderr",
     "output_type": "stream",
     "text": [
      "From: 32.400004,34.903026 - to: 32.392873,34.903167\n",
      "Start coords: (32.400004, 34.903026)\n",
      "End coords: (32.392873, 34.903167)\n",
      "Time 1.07 minutes, distance 0.79 km.\n"
     ]
    },
    {
     "name": "stdout",
     "output_type": "stream",
     "text": [
      "44\n",
      "64.0\n",
      "644\n"
     ]
    },
    {
     "name": "stderr",
     "output_type": "stream",
     "text": [
      "From: 32.392873,34.903167 - to: 32.378766,34.907664\n",
      "Start coords: (32.392873, 34.903167)\n",
      "End coords: (32.378766, 34.907664)\n",
      "Time 1.17 minutes, distance 1.62 km.\n"
     ]
    },
    {
     "name": "stdout",
     "output_type": "stream",
     "text": [
      "45\n",
      "70.0\n",
      "645\n"
     ]
    },
    {
     "name": "stderr",
     "output_type": "stream",
     "text": [
      "From: 32.378766,34.907664 - to: 32.373139,34.908841\n",
      "Start coords: (32.378766, 34.907664)\n",
      "End coords: (32.373139, 34.908841)\n",
      "Time 0.67 minutes, distance 0.63 km.\n"
     ]
    },
    {
     "name": "stdout",
     "output_type": "stream",
     "text": [
      "46\n",
      "40.0\n",
      "646\n"
     ]
    },
    {
     "name": "stderr",
     "output_type": "stream",
     "text": [
      "From: 32.373139,34.908841 - to: 32.364299,34.90753\n",
      "Start coords: (32.373139, 34.908841)\n",
      "End coords: (32.364299, 34.90753)\n",
      "Time 0.78 minutes, distance 0.99 km.\n"
     ]
    },
    {
     "name": "stdout",
     "output_type": "stream",
     "text": [
      "47\n",
      "47.0\n",
      "647\n"
     ]
    },
    {
     "name": "stderr",
     "output_type": "stream",
     "text": [
      "From: 32.364299,34.90753 - to: 32.358205,34.906876\n",
      "Start coords: (32.364299, 34.90753)\n",
      "End coords: (32.358205, 34.906876)\n",
      "Time 1.35 minutes, distance 0.89 km.\n"
     ]
    },
    {
     "name": "stdout",
     "output_type": "stream",
     "text": [
      "48\n",
      "81.0\n",
      "648\n"
     ]
    },
    {
     "name": "stderr",
     "output_type": "stream",
     "text": [
      "From: 32.358205,34.906876 - to: 32.357114,34.908334\n",
      "Start coords: (32.358205, 34.906876)\n",
      "End coords: (32.357114, 34.908334)\n",
      "Time 0.43 minutes, distance 0.28 km.\n"
     ]
    },
    {
     "name": "stdout",
     "output_type": "stream",
     "text": [
      "49\n",
      "26.0\n",
      "649\n"
     ]
    },
    {
     "name": "stderr",
     "output_type": "stream",
     "text": [
      "From: 32.357114,34.908334 - to: 32.344205,34.907781\n",
      "Start coords: (32.357114, 34.908334)\n",
      "End coords: (32.344205, 34.907781)\n",
      "Time 1.02 minutes, distance 1.43 km.\n"
     ]
    },
    {
     "name": "stdout",
     "output_type": "stream",
     "text": [
      "50\n",
      "61.0\n",
      "650\n"
     ]
    },
    {
     "name": "stderr",
     "output_type": "stream",
     "text": [
      "From: 32.344205,34.907781 - to: 32.321146,34.903693\n",
      "Start coords: (32.344205, 34.907781)\n",
      "End coords: (32.321146, 34.903693)\n",
      "Time 2.68 minutes, distance 2.59 km.\n"
     ]
    },
    {
     "name": "stdout",
     "output_type": "stream",
     "text": [
      "51\n",
      "161.0\n",
      "651\n"
     ]
    },
    {
     "name": "stderr",
     "output_type": "stream",
     "text": [
      "From: 32.321146,34.903693 - to: 32.304107,34.900468\n",
      "Start coords: (32.321146, 34.903693)\n",
      "End coords: (32.304107, 34.900468)\n",
      "Time 1.67 minutes, distance 1.91 km.\n"
     ]
    },
    {
     "name": "stdout",
     "output_type": "stream",
     "text": [
      "52\n",
      "100.0\n",
      "652\n"
     ]
    },
    {
     "name": "stderr",
     "output_type": "stream",
     "text": [
      "From: 32.304107,34.900468 - to: 32.28275,34.896439\n",
      "Start coords: (32.304107, 34.900468)\n",
      "End coords: (32.28275, 34.896439)\n",
      "Time 2.03 minutes, distance 2.40 km.\n"
     ]
    },
    {
     "name": "stdout",
     "output_type": "stream",
     "text": [
      "53\n",
      "122.0\n",
      "653\n"
     ]
    },
    {
     "name": "stderr",
     "output_type": "stream",
     "text": [
      "From: 32.28275,34.896439 - to: 32.275284,34.895065\n",
      "Start coords: (32.28275, 34.896439)\n",
      "End coords: (32.275284, 34.895065)\n",
      "Time 0.50 minutes, distance 0.74 km.\n"
     ]
    },
    {
     "name": "stdout",
     "output_type": "stream",
     "text": [
      "54\n",
      "30.0\n",
      "654\n"
     ]
    },
    {
     "name": "stderr",
     "output_type": "stream",
     "text": [
      "From: 32.275284,34.895065 - to: 32.268669,34.893805\n",
      "Start coords: (32.275284, 34.895065)\n",
      "End coords: (32.268669, 34.893805)\n",
      "Time 0.48 minutes, distance 0.74 km.\n"
     ]
    },
    {
     "name": "stdout",
     "output_type": "stream",
     "text": [
      "55\n",
      "29.0\n",
      "655\n"
     ]
    },
    {
     "name": "stderr",
     "output_type": "stream",
     "text": [
      "From: 32.268669,34.893805 - to: 32.254064,34.88915\n",
      "Start coords: (32.268669, 34.893805)\n",
      "End coords: (32.254064, 34.88915)\n",
      "Time 6.10 minutes, distance 5.11 km.\n"
     ]
    },
    {
     "name": "stdout",
     "output_type": "stream",
     "text": [
      "56\n",
      "366.0\n",
      "656\n"
     ]
    },
    {
     "name": "stderr",
     "output_type": "stream",
     "text": [
      "From: 32.254064,34.88915 - to: 32.239492,34.886062\n",
      "Start coords: (32.254064, 34.88915)\n",
      "End coords: (32.239492, 34.886062)\n",
      "Time 1.28 minutes, distance 1.68 km.\n"
     ]
    },
    {
     "name": "stdout",
     "output_type": "stream",
     "text": [
      "57\n",
      "77.0\n",
      "657\n"
     ]
    },
    {
     "name": "stderr",
     "output_type": "stream",
     "text": [
      "From: 32.239492,34.886062 - to: 32.234942,34.88462\n",
      "Start coords: (32.239492, 34.886062)\n",
      "End coords: (32.234942, 34.88462)\n",
      "Time 0.62 minutes, distance 0.52 km.\n"
     ]
    },
    {
     "name": "stdout",
     "output_type": "stream",
     "text": [
      "58\n",
      "37.0\n",
      "658\n"
     ]
    },
    {
     "name": "stderr",
     "output_type": "stream",
     "text": [
      "From: 32.234942,34.88462 - to: 32.218431,34.883157\n",
      "Start coords: (32.234942, 34.88462)\n",
      "End coords: (32.218431, 34.883157)\n",
      "Time 1.28 minutes, distance 1.85 km.\n"
     ]
    },
    {
     "name": "stdout",
     "output_type": "stream",
     "text": [
      "59\n",
      "77.0\n",
      "659\n"
     ]
    },
    {
     "name": "stderr",
     "output_type": "stream",
     "text": [
      "From: 32.218431,34.883157 - to: 32.209417,34.883706\n",
      "Start coords: (32.218431, 34.883157)\n",
      "End coords: (32.209417, 34.883706)\n",
      "Time 0.63 minutes, distance 1.00 km.\n"
     ]
    },
    {
     "name": "stdout",
     "output_type": "stream",
     "text": [
      "60\n",
      "38.0\n",
      "660\n"
     ]
    },
    {
     "name": "stderr",
     "output_type": "stream",
     "text": [
      "From: 32.209417,34.883706 - to: 32.190754,34.887242\n",
      "Start coords: (32.209417, 34.883706)\n",
      "End coords: (32.190754, 34.887242)\n",
      "Time 2.62 minutes, distance 2.15 km.\n"
     ]
    },
    {
     "name": "stdout",
     "output_type": "stream",
     "text": [
      "61\n",
      "157.0\n",
      "661\n"
     ]
    },
    {
     "name": "stderr",
     "output_type": "stream",
     "text": [
      "From: 32.190754,34.887242 - to: 32.175756,34.890738\n",
      "Start coords: (32.190754, 34.887242)\n",
      "End coords: (32.175756, 34.890738)\n",
      "Time 2.57 minutes, distance 1.90 km.\n"
     ]
    },
    {
     "name": "stdout",
     "output_type": "stream",
     "text": [
      "62\n",
      "154.0\n",
      "662\n"
     ]
    },
    {
     "name": "stderr",
     "output_type": "stream",
     "text": [
      "From: 32.175756,34.890738 - to: 32.155104,34.894483\n",
      "Start coords: (32.175756, 34.890738)\n",
      "End coords: (32.155104, 34.894483)\n",
      "Time 5.42 minutes, distance 2.38 km.\n"
     ]
    },
    {
     "name": "stdout",
     "output_type": "stream",
     "text": [
      "63\n",
      "325.0\n",
      "663\n"
     ]
    },
    {
     "name": "stderr",
     "output_type": "stream",
     "text": [
      "From: 32.155104,34.894483 - to: 32.14303,34.894369\n",
      "Start coords: (32.155104, 34.894483)\n",
      "End coords: (32.14303, 34.894369)\n",
      "Time 2.40 minutes, distance 1.34 km.\n"
     ]
    },
    {
     "name": "stdout",
     "output_type": "stream",
     "text": [
      "64\n",
      "144.0\n",
      "664\n"
     ]
    },
    {
     "name": "stderr",
     "output_type": "stream",
     "text": [
      "From: 32.14303,34.894369 - to: 32.137306,34.896274\n",
      "Start coords: (32.14303, 34.894369)\n",
      "End coords: (32.137306, 34.896274)\n",
      "Time 0.72 minutes, distance 0.68 km.\n"
     ]
    },
    {
     "name": "stdout",
     "output_type": "stream",
     "text": [
      "65\n",
      "43.0\n",
      "665\n"
     ]
    },
    {
     "name": "stderr",
     "output_type": "stream",
     "text": [
      "From: 32.137306,34.896274 - to: 32.132375,34.89996\n",
      "Start coords: (32.137306, 34.896274)\n",
      "End coords: (32.132375, 34.89996)\n",
      "Time 1.03 minutes, distance 0.65 km.\n"
     ]
    },
    {
     "name": "stdout",
     "output_type": "stream",
     "text": [
      "66\n",
      "62.00000000000001\n",
      "666\n"
     ]
    },
    {
     "name": "stderr",
     "output_type": "stream",
     "text": [
      "From: 32.132375,34.89996 - to: 32.119907,34.903229\n",
      "Start coords: (32.132375, 34.89996)\n",
      "End coords: (32.119907, 34.903229)\n",
      "Time 2.22 minutes, distance 1.49 km.\n"
     ]
    },
    {
     "name": "stdout",
     "output_type": "stream",
     "text": [
      "67\n",
      "133.0\n",
      "667\n"
     ]
    },
    {
     "name": "stderr",
     "output_type": "stream",
     "text": [
      "From: 32.119907,34.903229 - to: 32.101597,34.89757\n",
      "Start coords: (32.119907, 34.903229)\n",
      "End coords: (32.101597, 34.89757)\n",
      "Time 2.82 minutes, distance 2.13 km.\n"
     ]
    },
    {
     "name": "stdout",
     "output_type": "stream",
     "text": [
      "68\n",
      "169.0\n",
      "668\n"
     ]
    },
    {
     "name": "stderr",
     "output_type": "stream",
     "text": [
      "From: 32.101597,34.89757 - to: 32.09914,34.895905\n",
      "Start coords: (32.101597, 34.89757)\n",
      "End coords: (32.09914, 34.895905)\n",
      "Time 0.55 minutes, distance 0.32 km.\n"
     ]
    },
    {
     "name": "stdout",
     "output_type": "stream",
     "text": [
      "69\n",
      "33.0\n",
      "669\n"
     ]
    },
    {
     "name": "stderr",
     "output_type": "stream",
     "text": [
      "From: 32.09914,34.895905 - to: 32.094807,34.886466\n",
      "Start coords: (32.09914, 34.895905)\n",
      "End coords: (32.094807, 34.886466)\n",
      "Time 2.73 minutes, distance 1.03 km.\n"
     ]
    },
    {
     "name": "stdout",
     "output_type": "stream",
     "text": [
      "70\n",
      "164.0\n",
      "670\n"
     ]
    },
    {
     "name": "stderr",
     "output_type": "stream",
     "text": [
      "From: 32.094807,34.886466 - to: 32.091798,34.865101\n",
      "Start coords: (32.094807, 34.886466)\n",
      "End coords: (32.091798, 34.865101)\n",
      "Time 5.92 minutes, distance 2.13 km.\n"
     ]
    },
    {
     "name": "stdout",
     "output_type": "stream",
     "text": [
      "71\n",
      "355.0\n",
      "671\n"
     ]
    },
    {
     "name": "stderr",
     "output_type": "stream",
     "text": [
      "From: 32.091798,34.865101 - to: 32.092482,34.857247\n",
      "Start coords: (32.091798, 34.865101)\n",
      "End coords: (32.092482, 34.857247)\n",
      "Time 2.32 minutes, distance 0.74 km.\n"
     ]
    },
    {
     "name": "stdout",
     "output_type": "stream",
     "text": [
      "72\n",
      "139.0\n",
      "672\n"
     ]
    },
    {
     "name": "stderr",
     "output_type": "stream",
     "text": [
      "From: 32.092482,34.857247 - to: 32.092807,34.847935\n",
      "Start coords: (32.092482, 34.857247)\n",
      "End coords: (32.092807, 34.847935)\n",
      "Time 1.53 minutes, distance 0.88 km.\n"
     ]
    },
    {
     "name": "stdout",
     "output_type": "stream",
     "text": [
      "73\n",
      "92.0\n",
      "673\n"
     ]
    },
    {
     "name": "stderr",
     "output_type": "stream",
     "text": [
      "From: 32.092807,34.847935 - to: 32.092866,34.836946\n",
      "Start coords: (32.092807, 34.847935)\n",
      "End coords: (32.092866, 34.836946)\n",
      "Time 11.03 minutes, distance 1.04 km.\n"
     ]
    },
    {
     "name": "stdout",
     "output_type": "stream",
     "text": [
      "74\n",
      "662.0\n",
      "674\n"
     ]
    },
    {
     "name": "stderr",
     "output_type": "stream",
     "text": [
      "From: 32.092866,34.836946 - to: 32.091728,34.826477\n",
      "Start coords: (32.092866, 34.836946)\n",
      "End coords: (32.091728, 34.826477)\n",
      "Time 1.97 minutes, distance 1.01 km.\n"
     ]
    },
    {
     "name": "stdout",
     "output_type": "stream",
     "text": [
      "75\n",
      "118.0\n",
      "675\n"
     ]
    },
    {
     "name": "stderr",
     "output_type": "stream",
     "text": [
      "From: 32.091728,34.826477 - to: 32.085293,34.810136\n",
      "Start coords: (32.091728, 34.826477)\n",
      "End coords: (32.085293, 34.810136)\n",
      "Time 5.32 minutes, distance 1.71 km.\n"
     ]
    },
    {
     "name": "stdout",
     "output_type": "stream",
     "text": [
      "76\n",
      "319.0\n"
     ]
    },
    {
     "name": "stderr",
     "output_type": "stream",
     "text": [
      "From: 32.085293,34.810136 - to: 32.083677,34.806421\n",
      "Start coords: (32.085293, 34.810136)\n",
      "End coords: (32.083677, 34.806421)\n",
      "Time 0.68 minutes, distance 0.40 km.\n"
     ]
    },
    {
     "name": "stdout",
     "output_type": "stream",
     "text": [
      "676\n",
      "77\n",
      "41.0\n",
      "677\n"
     ]
    },
    {
     "name": "stderr",
     "output_type": "stream",
     "text": [
      "From: 32.083677,34.806421 - to: 32.079838,34.794882\n",
      "Start coords: (32.083677, 34.806421)\n",
      "End coords: (32.079838, 34.794882)\n",
      "Time 4.17 minutes, distance 1.60 km.\n"
     ]
    },
    {
     "name": "stdout",
     "output_type": "stream",
     "text": [
      "78\n",
      "250.00000000000003\n",
      "678\n"
     ]
    },
    {
     "name": "stderr",
     "output_type": "stream",
     "text": [
      "From: 32.079838,34.794882 - to: 32.074914,34.790734\n",
      "Start coords: (32.079838, 34.794882)\n",
      "End coords: (32.074914, 34.790734)\n",
      "Time 1.30 minutes, distance 0.69 km.\n"
     ]
    },
    {
     "name": "stdout",
     "output_type": "stream",
     "text": [
      "79\n",
      "78.0\n",
      "679\n"
     ]
    },
    {
     "name": "stderr",
     "output_type": "stream",
     "text": [
      "From: 32.074914,34.790734 - to: 32.06123,34.784594\n",
      "Start coords: (32.074914, 34.790734)\n",
      "End coords: (32.06123, 34.784594)\n",
      "Time 3.50 minutes, distance 1.62 km.\n"
     ]
    },
    {
     "name": "stdout",
     "output_type": "stream",
     "text": [
      "80\n",
      "210.0\n",
      "680\n"
     ]
    },
    {
     "name": "stderr",
     "output_type": "stream",
     "text": [
      "From: 32.06123,34.784594 - to: 32.055636,34.780466\n",
      "Start coords: (32.06123, 34.784594)\n",
      "End coords: (32.055636, 34.780466)\n",
      "Time 2.65 minutes, distance 1.07 km.\n"
     ]
    },
    {
     "name": "stdout",
     "output_type": "stream",
     "text": [
      "81\n",
      "159.0\n",
      "681\n"
     ]
    },
    {
     "name": "stderr",
     "output_type": "stream",
     "text": [
      "From: 32.793372,34.958985 - to: 32.789609,34.962117\n",
      "Start coords: (32.793372, 34.958985)\n",
      "End coords: (32.789609, 34.962117)\n",
      "Time 2.47 minutes, distance 0.93 km.\n"
     ]
    },
    {
     "name": "stdout",
     "output_type": "stream",
     "text": [
      "0\n",
      "148.0\n",
      "700\n"
     ]
    },
    {
     "name": "stderr",
     "output_type": "stream",
     "text": [
      "From: 32.789609,34.962117 - to: 32.78459,34.962626\n",
      "Start coords: (32.789609, 34.962117)\n",
      "End coords: (32.78459, 34.962626)\n",
      "Time 0.83 minutes, distance 0.56 km.\n"
     ]
    },
    {
     "name": "stdout",
     "output_type": "stream",
     "text": [
      "1\n",
      "50.0\n",
      "701\n"
     ]
    },
    {
     "name": "stderr",
     "output_type": "stream",
     "text": [
      "From: 32.78459,34.962626 - to: 32.781207,34.962876\n",
      "Start coords: (32.78459, 34.962626)\n",
      "End coords: (32.781207, 34.962876)\n",
      "Time 0.32 minutes, distance 0.38 km.\n"
     ]
    },
    {
     "name": "stdout",
     "output_type": "stream",
     "text": [
      "2\n",
      "19.0\n",
      "702\n"
     ]
    },
    {
     "name": "stderr",
     "output_type": "stream",
     "text": [
      "From: 32.781207,34.962876 - to: 32.772031,34.962995\n",
      "Start coords: (32.781207, 34.962876)\n",
      "End coords: (32.772031, 34.962995)\n",
      "Time 2.02 minutes, distance 1.92 km.\n"
     ]
    },
    {
     "name": "stdout",
     "output_type": "stream",
     "text": [
      "3\n",
      "121.0\n",
      "703\n"
     ]
    },
    {
     "name": "stderr",
     "output_type": "stream",
     "text": [
      "From: 32.772031,34.962995 - to: 32.764238,34.961821\n",
      "Start coords: (32.772031, 34.962995)\n",
      "End coords: (32.764238, 34.961821)\n",
      "Time 0.95 minutes, distance 0.87 km.\n"
     ]
    },
    {
     "name": "stdout",
     "output_type": "stream",
     "text": [
      "4\n",
      "57.0\n",
      "704\n"
     ]
    },
    {
     "name": "stderr",
     "output_type": "stream",
     "text": [
      "From: 32.764238,34.961821 - to: 32.759921,34.961275\n",
      "Start coords: (32.764238, 34.961821)\n",
      "End coords: (32.759921, 34.961275)\n",
      "Time 0.60 minutes, distance 0.48 km.\n"
     ]
    },
    {
     "name": "stdout",
     "output_type": "stream",
     "text": [
      "5\n",
      "36.0\n",
      "705\n"
     ]
    },
    {
     "name": "stderr",
     "output_type": "stream",
     "text": [
      "From: 32.759921,34.961275 - to: 32.752365,34.962668\n",
      "Start coords: (32.759921, 34.961275)\n",
      "End coords: (32.752365, 34.962668)\n",
      "Time 1.03 minutes, distance 0.85 km.\n"
     ]
    },
    {
     "name": "stdout",
     "output_type": "stream",
     "text": [
      "6\n",
      "62.00000000000001\n",
      "706\n"
     ]
    },
    {
     "name": "stderr",
     "output_type": "stream",
     "text": [
      "From: 32.752365,34.962668 - to: 32.737043,34.966128\n",
      "Start coords: (32.752365, 34.962668)\n",
      "End coords: (32.737043, 34.966128)\n",
      "Time 1.62 minutes, distance 1.75 km.\n"
     ]
    },
    {
     "name": "stdout",
     "output_type": "stream",
     "text": [
      "7\n",
      "97.0\n",
      "707\n"
     ]
    },
    {
     "name": "stderr",
     "output_type": "stream",
     "text": [
      "From: 32.737043,34.966128 - to: 32.725875,34.966216\n",
      "Start coords: (32.737043, 34.966128)\n",
      "End coords: (32.725875, 34.966216)\n",
      "Time 0.92 minutes, distance 1.24 km.\n"
     ]
    },
    {
     "name": "stdout",
     "output_type": "stream",
     "text": [
      "8\n",
      "55.0\n",
      "708\n"
     ]
    },
    {
     "name": "stderr",
     "output_type": "stream",
     "text": [
      "From: 32.725875,34.966216 - to: 32.717596,34.968597\n",
      "Start coords: (32.725875, 34.966216)\n",
      "End coords: (32.717596, 34.968597)\n",
      "Time 0.77 minutes, distance 0.96 km.\n"
     ]
    },
    {
     "name": "stdout",
     "output_type": "stream",
     "text": [
      "9\n",
      "46.0\n",
      "709\n"
     ]
    },
    {
     "name": "stderr",
     "output_type": "stream",
     "text": [
      "From: 32.717596,34.968597 - to: 32.713239,34.970693\n",
      "Start coords: (32.717596, 34.968597)\n",
      "End coords: (32.713239, 34.970693)\n",
      "Time 0.47 minutes, distance 0.53 km.\n"
     ]
    },
    {
     "name": "stdout",
     "output_type": "stream",
     "text": [
      "10\n",
      "28.0\n",
      "710\n"
     ]
    },
    {
     "name": "stderr",
     "output_type": "stream",
     "text": [
      "From: 32.713239,34.970693 - to: 32.710042,34.970338\n",
      "Start coords: (32.713239, 34.970693)\n",
      "End coords: (32.710042, 34.970338)\n",
      "Time 0.53 minutes, distance 0.36 km.\n"
     ]
    },
    {
     "name": "stdout",
     "output_type": "stream",
     "text": [
      "11\n",
      "32.0\n",
      "711\n"
     ]
    },
    {
     "name": "stderr",
     "output_type": "stream",
     "text": [
      "From: 32.710042,34.970338 - to: 32.702365,34.968957\n",
      "Start coords: (32.710042, 34.970338)\n",
      "End coords: (32.702365, 34.968957)\n",
      "Time 0.75 minutes, distance 0.86 km.\n"
     ]
    },
    {
     "name": "stdout",
     "output_type": "stream",
     "text": [
      "12\n",
      "45.0\n",
      "712\n"
     ]
    },
    {
     "name": "stderr",
     "output_type": "stream",
     "text": [
      "From: 32.702365,34.968957 - to: 32.676436,34.96162\n",
      "Start coords: (32.702365, 34.968957)\n",
      "End coords: (32.676436, 34.96162)\n",
      "Time 2.22 minutes, distance 2.98 km.\n"
     ]
    },
    {
     "name": "stdout",
     "output_type": "stream",
     "text": [
      "13\n",
      "133.0\n",
      "713\n"
     ]
    },
    {
     "name": "stderr",
     "output_type": "stream",
     "text": [
      "From: 32.676436,34.96162 - to: 32.662089,34.960079\n",
      "Start coords: (32.676436, 34.96162)\n",
      "End coords: (32.662089, 34.960079)\n",
      "Time 1.15 minutes, distance 1.60 km.\n"
     ]
    },
    {
     "name": "stdout",
     "output_type": "stream",
     "text": [
      "14\n",
      "69.0\n",
      "714\n"
     ]
    },
    {
     "name": "stderr",
     "output_type": "stream",
     "text": [
      "From: 32.662089,34.960079 - to: 32.647133,34.958825\n",
      "Start coords: (32.662089, 34.960079)\n",
      "End coords: (32.647133, 34.958825)\n",
      "Time 1.25 minutes, distance 1.66 km.\n"
     ]
    },
    {
     "name": "stdout",
     "output_type": "stream",
     "text": [
      "15\n",
      "75.0\n",
      "715\n"
     ]
    },
    {
     "name": "stderr",
     "output_type": "stream",
     "text": [
      "From: 32.647133,34.958825 - to: 32.642367,34.958627\n",
      "Start coords: (32.647133, 34.958825)\n",
      "End coords: (32.642367, 34.958627)\n",
      "Time 0.40 minutes, distance 0.53 km.\n"
     ]
    },
    {
     "name": "stdout",
     "output_type": "stream",
     "text": [
      "16\n",
      "24.0\n",
      "716\n"
     ]
    },
    {
     "name": "stderr",
     "output_type": "stream",
     "text": [
      "From: 32.642367,34.958627 - to: 32.639184,34.958505\n",
      "Start coords: (32.642367, 34.958627)\n",
      "End coords: (32.639184, 34.958505)\n",
      "Time 0.28 minutes, distance 0.35 km.\n"
     ]
    },
    {
     "name": "stdout",
     "output_type": "stream",
     "text": [
      "17\n",
      "17.0\n",
      "717\n"
     ]
    },
    {
     "name": "stderr",
     "output_type": "stream",
     "text": [
      "From: 32.639184,34.958505 - to: 32.628246,34.957538\n",
      "Start coords: (32.639184, 34.958505)\n",
      "End coords: (32.628246, 34.957538)\n",
      "Time 0.93 minutes, distance 1.21 km.\n"
     ]
    },
    {
     "name": "stdout",
     "output_type": "stream",
     "text": [
      "18\n",
      "56.0\n",
      "718\n"
     ]
    },
    {
     "name": "stderr",
     "output_type": "stream",
     "text": [
      "From: 32.628246,34.957538 - to: 32.619035,34.955474\n",
      "Start coords: (32.628246, 34.957538)\n",
      "End coords: (32.619035, 34.955474)\n",
      "Time 0.78 minutes, distance 1.04 km.\n"
     ]
    },
    {
     "name": "stdout",
     "output_type": "stream",
     "text": [
      "19\n",
      "47.0\n",
      "719\n"
     ]
    },
    {
     "name": "stderr",
     "output_type": "stream",
     "text": [
      "From: 32.619035,34.955474 - to: 32.605658,34.952011\n",
      "Start coords: (32.619035, 34.955474)\n",
      "End coords: (32.605658, 34.952011)\n",
      "Time 1.17 minutes, distance 1.52 km.\n"
     ]
    },
    {
     "name": "stdout",
     "output_type": "stream",
     "text": [
      "20\n",
      "70.0\n",
      "720\n"
     ]
    },
    {
     "name": "stderr",
     "output_type": "stream",
     "text": [
      "From: 32.605658,34.952011 - to: 32.595734,34.949146\n",
      "Start coords: (32.605658, 34.952011)\n",
      "End coords: (32.595734, 34.949146)\n",
      "Time 1.38 minutes, distance 1.15 km.\n"
     ]
    },
    {
     "name": "stdout",
     "output_type": "stream",
     "text": [
      "21\n",
      "83.0\n",
      "721\n"
     ]
    },
    {
     "name": "stderr",
     "output_type": "stream",
     "text": [
      "From: 32.595734,34.949146 - to: 32.591639,34.946468\n",
      "Start coords: (32.595734, 34.949146)\n",
      "End coords: (32.591639, 34.946468)\n",
      "Time 2.08 minutes, distance 0.76 km.\n"
     ]
    },
    {
     "name": "stdout",
     "output_type": "stream",
     "text": [
      "22\n",
      "125.00000000000001\n",
      "722\n"
     ]
    },
    {
     "name": "stderr",
     "output_type": "stream",
     "text": [
      "From: 32.591639,34.946468 - to: 32.575448,34.938832\n",
      "Start coords: (32.591639, 34.946468)\n",
      "End coords: (32.575448, 34.938832)\n",
      "Time 1.33 minutes, distance 1.95 km.\n"
     ]
    },
    {
     "name": "stdout",
     "output_type": "stream",
     "text": [
      "23\n",
      "80.0\n",
      "723\n"
     ]
    },
    {
     "name": "stderr",
     "output_type": "stream",
     "text": [
      "From: 32.575448,34.938832 - to: 32.571108,34.937372\n",
      "Start coords: (32.575448, 34.938832)\n",
      "End coords: (32.571108, 34.937372)\n",
      "Time 0.68 minutes, distance 0.47 km.\n"
     ]
    },
    {
     "name": "stdout",
     "output_type": "stream",
     "text": [
      "24\n",
      "41.0\n",
      "724\n"
     ]
    },
    {
     "name": "stderr",
     "output_type": "stream",
     "text": [
      "From: 32.571108,34.937372 - to: 32.568084,34.936196\n",
      "Start coords: (32.571108, 34.937372)\n",
      "End coords: (32.568084, 34.936196)\n",
      "Time 0.40 minutes, distance 0.35 km.\n"
     ]
    },
    {
     "name": "stdout",
     "output_type": "stream",
     "text": [
      "25\n",
      "24.0\n",
      "725\n"
     ]
    },
    {
     "name": "stderr",
     "output_type": "stream",
     "text": [
      "From: 32.568084,34.936196 - to: 32.556372,34.931537\n",
      "Start coords: (32.568084, 34.936196)\n",
      "End coords: (32.556372, 34.931537)\n",
      "Time 0.87 minutes, distance 1.37 km.\n"
     ]
    },
    {
     "name": "stdout",
     "output_type": "stream",
     "text": [
      "26\n",
      "52.0\n",
      "726\n"
     ]
    },
    {
     "name": "stderr",
     "output_type": "stream",
     "text": [
      "From: 32.556372,34.931537 - to: 32.533345,34.928702\n",
      "Start coords: (32.556372, 34.931537)\n",
      "End coords: (32.533345, 34.928702)\n",
      "Time 1.88 minutes, distance 2.62 km.\n"
     ]
    },
    {
     "name": "stdout",
     "output_type": "stream",
     "text": [
      "27\n",
      "113.0\n",
      "727\n"
     ]
    },
    {
     "name": "stderr",
     "output_type": "stream",
     "text": [
      "From: 32.533345,34.928702 - to: 32.523128,34.929403\n",
      "Start coords: (32.533345, 34.928702)\n",
      "End coords: (32.523128, 34.929403)\n",
      "Time 1.52 minutes, distance 1.13 km.\n"
     ]
    },
    {
     "name": "stdout",
     "output_type": "stream",
     "text": [
      "28\n",
      "91.0\n",
      "728\n"
     ]
    },
    {
     "name": "stderr",
     "output_type": "stream",
     "text": [
      "From: 32.523128,34.929403 - to: 32.516826,34.929888\n",
      "Start coords: (32.523128, 34.929403)\n",
      "End coords: (32.516826, 34.929888)\n",
      "Time 4.22 minutes, distance 2.19 km.\n"
     ]
    },
    {
     "name": "stdout",
     "output_type": "stream",
     "text": [
      "29\n",
      "253.0\n",
      "729\n"
     ]
    },
    {
     "name": "stderr",
     "output_type": "stream",
     "text": [
      "From: 32.516826,34.929888 - to: 32.500294,34.927745\n",
      "Start coords: (32.516826, 34.929888)\n",
      "End coords: (32.500294, 34.927745)\n",
      "Time 1.82 minutes, distance 1.88 km.\n"
     ]
    },
    {
     "name": "stdout",
     "output_type": "stream",
     "text": [
      "30\n",
      "109.0\n",
      "730\n"
     ]
    },
    {
     "name": "stderr",
     "output_type": "stream",
     "text": [
      "From: 32.500294,34.927745 - to: 32.479664,34.91953\n",
      "Start coords: (32.500294, 34.927745)\n",
      "End coords: (32.479664, 34.91953)\n",
      "Time 2.00 minutes, distance 2.41 km.\n"
     ]
    },
    {
     "name": "stdout",
     "output_type": "stream",
     "text": [
      "31\n",
      "120.0\n",
      "731\n"
     ]
    },
    {
     "name": "stderr",
     "output_type": "stream",
     "text": [
      "From: 32.479664,34.91953 - to: 32.464412,34.912191\n",
      "Start coords: (32.479664, 34.91953)\n",
      "End coords: (32.464412, 34.912191)\n",
      "Time 2.22 minutes, distance 1.92 km.\n"
     ]
    },
    {
     "name": "stdout",
     "output_type": "stream",
     "text": [
      "32\n",
      "133.0\n",
      "732\n"
     ]
    },
    {
     "name": "stderr",
     "output_type": "stream",
     "text": [
      "From: 32.464412,34.912191 - to: 32.457375,34.9071\n",
      "Start coords: (32.464412, 34.912191)\n",
      "End coords: (32.457375, 34.9071)\n",
      "Time 0.80 minutes, distance 0.91 km.\n"
     ]
    },
    {
     "name": "stdout",
     "output_type": "stream",
     "text": [
      "33\n",
      "48.0\n",
      "733\n"
     ]
    },
    {
     "name": "stderr",
     "output_type": "stream",
     "text": [
      "From: 32.457375,34.9071 - to: 32.454646,34.907116\n",
      "Start coords: (32.457375, 34.9071)\n",
      "End coords: (32.454646, 34.907116)\n",
      "Time 0.40 minutes, distance 0.30 km.\n"
     ]
    },
    {
     "name": "stdout",
     "output_type": "stream",
     "text": [
      "34\n",
      "24.0\n",
      "734\n"
     ]
    },
    {
     "name": "stderr",
     "output_type": "stream",
     "text": [
      "From: 32.454646,34.907116 - to: 32.450906,34.90867\n",
      "Start coords: (32.454646, 34.907116)\n",
      "End coords: (32.450906, 34.90867)\n",
      "Time 0.55 minutes, distance 0.44 km.\n"
     ]
    },
    {
     "name": "stdout",
     "output_type": "stream",
     "text": [
      "35\n",
      "33.0\n",
      "735\n"
     ]
    },
    {
     "name": "stderr",
     "output_type": "stream",
     "text": [
      "From: 32.450906,34.90867 - to: 32.446689,34.910224\n",
      "Start coords: (32.450906, 34.90867)\n",
      "End coords: (32.446689, 34.910224)\n",
      "Time 0.58 minutes, distance 0.49 km.\n"
     ]
    },
    {
     "name": "stdout",
     "output_type": "stream",
     "text": [
      "36\n",
      "35.0\n",
      "736\n"
     ]
    },
    {
     "name": "stderr",
     "output_type": "stream",
     "text": [
      "From: 32.446689,34.910224 - to: 32.441755,34.910952\n",
      "Start coords: (32.446689, 34.910224)\n",
      "End coords: (32.441755, 34.910952)\n",
      "Time 1.10 minutes, distance 0.56 km.\n"
     ]
    },
    {
     "name": "stdout",
     "output_type": "stream",
     "text": [
      "37\n",
      "66.0\n",
      "737\n"
     ]
    },
    {
     "name": "stderr",
     "output_type": "stream",
     "text": [
      "From: 32.441755,34.910952 - to: 32.438209,34.911987\n",
      "Start coords: (32.441755, 34.910952)\n",
      "End coords: (32.438209, 34.911987)\n",
      "Time 2.17 minutes, distance 0.53 km.\n"
     ]
    },
    {
     "name": "stdout",
     "output_type": "stream",
     "text": [
      "38\n",
      "130.0\n",
      "738\n"
     ]
    },
    {
     "name": "stderr",
     "output_type": "stream",
     "text": [
      "From: 32.438209,34.911987 - to: 32.435324,34.914147\n",
      "Start coords: (32.438209, 34.911987)\n",
      "End coords: (32.435324, 34.914147)\n",
      "Time 2.77 minutes, distance 1.01 km.\n"
     ]
    },
    {
     "name": "stdout",
     "output_type": "stream",
     "text": [
      "39\n",
      "166.0\n",
      "739\n"
     ]
    },
    {
     "name": "stderr",
     "output_type": "stream",
     "text": [
      "From: 32.435324,34.914147 - to: 32.435962,34.914021\n",
      "Start coords: (32.435324, 34.914147)\n",
      "End coords: (32.435962, 34.914021)\n",
      "Time 0.50 minutes, distance 0.11 km.\n"
     ]
    },
    {
     "name": "stdout",
     "output_type": "stream",
     "text": [
      "40\n",
      "30.0\n",
      "740\n"
     ]
    },
    {
     "name": "stderr",
     "output_type": "stream",
     "text": [
      "From: 32.435962,34.914021 - to: 32.432762,34.909369\n",
      "Start coords: (32.435962, 34.914021)\n",
      "End coords: (32.432762, 34.909369)\n",
      "Time 3.65 minutes, distance 1.29 km.\n"
     ]
    },
    {
     "name": "stdout",
     "output_type": "stream",
     "text": [
      "41\n",
      "219.0\n",
      "741\n"
     ]
    },
    {
     "name": "stderr",
     "output_type": "stream",
     "text": [
      "From: 32.432762,34.909369 - to: 32.40895,34.903447\n",
      "Start coords: (32.432762, 34.909369)\n",
      "End coords: (32.40895, 34.903447)\n",
      "Time 2.20 minutes, distance 2.70 km.\n"
     ]
    },
    {
     "name": "stdout",
     "output_type": "stream",
     "text": [
      "42\n",
      "132.0\n",
      "742\n"
     ]
    },
    {
     "name": "stderr",
     "output_type": "stream",
     "text": [
      "From: 32.40895,34.903447 - to: 32.400004,34.903026\n",
      "Start coords: (32.40895, 34.903447)\n",
      "End coords: (32.400004, 34.903026)\n",
      "Time 1.97 minutes, distance 0.99 km.\n"
     ]
    },
    {
     "name": "stdout",
     "output_type": "stream",
     "text": [
      "43\n",
      "118.0\n",
      "743\n"
     ]
    },
    {
     "name": "stderr",
     "output_type": "stream",
     "text": [
      "From: 32.400004,34.903026 - to: 32.392873,34.903167\n",
      "Start coords: (32.400004, 34.903026)\n",
      "End coords: (32.392873, 34.903167)\n",
      "Time 3.03 minutes, distance 0.79 km.\n"
     ]
    },
    {
     "name": "stdout",
     "output_type": "stream",
     "text": [
      "44\n",
      "182.0\n",
      "744\n"
     ]
    },
    {
     "name": "stderr",
     "output_type": "stream",
     "text": [
      "From: 32.392873,34.903167 - to: 32.378766,34.907664\n",
      "Start coords: (32.392873, 34.903167)\n",
      "End coords: (32.378766, 34.907664)\n",
      "Time 3.42 minutes, distance 1.62 km.\n"
     ]
    },
    {
     "name": "stdout",
     "output_type": "stream",
     "text": [
      "45\n",
      "205.0\n",
      "745\n"
     ]
    },
    {
     "name": "stderr",
     "output_type": "stream",
     "text": [
      "From: 32.378766,34.907664 - to: 32.373139,34.908841\n",
      "Start coords: (32.378766, 34.907664)\n",
      "End coords: (32.373139, 34.908841)\n",
      "Time 1.67 minutes, distance 0.82 km.\n"
     ]
    },
    {
     "name": "stdout",
     "output_type": "stream",
     "text": [
      "46\n",
      "100.0\n",
      "746\n"
     ]
    },
    {
     "name": "stderr",
     "output_type": "stream",
     "text": [
      "From: 32.373139,34.908841 - to: 32.364299,34.90753\n",
      "Start coords: (32.373139, 34.908841)\n",
      "End coords: (32.364299, 34.90753)\n",
      "Time 0.87 minutes, distance 0.99 km.\n"
     ]
    },
    {
     "name": "stdout",
     "output_type": "stream",
     "text": [
      "47\n",
      "52.0\n",
      "747\n"
     ]
    },
    {
     "name": "stderr",
     "output_type": "stream",
     "text": [
      "From: 32.364299,34.90753 - to: 32.358205,34.906876\n",
      "Start coords: (32.364299, 34.90753)\n",
      "End coords: (32.358205, 34.906876)\n",
      "Time 2.18 minutes, distance 0.89 km.\n"
     ]
    },
    {
     "name": "stdout",
     "output_type": "stream",
     "text": [
      "48\n",
      "131.0\n",
      "748\n"
     ]
    },
    {
     "name": "stderr",
     "output_type": "stream",
     "text": [
      "From: 32.358205,34.906876 - to: 32.357114,34.908334\n",
      "Start coords: (32.358205, 34.906876)\n",
      "End coords: (32.357114, 34.908334)\n",
      "Time 0.57 minutes, distance 0.28 km.\n"
     ]
    },
    {
     "name": "stdout",
     "output_type": "stream",
     "text": [
      "49\n",
      "34.0\n",
      "749\n"
     ]
    },
    {
     "name": "stderr",
     "output_type": "stream",
     "text": [
      "From: 32.357114,34.908334 - to: 32.344205,34.907781\n",
      "Start coords: (32.357114, 34.908334)\n",
      "End coords: (32.344205, 34.907781)\n",
      "Time 1.43 minutes, distance 1.43 km.\n"
     ]
    },
    {
     "name": "stdout",
     "output_type": "stream",
     "text": [
      "50\n",
      "86.0\n",
      "750\n"
     ]
    },
    {
     "name": "stderr",
     "output_type": "stream",
     "text": [
      "From: 32.344205,34.907781 - to: 32.321146,34.903693\n",
      "Start coords: (32.344205, 34.907781)\n",
      "End coords: (32.321146, 34.903693)\n",
      "Time 2.43 minutes, distance 2.59 km.\n"
     ]
    },
    {
     "name": "stdout",
     "output_type": "stream",
     "text": [
      "51\n",
      "146.0\n",
      "751\n"
     ]
    },
    {
     "name": "stderr",
     "output_type": "stream",
     "text": [
      "From: 32.321146,34.903693 - to: 32.304107,34.900468\n",
      "Start coords: (32.321146, 34.903693)\n",
      "End coords: (32.304107, 34.900468)\n",
      "Time 1.53 minutes, distance 1.91 km.\n"
     ]
    },
    {
     "name": "stdout",
     "output_type": "stream",
     "text": [
      "52\n",
      "92.0\n",
      "752\n"
     ]
    },
    {
     "name": "stderr",
     "output_type": "stream",
     "text": [
      "From: 32.304107,34.900468 - to: 32.28275,34.896439\n",
      "Start coords: (32.304107, 34.900468)\n",
      "End coords: (32.28275, 34.896439)\n",
      "Time 1.88 minutes, distance 2.40 km.\n"
     ]
    },
    {
     "name": "stdout",
     "output_type": "stream",
     "text": [
      "53\n",
      "113.0\n",
      "753\n"
     ]
    },
    {
     "name": "stderr",
     "output_type": "stream",
     "text": [
      "From: 32.28275,34.896439 - to: 32.275284,34.895065\n",
      "Start coords: (32.28275, 34.896439)\n",
      "End coords: (32.275284, 34.895065)\n",
      "Time 0.50 minutes, distance 0.74 km.\n"
     ]
    },
    {
     "name": "stdout",
     "output_type": "stream",
     "text": [
      "54\n",
      "30.0\n",
      "754\n"
     ]
    },
    {
     "name": "stderr",
     "output_type": "stream",
     "text": [
      "From: 32.275284,34.895065 - to: 32.268669,34.893805\n",
      "Start coords: (32.275284, 34.895065)\n",
      "End coords: (32.268669, 34.893805)\n",
      "Time 0.48 minutes, distance 0.74 km.\n"
     ]
    },
    {
     "name": "stdout",
     "output_type": "stream",
     "text": [
      "55\n",
      "29.0\n",
      "755\n"
     ]
    },
    {
     "name": "stderr",
     "output_type": "stream",
     "text": [
      "From: 32.268669,34.893805 - to: 32.254064,34.88915\n",
      "Start coords: (32.268669, 34.893805)\n",
      "End coords: (32.254064, 34.88915)\n",
      "Time 6.43 minutes, distance 5.11 km.\n"
     ]
    },
    {
     "name": "stdout",
     "output_type": "stream",
     "text": [
      "56\n",
      "386.0\n",
      "756\n"
     ]
    },
    {
     "name": "stderr",
     "output_type": "stream",
     "text": [
      "From: 32.254064,34.88915 - to: 32.239492,34.886062\n",
      "Start coords: (32.254064, 34.88915)\n",
      "End coords: (32.239492, 34.886062)\n",
      "Time 1.32 minutes, distance 1.68 km.\n"
     ]
    },
    {
     "name": "stdout",
     "output_type": "stream",
     "text": [
      "57\n",
      "79.0\n",
      "757\n"
     ]
    },
    {
     "name": "stderr",
     "output_type": "stream",
     "text": [
      "From: 32.239492,34.886062 - to: 32.234942,34.88462\n",
      "Start coords: (32.239492, 34.886062)\n",
      "End coords: (32.234942, 34.88462)\n",
      "Time 0.72 minutes, distance 0.52 km.\n"
     ]
    },
    {
     "name": "stdout",
     "output_type": "stream",
     "text": [
      "58\n",
      "43.0\n",
      "758\n"
     ]
    },
    {
     "name": "stderr",
     "output_type": "stream",
     "text": [
      "From: 32.234942,34.88462 - to: 32.218431,34.883157\n",
      "Start coords: (32.234942, 34.88462)\n",
      "End coords: (32.218431, 34.883157)\n",
      "Time 1.27 minutes, distance 1.85 km.\n"
     ]
    },
    {
     "name": "stdout",
     "output_type": "stream",
     "text": [
      "59\n",
      "76.0\n",
      "759\n"
     ]
    },
    {
     "name": "stderr",
     "output_type": "stream",
     "text": [
      "From: 32.218431,34.883157 - to: 32.209417,34.883706\n",
      "Start coords: (32.218431, 34.883157)\n",
      "End coords: (32.209417, 34.883706)\n",
      "Time 0.60 minutes, distance 1.00 km.\n"
     ]
    },
    {
     "name": "stdout",
     "output_type": "stream",
     "text": [
      "60\n",
      "36.0\n",
      "760\n"
     ]
    },
    {
     "name": "stderr",
     "output_type": "stream",
     "text": [
      "From: 32.209417,34.883706 - to: 32.190754,34.887242\n",
      "Start coords: (32.209417, 34.883706)\n",
      "End coords: (32.190754, 34.887242)\n",
      "Time 2.03 minutes, distance 2.15 km.\n"
     ]
    },
    {
     "name": "stdout",
     "output_type": "stream",
     "text": [
      "61\n",
      "122.0\n",
      "761\n"
     ]
    },
    {
     "name": "stderr",
     "output_type": "stream",
     "text": [
      "From: 32.190754,34.887242 - to: 32.175756,34.890738\n",
      "Start coords: (32.190754, 34.887242)\n",
      "End coords: (32.175756, 34.890738)\n",
      "Time 2.75 minutes, distance 1.90 km.\n"
     ]
    },
    {
     "name": "stdout",
     "output_type": "stream",
     "text": [
      "62\n",
      "165.0\n",
      "762\n"
     ]
    },
    {
     "name": "stderr",
     "output_type": "stream",
     "text": [
      "From: 32.175756,34.890738 - to: 32.155104,34.894483\n",
      "Start coords: (32.175756, 34.890738)\n",
      "End coords: (32.155104, 34.894483)\n",
      "Time 6.47 minutes, distance 2.38 km.\n"
     ]
    },
    {
     "name": "stdout",
     "output_type": "stream",
     "text": [
      "63\n",
      "388.0\n",
      "763\n"
     ]
    },
    {
     "name": "stderr",
     "output_type": "stream",
     "text": [
      "From: 32.155104,34.894483 - to: 32.14303,34.894369\n",
      "Start coords: (32.155104, 34.894483)\n",
      "End coords: (32.14303, 34.894369)\n",
      "Time 2.58 minutes, distance 1.34 km.\n"
     ]
    },
    {
     "name": "stdout",
     "output_type": "stream",
     "text": [
      "64\n",
      "155.0\n",
      "764\n"
     ]
    },
    {
     "name": "stderr",
     "output_type": "stream",
     "text": [
      "From: 32.14303,34.894369 - to: 32.137306,34.896274\n",
      "Start coords: (32.14303, 34.894369)\n",
      "End coords: (32.137306, 34.896274)\n",
      "Time 0.77 minutes, distance 0.68 km.\n"
     ]
    },
    {
     "name": "stdout",
     "output_type": "stream",
     "text": [
      "65\n",
      "46.0\n",
      "765\n"
     ]
    },
    {
     "name": "stderr",
     "output_type": "stream",
     "text": [
      "From: 32.137306,34.896274 - to: 32.132375,34.89996\n",
      "Start coords: (32.137306, 34.896274)\n",
      "End coords: (32.132375, 34.89996)\n",
      "Time 1.07 minutes, distance 0.65 km.\n"
     ]
    },
    {
     "name": "stdout",
     "output_type": "stream",
     "text": [
      "66\n",
      "64.0\n",
      "766\n"
     ]
    },
    {
     "name": "stderr",
     "output_type": "stream",
     "text": [
      "From: 32.132375,34.89996 - to: 32.119907,34.903229\n",
      "Start coords: (32.132375, 34.89996)\n",
      "End coords: (32.119907, 34.903229)\n",
      "Time 1.87 minutes, distance 1.49 km.\n"
     ]
    },
    {
     "name": "stdout",
     "output_type": "stream",
     "text": [
      "67\n",
      "112.0\n",
      "767\n"
     ]
    },
    {
     "name": "stderr",
     "output_type": "stream",
     "text": [
      "From: 32.119907,34.903229 - to: 32.101597,34.89757\n",
      "Start coords: (32.119907, 34.903229)\n",
      "End coords: (32.101597, 34.89757)\n",
      "Time 3.25 minutes, distance 2.13 km.\n"
     ]
    },
    {
     "name": "stdout",
     "output_type": "stream",
     "text": [
      "68\n",
      "195.0\n",
      "768\n"
     ]
    },
    {
     "name": "stderr",
     "output_type": "stream",
     "text": [
      "From: 32.101597,34.89757 - to: 32.09914,34.895905\n",
      "Start coords: (32.101597, 34.89757)\n",
      "End coords: (32.09914, 34.895905)\n",
      "Time 0.62 minutes, distance 0.32 km.\n"
     ]
    },
    {
     "name": "stdout",
     "output_type": "stream",
     "text": [
      "69\n",
      "37.0\n",
      "769\n"
     ]
    },
    {
     "name": "stderr",
     "output_type": "stream",
     "text": [
      "From: 32.09914,34.895905 - to: 32.094807,34.886466\n",
      "Start coords: (32.09914, 34.895905)\n",
      "End coords: (32.094807, 34.886466)\n",
      "Time 3.25 minutes, distance 1.03 km.\n"
     ]
    },
    {
     "name": "stdout",
     "output_type": "stream",
     "text": [
      "70\n",
      "195.0\n",
      "770\n"
     ]
    },
    {
     "name": "stderr",
     "output_type": "stream",
     "text": [
      "From: 32.094807,34.886466 - to: 32.091798,34.865101\n",
      "Start coords: (32.094807, 34.886466)\n",
      "End coords: (32.091798, 34.865101)\n",
      "Time 5.15 minutes, distance 2.13 km.\n"
     ]
    },
    {
     "name": "stdout",
     "output_type": "stream",
     "text": [
      "71\n",
      "309.0\n",
      "771\n"
     ]
    },
    {
     "name": "stderr",
     "output_type": "stream",
     "text": [
      "From: 32.091798,34.865101 - to: 32.092482,34.857247\n",
      "Start coords: (32.091798, 34.865101)\n",
      "End coords: (32.092482, 34.857247)\n",
      "Time 2.23 minutes, distance 0.74 km.\n"
     ]
    },
    {
     "name": "stdout",
     "output_type": "stream",
     "text": [
      "72\n",
      "134.0\n",
      "772\n"
     ]
    },
    {
     "name": "stderr",
     "output_type": "stream",
     "text": [
      "From: 32.092482,34.857247 - to: 32.092807,34.847935\n",
      "Start coords: (32.092482, 34.857247)\n",
      "End coords: (32.092807, 34.847935)\n",
      "Time 1.47 minutes, distance 0.88 km.\n"
     ]
    },
    {
     "name": "stdout",
     "output_type": "stream",
     "text": [
      "73\n",
      "88.0\n",
      "773\n"
     ]
    },
    {
     "name": "stderr",
     "output_type": "stream",
     "text": [
      "From: 32.092807,34.847935 - to: 32.092866,34.836946\n",
      "Start coords: (32.092807, 34.847935)\n",
      "End coords: (32.092866, 34.836946)\n",
      "Time 5.95 minutes, distance 1.04 km.\n"
     ]
    },
    {
     "name": "stdout",
     "output_type": "stream",
     "text": [
      "74\n",
      "357.0\n",
      "774\n"
     ]
    },
    {
     "name": "stderr",
     "output_type": "stream",
     "text": [
      "From: 32.092866,34.836946 - to: 32.091728,34.826477\n",
      "Start coords: (32.092866, 34.836946)\n",
      "End coords: (32.091728, 34.826477)\n",
      "Time 1.75 minutes, distance 1.01 km.\n"
     ]
    },
    {
     "name": "stdout",
     "output_type": "stream",
     "text": [
      "75\n",
      "105.0\n",
      "775\n"
     ]
    },
    {
     "name": "stderr",
     "output_type": "stream",
     "text": [
      "From: 32.091728,34.826477 - to: 32.085293,34.810136\n",
      "Start coords: (32.091728, 34.826477)\n",
      "End coords: (32.085293, 34.810136)\n",
      "Time 6.75 minutes, distance 1.71 km.\n"
     ]
    },
    {
     "name": "stdout",
     "output_type": "stream",
     "text": [
      "76\n",
      "405.0\n",
      "776\n"
     ]
    },
    {
     "name": "stderr",
     "output_type": "stream",
     "text": [
      "From: 32.085293,34.810136 - to: 32.083677,34.806421\n",
      "Start coords: (32.085293, 34.810136)\n",
      "End coords: (32.083677, 34.806421)\n",
      "Time 0.75 minutes, distance 0.40 km.\n"
     ]
    },
    {
     "name": "stdout",
     "output_type": "stream",
     "text": [
      "77\n",
      "45.0\n",
      "777\n"
     ]
    },
    {
     "name": "stderr",
     "output_type": "stream",
     "text": [
      "From: 32.083677,34.806421 - to: 32.079838,34.794882\n",
      "Start coords: (32.083677, 34.806421)\n",
      "End coords: (32.079838, 34.794882)\n",
      "Time 4.37 minutes, distance 1.60 km.\n"
     ]
    },
    {
     "name": "stdout",
     "output_type": "stream",
     "text": [
      "78\n",
      "262.0\n",
      "778\n"
     ]
    },
    {
     "name": "stderr",
     "output_type": "stream",
     "text": [
      "From: 32.079838,34.794882 - to: 32.074914,34.790734\n",
      "Start coords: (32.079838, 34.794882)\n",
      "End coords: (32.074914, 34.790734)\n",
      "Time 1.18 minutes, distance 0.69 km.\n"
     ]
    },
    {
     "name": "stdout",
     "output_type": "stream",
     "text": [
      "79\n",
      "71.0\n",
      "779\n"
     ]
    },
    {
     "name": "stderr",
     "output_type": "stream",
     "text": [
      "From: 32.074914,34.790734 - to: 32.06123,34.784594\n",
      "Start coords: (32.074914, 34.790734)\n",
      "End coords: (32.06123, 34.784594)\n",
      "Time 4.25 minutes, distance 2.25 km.\n"
     ]
    },
    {
     "name": "stdout",
     "output_type": "stream",
     "text": [
      "80\n",
      "255.0\n",
      "780\n"
     ]
    },
    {
     "name": "stderr",
     "output_type": "stream",
     "text": [
      "From: 32.06123,34.784594 - to: 32.055636,34.780466\n",
      "Start coords: (32.06123, 34.784594)\n",
      "End coords: (32.055636, 34.780466)\n",
      "Time 2.20 minutes, distance 1.04 km.\n"
     ]
    },
    {
     "name": "stdout",
     "output_type": "stream",
     "text": [
      "81\n",
      "132.0\n",
      "781\n",
      "17:51\n",
      "None\n"
     ]
    }
   ],
   "source": [
    "for k in range(0, 8):\n",
    "  for i in range(0, n):\n",
    "    st = str(Lat[i])+','+str(Lon[i])\n",
    "    st2 = str(Lat[i+1])+','+str(Lon[i+1])\n",
    "    numT = FullWayBus(st, st2)\n",
    "    count = count + ((int(numT)*60)+(numT*60)%60)\n",
    "    print(i)\n",
    "    print((int(numT)*60)+(numT*60)%60)\n",
    "    urlXML(k,i)\n",
    "    time.sleep(((int(numT)*60)+(numT*60)%60))\n",
    "print(ConvertToOrig(count))"
   ]
  },
  {
   "cell_type": "code",
   "execution_count": 10,
   "metadata": {},
   "outputs": [
    {
     "data": {
      "text/plain": [
       "67895"
      ]
     },
     "execution_count": 10,
     "metadata": {},
     "output_type": "execute_result"
    }
   ],
   "source": [
    "1+67894"
   ]
  },
  {
   "cell_type": "code",
   "execution_count": 11,
   "metadata": {},
   "outputs": [
    {
     "data": {
      "text/plain": [
       "2077"
      ]
     },
     "execution_count": 11,
     "metadata": {},
     "output_type": "execute_result"
    }
   ],
   "source": [
    "31*67"
   ]
  },
  {
   "cell_type": "code",
   "execution_count": 12,
   "metadata": {},
   "outputs": [
    {
     "data": {
      "text/plain": [
       "2010"
      ]
     },
     "execution_count": 12,
     "metadata": {},
     "output_type": "execute_result"
    }
   ],
   "source": [
    "30*67"
   ]
  },
  {
   "cell_type": "code",
   "execution_count": 13,
   "metadata": {},
   "outputs": [
    {
     "data": {
      "text/plain": [
       "24"
      ]
     },
     "execution_count": 13,
     "metadata": {},
     "output_type": "execute_result"
    }
   ],
   "source": [
    "31^7"
   ]
  },
  {
   "cell_type": "code",
   "execution_count": null,
   "metadata": {},
   "outputs": [],
   "source": []
  }
 ],
 "metadata": {
  "colab": {
   "name": "BusSimulator.ipynb",
   "provenance": []
  },
  "kernelspec": {
   "display_name": "Python 3",
   "language": "python",
   "name": "python3"
  },
  "language_info": {
   "codemirror_mode": {
    "name": "ipython",
    "version": 3
   },
   "file_extension": ".py",
   "mimetype": "text/x-python",
   "name": "python",
   "nbconvert_exporter": "python",
   "pygments_lexer": "ipython3",
   "version": "3.8.5"
  }
 },
 "nbformat": 4,
 "nbformat_minor": 1
}
