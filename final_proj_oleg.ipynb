{
 "cells": [
  {
   "cell_type": "code",
   "execution_count": 38,
   "metadata": {
    "id": "2r9I_IRt9zUX"
   },
   "outputs": [],
   "source": [
    "from xml.etree.ElementTree import parse\n",
    "import numpy as np\n",
    "from requests.exceptions import ConnectionError\n",
    "import pandas as pd\n"
   ]
  },
  {
   "cell_type": "markdown",
   "metadata": {},
   "source": [
    "# xml data base key : YP1451616\n",
    "## snapshot query url\n",
    "\n",
    "## http://moran.mot.gov.il:110/Channels/HTTPChannel/SmQuery/2.8/json?Key=YP1451616&MonitoringRef=AllActiveTripsFilter&StopVisitDetailLevel=normal \n",
    "# generic url:\n",
    "http://moran.mot.gov.il:110/Channels/HTTPChannel/SmQuery/2.8/xml?Key=YP1451616&MonitoringRef=32902 "
   ]
  },
  {
   "cell_type": "code",
   "execution_count": 39,
   "metadata": {
    "id": "eTOkxxCg91B-"
   },
   "outputs": [],
   "source": [
    "document = parse('transport2.xml')\n"
   ]
  },
  {
   "cell_type": "code",
   "execution_count": 40,
   "metadata": {
    "colab": {
     "base_uri": "https://localhost:8080/"
    },
    "id": "Omq4mKzt98Vh",
    "outputId": "16b254a4-7f8c-4f0a-9b53-979322e11c10"
   },
   "outputs": [
    {
     "name": "stdout",
     "output_type": "stream",
     "text": [
      "<xml.etree.ElementTree.ElementTree object at 0x7f94f7779d50>\n"
     ]
    }
   ],
   "source": [
    "print(document)"
   ]
  },
  {
   "cell_type": "code",
   "execution_count": 41,
   "metadata": {
    "colab": {
     "base_uri": "https://localhost:8080/"
    },
    "id": "FGYj5mZa9_Wb",
    "outputId": "793132f6-aee8-4e81-e1b7-2b97fa1a5d64"
   },
   "outputs": [
    {
     "name": "stdout",
     "output_type": "stream",
     "text": [
      "['__class__', '__delattr__', '__dict__', '__dir__', '__doc__', '__eq__', '__format__', '__ge__', '__getattribute__', '__gt__', '__hash__', '__init__', '__init_subclass__', '__le__', '__lt__', '__module__', '__ne__', '__new__', '__reduce__', '__reduce_ex__', '__repr__', '__setattr__', '__sizeof__', '__str__', '__subclasshook__', '__weakref__', '_root', '_setroot', 'find', 'findall', 'findtext', 'getiterator', 'getroot', 'iter', 'iterfind', 'parse', 'write', 'write_c14n']\n"
     ]
    }
   ],
   "source": [
    "print(dir(document))\n"
   ]
  },
  {
   "cell_type": "code",
   "execution_count": 42,
   "metadata": {
    "colab": {
     "base_uri": "https://localhost:8080/"
    },
    "id": "UV7S5aE_-EQN",
    "outputId": "aefb8995-781b-4222-8b4a-21b6a44adac7"
   },
   "outputs": [],
   "source": [
    "for item in document.iterfind('StopMonitoringDelivery'):\n",
    "    print(item)\n"
   ]
  },
  {
   "cell_type": "code",
   "execution_count": 48,
   "metadata": {
    "colab": {
     "base_uri": "https://localhost:8080/"
    },
    "id": "J93c_U26_Sda",
    "outputId": "c575549f-76aa-42da-ddf4-85efe61fdd4e"
   },
   "outputs": [
    {
     "ename": "IndentationError",
     "evalue": "unexpected indent (<ipython-input-48-991d1f1b9132>, line 22)",
     "output_type": "error",
     "traceback": [
      "\u001b[0;36m  File \u001b[0;32m\"<ipython-input-48-991d1f1b9132>\"\u001b[0;36m, line \u001b[0;32m22\u001b[0m\n\u001b[0;31m    for item2 in item.iterfind('MonitoredStopVisit'):\u001b[0m\n\u001b[0m    ^\u001b[0m\n\u001b[0;31mIndentationError\u001b[0m\u001b[0;31m:\u001b[0m unexpected indent\n"
     ]
    }
   ],
   "source": [
    "\n",
    "#rows and column for MonitoredStopVisit object\n",
    "colsMonitoredStopVisit = ['RecordedAtTime', 'ItemIdentifier', 'MonitoringRef']\n",
    "rowsMonitoredStopVisit = []\n",
    "\n",
    "#rows and column for MonitoredVehicleJourney object\n",
    "colsMonitoredVehicleJourney = ['LineRef', 'DirectionRef', 'PublishedLineName','OperatorRef','DestinationRef','OriginAimedDepartureTime',\n",
    "                               'Bearing','Velocity','VehicleRef']\n",
    "rowsMonitoredVehicleJourney = []\n",
    "\n",
    "#rows and column for VehicleLocation object\n",
    "colsVehicleLocation = ['Longitude', 'Latitude']\n",
    "rowsVehicleLocation = []\n",
    "\n",
    "#rows and column for MonitoredCall object\n",
    "colsMonitoredCall = ['StopPointRef', 'Order','ExpectedArrivalTime','DistanceFromStop']\n",
    "rowsMonitoredCall = []\n",
    "\n",
    "\n",
    "for item in document.iterfind('StopMonitoringDelivery'):\n",
    "    print(item.findtext('ResponseTimestamp'))\n",
    "    print(item.findtext('Status'))\n",
    "     for item2 in item.iterfind('MonitoredStopVisit'):\n",
    "                1   rowsMonitoredStopVisit.append({'RecordedAtTime': item2.findtext('RecordedAtTime'), \n",
    "                  'ItemIdentifier': item2.findtext('ItemIdentifier'),\n",
    "                  'MonitoringRef':item2.findtext('MonitoringRef')})\n",
    "    dfMonitoredStopVisit = pd.DataFrame(rowsMonitoredStopVisit, columns = colsMonitoredStopVisit) \n",
    "\n",
    "    for item3 in item2.iterfind('MonitoredVehicleJourney'):\n",
    "        rowsMonitoredVehicleJourney.append({'LineRef': item3.findtext('LineRef'), \n",
    "                  'DirectionRef': item3.findtext('DirectionRef'),\n",
    "                  'PublishedLineName':item3.findtext('PublishedLineName'),\n",
    "                  'OperatorRef':item3.findtext('OperatorRef'),\n",
    "                  'DestinationRef':item3.findtext('DestinationRef'),\n",
    "                  'OriginAimedDepartureTime':item3.findtext('OriginAimedDepartureTime'),\n",
    "                  'Bearing':item3.findtext('Bearing'),\n",
    "                  'Velocity':item3.findtext('Velocity'),\n",
    "                  'VehicleRef':item3.findtext('VehicleRef')})      \n",
    "        dfMonitoredVehicleJourney = pd.DataFrame(rowsMonitoredVehicleJourney, columns = colsMonitoredVehicleJourney) \n",
    "\n",
    "        for item4 in item3.iterfind('VehicleLocation'):\n",
    "        rowsVehicleLocation.append({'Longitude': item4.findtext('Longitude'), \n",
    "                  'Latitude': item4.findtext('Latitude')})      \n",
    "        dfrowsVehicleLocation = pd.DataFrame(rowsVehicleLocation, columns = colsVehicleLocation)\n",
    "         \n",
    "        for item5 in item3.iterfind('MonitoredCall'):\n",
    "        rowsMonitoredCall.append({'StopPointRef': item5.findtext('StopPointRef'), \n",
    "                  'Order': item5.findtext('Order'),\n",
    "                  'ExpectedArrivalTime':item5.findtext('ExpectedArrivalTime'),\n",
    "                  'DistanceFromStop':item5.findtext('DistanceFromStop')})      \n",
    "        dfMonitoredCall = pd.DataFrame(rowsMonitoredCall, columns = colsMonitoredCall) \n"
   ]
  },
  {
   "cell_type": "code",
   "execution_count": 44,
   "metadata": {
    "colab": {
     "base_uri": "https://localhost:8080/",
     "height": 136
    },
    "id": "n-nmm-RY0C2a",
    "outputId": "f7443996-7fe8-4fb4-98e7-00c98cf8f3f8"
   },
   "outputs": [
    {
     "ename": "NameError",
     "evalue": "name 'dfMonitoredStopVisit' is not defined",
     "output_type": "error",
     "traceback": [
      "\u001b[0;31m---------------------------------------------------------------------------\u001b[0m",
      "\u001b[0;31mNameError\u001b[0m                                 Traceback (most recent call last)",
      "\u001b[0;32m<ipython-input-44-445358730f72>\u001b[0m in \u001b[0;36m<module>\u001b[0;34m\u001b[0m\n\u001b[0;32m----> 1\u001b[0;31m \u001b[0mdfMonitoredStopVisit\u001b[0m\u001b[0;34m\u001b[0m\u001b[0;34m\u001b[0m\u001b[0m\n\u001b[0m",
      "\u001b[0;31mNameError\u001b[0m: name 'dfMonitoredStopVisit' is not defined"
     ]
    }
   ],
   "source": [
    "dfMonitoredStopVisit"
   ]
  },
  {
   "cell_type": "code",
   "execution_count": 14,
   "metadata": {
    "colab": {
     "base_uri": "https://localhost:8080/",
     "height": 136
    },
    "id": "zy8M1lr7nkld",
    "outputId": "c283b3f9-0845-4891-93c5-3841c9bbf297"
   },
   "outputs": [
    {
     "ename": "NameError",
     "evalue": "name 'dfMonitoredVehicleJourney' is not defined",
     "output_type": "error",
     "traceback": [
      "\u001b[0;31m---------------------------------------------------------------------------\u001b[0m",
      "\u001b[0;31mNameError\u001b[0m                                 Traceback (most recent call last)",
      "\u001b[0;32m<ipython-input-14-0525a81aedf4>\u001b[0m in \u001b[0;36m<module>\u001b[0;34m\u001b[0m\n\u001b[0;32m----> 1\u001b[0;31m \u001b[0mdfMonitoredVehicleJourney\u001b[0m\u001b[0;34m\u001b[0m\u001b[0;34m\u001b[0m\u001b[0m\n\u001b[0m",
      "\u001b[0;31mNameError\u001b[0m: name 'dfMonitoredVehicleJourney' is not defined"
     ]
    }
   ],
   "source": [
    "dfMonitoredVehicleJourney"
   ]
  },
  {
   "cell_type": "code",
   "execution_count": 42,
   "metadata": {
    "colab": {
     "base_uri": "https://localhost:8080/",
     "height": 106
    },
    "id": "Tyv_QA8ltE_4",
    "outputId": "bb23a9d5-0acd-44eb-b61e-8c5f7a82e06a"
   },
   "outputs": [
    {
     "data": {
      "text/html": [
       "<div>\n",
       "<style scoped>\n",
       "    .dataframe tbody tr th:only-of-type {\n",
       "        vertical-align: middle;\n",
       "    }\n",
       "\n",
       "    .dataframe tbody tr th {\n",
       "        vertical-align: top;\n",
       "    }\n",
       "\n",
       "    .dataframe thead th {\n",
       "        text-align: right;\n",
       "    }\n",
       "</style>\n",
       "<table border=\"1\" class=\"dataframe\">\n",
       "  <thead>\n",
       "    <tr style=\"text-align: right;\">\n",
       "      <th></th>\n",
       "      <th>Longitude</th>\n",
       "      <th>Latitude</th>\n",
       "    </tr>\n",
       "  </thead>\n",
       "  <tbody>\n",
       "    <tr>\n",
       "      <th>0</th>\n",
       "      <td>34.961254</td>\n",
       "      <td>32.759586</td>\n",
       "    </tr>\n",
       "    <tr>\n",
       "      <th>1</th>\n",
       "      <td>34.958061</td>\n",
       "      <td>32.791748</td>\n",
       "    </tr>\n",
       "  </tbody>\n",
       "</table>\n",
       "</div>"
      ],
      "text/plain": [
       "   Longitude   Latitude\n",
       "0  34.961254  32.759586\n",
       "1  34.958061  32.791748"
      ]
     },
     "execution_count": 42,
     "metadata": {
      "tags": []
     },
     "output_type": "execute_result"
    }
   ],
   "source": [
    "dfrowsVehicleLocation"
   ]
  },
  {
   "cell_type": "code",
   "execution_count": 43,
   "metadata": {
    "colab": {
     "base_uri": "https://localhost:8080/",
     "height": 136
    },
    "id": "Fsyrh75Tv-IC",
    "outputId": "0eace3c2-6aed-4c63-fb1b-e4a7407e548a"
   },
   "outputs": [
    {
     "data": {
      "text/html": [
       "<div>\n",
       "<style scoped>\n",
       "    .dataframe tbody tr th:only-of-type {\n",
       "        vertical-align: middle;\n",
       "    }\n",
       "\n",
       "    .dataframe tbody tr th {\n",
       "        vertical-align: top;\n",
       "    }\n",
       "\n",
       "    .dataframe thead th {\n",
       "        text-align: right;\n",
       "    }\n",
       "</style>\n",
       "<table border=\"1\" class=\"dataframe\">\n",
       "  <thead>\n",
       "    <tr style=\"text-align: right;\">\n",
       "      <th></th>\n",
       "      <th>StopPointRef</th>\n",
       "      <th>Order</th>\n",
       "      <th>ExpectedArrivalTime</th>\n",
       "      <th>DistanceFromStop</th>\n",
       "    </tr>\n",
       "  </thead>\n",
       "  <tbody>\n",
       "    <tr>\n",
       "      <th>0</th>\n",
       "      <td>40847</td>\n",
       "      <td>14</td>\n",
       "      <td>2020-12-14T15:00:00+02:00</td>\n",
       "      <td>4650</td>\n",
       "    </tr>\n",
       "    <tr>\n",
       "      <th>1</th>\n",
       "      <td>40847</td>\n",
       "      <td>16</td>\n",
       "      <td>2020-12-14T15:08:00+02:00</td>\n",
       "      <td>0</td>\n",
       "    </tr>\n",
       "    <tr>\n",
       "      <th>2</th>\n",
       "      <td>40847</td>\n",
       "      <td>14</td>\n",
       "      <td>2020-12-14T15:20:00+02:00</td>\n",
       "      <td>0</td>\n",
       "    </tr>\n",
       "  </tbody>\n",
       "</table>\n",
       "</div>"
      ],
      "text/plain": [
       "  StopPointRef Order        ExpectedArrivalTime DistanceFromStop\n",
       "0        40847    14  2020-12-14T15:00:00+02:00             4650\n",
       "1        40847    16  2020-12-14T15:08:00+02:00                0\n",
       "2        40847    14  2020-12-14T15:20:00+02:00                0"
      ]
     },
     "execution_count": 43,
     "metadata": {
      "tags": []
     },
     "output_type": "execute_result"
    }
   ],
   "source": [
    "dfMonitoredCall"
   ]
  },
  {
   "cell_type": "code",
   "execution_count": 3,
   "metadata": {
    "colab": {
     "base_uri": "https://localhost:8080/"
    },
    "id": "5mIFkFNSKPzQ",
    "outputId": "988e8a0f-d63e-47e9-faf0-38aed83a06ee"
   },
   "outputs": [
    {
     "name": "stdout",
     "output_type": "stream",
     "text": [
      "Requirement already satisfied: requests[security] in /Users/a/opt/anaconda3/lib/python3.7/site-packages (2.22.0)\n",
      "Requirement already satisfied: idna<2.9,>=2.5 in /Users/a/opt/anaconda3/lib/python3.7/site-packages (from requests[security]) (2.8)\n",
      "Requirement already satisfied: chardet<3.1.0,>=3.0.2 in /Users/a/opt/anaconda3/lib/python3.7/site-packages (from requests[security]) (3.0.4)\n",
      "Requirement already satisfied: urllib3!=1.25.0,!=1.25.1,<1.26,>=1.21.1 in /Users/a/opt/anaconda3/lib/python3.7/site-packages (from requests[security]) (1.24.2)\n",
      "Requirement already satisfied: certifi>=2017.4.17 in /Users/a/opt/anaconda3/lib/python3.7/site-packages (from requests[security]) (2019.9.11)\n",
      "Requirement already satisfied: cryptography>=1.3.4; extra == \"security\" in /Users/a/opt/anaconda3/lib/python3.7/site-packages (from requests[security]) (2.7)\n",
      "Requirement already satisfied: pyOpenSSL>=0.14; extra == \"security\" in /Users/a/opt/anaconda3/lib/python3.7/site-packages (from requests[security]) (19.0.0)\n",
      "Requirement already satisfied: asn1crypto>=0.21.0 in /Users/a/opt/anaconda3/lib/python3.7/site-packages (from cryptography>=1.3.4; extra == \"security\"->requests[security]) (1.0.1)\n",
      "Requirement already satisfied: cffi!=1.11.3,>=1.8 in /Users/a/opt/anaconda3/lib/python3.7/site-packages (from cryptography>=1.3.4; extra == \"security\"->requests[security]) (1.12.3)\n",
      "Requirement already satisfied: six>=1.4.1 in /Users/a/opt/anaconda3/lib/python3.7/site-packages (from cryptography>=1.3.4; extra == \"security\"->requests[security]) (1.15.0)\n",
      "Requirement already satisfied: pycparser in /Users/a/opt/anaconda3/lib/python3.7/site-packages (from cffi!=1.11.3,>=1.8->cryptography>=1.3.4; extra == \"security\"->requests[security]) (2.19)\n",
      "Note: you may need to restart the kernel to use updated packages.\n"
     ]
    }
   ],
   "source": [
    "pip install \"requests[security]\""
   ]
  },
  {
   "cell_type": "code",
   "execution_count": 19,
   "metadata": {},
   "outputs": [],
   "source": [
    "import csv \n",
    "import time as t\n",
    "import requests \n",
    "import xml.etree.ElementTree as ET "
   ]
  },
  {
   "cell_type": "code",
   "execution_count": 36,
   "metadata": {
    "colab": {
     "base_uri": "https://localhost:8080/",
     "height": 421
    },
    "id": "4aBqF262AMUB",
    "outputId": "f38b7587-79db-4c97-9b9a-70bc7684e7e2"
   },
   "outputs": [
    {
     "name": "stdout",
     "output_type": "stream",
     "text": [
      "1\n",
      "2\n",
      "3\n",
      "4\n",
      "5\n",
      "6\n",
      "7\n",
      "8\n",
      "9\n",
      "10\n",
      "11\n",
      "12\n",
      "13\n",
      "14\n",
      "15\n",
      "16\n",
      "17\n",
      "18\n",
      "19\n",
      "20\n",
      "21\n",
      "22\n",
      "23\n",
      "24\n",
      "25\n",
      "26\n",
      "27\n",
      "28\n",
      "29\n",
      "30\n",
      "31\n",
      "32\n",
      "33\n",
      "34\n",
      "35\n",
      "36\n",
      "37\n",
      "38\n",
      "39\n",
      "40\n",
      "41\n",
      "42\n",
      "43\n",
      "44\n",
      "45\n",
      "46\n",
      "47\n",
      "48\n",
      "49\n",
      "50\n",
      "51\n",
      "52\n",
      "53\n",
      "54\n",
      "55\n",
      "56\n",
      "57\n",
      "58\n",
      "59\n",
      "60\n",
      "61\n",
      "62\n",
      "63\n",
      "64\n",
      "65\n",
      "66\n",
      "67\n",
      "68\n",
      "69\n",
      "70\n",
      "71\n",
      "72\n",
      "73\n",
      "74\n",
      "75\n",
      "76\n",
      "77\n",
      "78\n",
      "79\n",
      "80\n",
      "81\n",
      "82\n",
      "83\n",
      "84\n",
      "85\n",
      "86\n",
      "87\n",
      "88\n",
      "89\n",
      "90\n",
      "91\n",
      "92\n",
      "93\n",
      "94\n",
      "95\n",
      "96\n",
      "97\n",
      "98\n",
      "99\n",
      "100\n"
     ]
    },
    {
     "ename": "KeyboardInterrupt",
     "evalue": "",
     "output_type": "error",
     "traceback": [
      "\u001b[0;31m---------------------------------------------------------------------------\u001b[0m",
      "\u001b[0;31mKeyboardInterrupt\u001b[0m                         Traceback (most recent call last)",
      "\u001b[0;32m<ipython-input-36-8a557a395b71>\u001b[0m in \u001b[0;36m<module>\u001b[0;34m\u001b[0m\n\u001b[1;32m      3\u001b[0m \u001b[0;32mwhile\u001b[0m \u001b[0;32mTrue\u001b[0m\u001b[0;34m:\u001b[0m\u001b[0;34m\u001b[0m\u001b[0;34m\u001b[0m\u001b[0m\n\u001b[1;32m      4\u001b[0m \u001b[0;34m\u001b[0m\u001b[0m\n\u001b[0;32m----> 5\u001b[0;31m     \u001b[0mt\u001b[0m\u001b[0;34m.\u001b[0m\u001b[0msleep\u001b[0m\u001b[0;34m(\u001b[0m\u001b[0;36m300\u001b[0m\u001b[0;34m)\u001b[0m\u001b[0;34m\u001b[0m\u001b[0;34m\u001b[0m\u001b[0m\n\u001b[0m\u001b[1;32m      6\u001b[0m     \u001b[0mxml\u001b[0m \u001b[0;34m=\u001b[0m \u001b[0;34m'http://moran.mot.gov.il:110/Channels/HTTPChannel/SmQuery/2.8/xml?Key=YP1451616&MonitoringRef=42658,42362,40964,40958,40897,40852,42286,40851,41457,41621,41643,40850,42963,40847,40845,40839,41454,40836,40834,40832,40833,40841,46176,46177,47041,46179,46180,40253,40240,40243,41705,40757,40161,40097,40059,40060,41711,40082,42133,40772,40110,47962,40079,48138,30352,30358,32784,30404,32781,30379,30401,30386,30361,30341,39374,39337,30302,36476,34238,34237,33810,34236,37865,37861,37206,32734,37209,37254,39684,38303,32409,39628,34063,32259,37655,27059,20176,21654,23034,21705,21472,28660,23013&PublishedLineName=921'\u001b[0m\u001b[0;31m# creating HTTP response object from given url\u001b[0m\u001b[0;34m\u001b[0m\u001b[0;34m\u001b[0m\u001b[0m\n\u001b[1;32m      7\u001b[0m \u001b[0;34m\u001b[0m\u001b[0m\n",
      "\u001b[0;31mKeyboardInterrupt\u001b[0m: "
     ]
    }
   ],
   "source": [
    "# url of rss feed \n",
    "def urlXML(k,i):\n",
    "  xml = 'http://moran.mot.gov.il:110/Channels/HTTPChannel/SmQuery/2.8/xml?Key=YP1451616&MonitoringRef=42658,42362,40964,40958,40897,40852,42286,40851,41457,41621,41643,40850,42963,40847,40845,40839,41454,40836,40834,40832,40833,40841,46176,46177,47041,46179,46180,40253,40240,40243,41705,40757,40161,40097,40059,40060,41711,40082,42133,40772,40110,47962,40079,48138,30352,30358,32784,30404,32781,30379,30401,30386,30361,30341,39374,39337,30302,36476,34238,34237,33810,34236,37865,37861,37206,32734,37209,37254,39684,38303,32409,39628,34063,32259,37655,27059,20176,21654,23034,21705,21472,28660,23013&PublishedLineName=921'# creating HTTP response object from given url \n",
    "  resp = requests.get(xml)\n",
    " # saving the xml file \n",
    "  with open('transport'+str(ki)+'.xml', 'wb') as f: \n",
    "      print(ki)\n",
    "      f.write(resp.content)"
   ]
  },
  {
   "cell_type": "code",
   "execution_count": null,
   "metadata": {},
   "outputs": [],
   "source": [
    "for k in range(0, 8):\n",
    "  for i in range(0, n):\n",
    "    st = str(Lat[i])+','+str(Lon[i])\n",
    "    st2 = str(Lat[i+1])+','+str(Lon[i+1])\n",
    "    numT = FullWayBus(st, st2)\n",
    "    count = count + ((int(numT)*60)+(numT*60)%60)\n",
    "    print(i)\n",
    "    print((int(numT)*60)+(numT*60)%60)\n",
    "    urlXML(k,i)\n",
    "    time.sleep(count)\n",
    "print(ConvertToOrig(count))"
   ]
  },
  {
   "cell_type": "code",
   "execution_count": 1,
   "metadata": {},
   "outputs": [
    {
     "ename": "NameError",
     "evalue": "name 'dfMonitoredCall' is not defined",
     "output_type": "error",
     "traceback": [
      "\u001b[0;31m---------------------------------------------------------------------------\u001b[0m",
      "\u001b[0;31mNameError\u001b[0m                                 Traceback (most recent call last)",
      "\u001b[0;32m<ipython-input-1-85ee9ff5eee6>\u001b[0m in \u001b[0;36m<module>\u001b[0;34m\u001b[0m\n\u001b[0;32m----> 1\u001b[0;31m \u001b[0mdfMonitoredCall\u001b[0m\u001b[0;34m\u001b[0m\u001b[0;34m\u001b[0m\u001b[0m\n\u001b[0m",
      "\u001b[0;31mNameError\u001b[0m: name 'dfMonitoredCall' is not defined"
     ]
    }
   ],
   "source": [
    "dfMonitoredCall"
   ]
  },
  {
   "cell_type": "code",
   "execution_count": null,
   "metadata": {},
   "outputs": [],
   "source": []
  }
 ],
 "metadata": {
  "colab": {
   "collapsed_sections": [],
   "name": "FinalProject.ipynb",
   "provenance": []
  },
  "kernelspec": {
   "display_name": "Python 3",
   "language": "python",
   "name": "python3"
  },
  "language_info": {
   "codemirror_mode": {
    "name": "ipython",
    "version": 3
   },
   "file_extension": ".py",
   "mimetype": "text/x-python",
   "name": "python",
   "nbconvert_exporter": "python",
   "pygments_lexer": "ipython3",
   "version": "3.8.5"
  }
 },
 "nbformat": 4,
 "nbformat_minor": 1
}
