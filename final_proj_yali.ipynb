{
 "cells": [
  {
   "cell_type": "code",
   "execution_count": 25,
   "metadata": {
    "colab": {
     "base_uri": "https://localhost:8080/"
    },
    "id": "SYJUyaVOifLB",
    "outputId": "d81db854-9fe2-485e-e484-8de2a8debea2",
    "scrolled": false
   },
   "outputs": [
    {
     "name": "stdout",
     "output_type": "stream",
     "text": [
      "Requirement already satisfied: requests in /Users/a/opt/anaconda3/lib/python3.7/site-packages (2.22.0)\n",
      "Requirement already satisfied: urllib3!=1.25.0,!=1.25.1,<1.26,>=1.21.1 in /Users/a/opt/anaconda3/lib/python3.7/site-packages (from requests) (1.24.2)\n",
      "Requirement already satisfied: certifi>=2017.4.17 in /Users/a/opt/anaconda3/lib/python3.7/site-packages (from requests) (2019.9.11)\n",
      "Requirement already satisfied: chardet<3.1.0,>=3.0.2 in /Users/a/opt/anaconda3/lib/python3.7/site-packages (from requests) (3.0.4)\n",
      "Requirement already satisfied: idna<2.9,>=2.5 in /Users/a/opt/anaconda3/lib/python3.7/site-packages (from requests) (2.8)\n",
      "Note: you may need to restart the kernel to use updated packages.\n"
     ]
    }
   ],
   "source": [
    "pip install requests"
   ]
  },
  {
   "cell_type": "code",
   "execution_count": 26,
   "metadata": {
    "colab": {
     "base_uri": "https://localhost:8080/"
    },
    "id": "aAe32384s_42",
    "outputId": "e23adea7-2f3e-4c07-8b38-6619bc71801a",
    "scrolled": true
   },
   "outputs": [
    {
     "name": "stdout",
     "output_type": "stream",
     "text": [
      "Requirement already satisfied: requests[security] in /Users/a/opt/anaconda3/lib/python3.7/site-packages (2.22.0)\n",
      "Requirement already satisfied: chardet<3.1.0,>=3.0.2 in /Users/a/opt/anaconda3/lib/python3.7/site-packages (from requests[security]) (3.0.4)\n",
      "Requirement already satisfied: certifi>=2017.4.17 in /Users/a/opt/anaconda3/lib/python3.7/site-packages (from requests[security]) (2019.9.11)\n",
      "Requirement already satisfied: urllib3!=1.25.0,!=1.25.1,<1.26,>=1.21.1 in /Users/a/opt/anaconda3/lib/python3.7/site-packages (from requests[security]) (1.24.2)\n",
      "Requirement already satisfied: idna<2.9,>=2.5 in /Users/a/opt/anaconda3/lib/python3.7/site-packages (from requests[security]) (2.8)\n",
      "Requirement already satisfied: pyOpenSSL>=0.14; extra == \"security\" in /Users/a/opt/anaconda3/lib/python3.7/site-packages (from requests[security]) (19.0.0)\n",
      "Requirement already satisfied: cryptography>=1.3.4; extra == \"security\" in /Users/a/opt/anaconda3/lib/python3.7/site-packages (from requests[security]) (2.7)\n",
      "Requirement already satisfied: six>=1.5.2 in /Users/a/opt/anaconda3/lib/python3.7/site-packages (from pyOpenSSL>=0.14; extra == \"security\"->requests[security]) (1.12.0)\n",
      "Requirement already satisfied: asn1crypto>=0.21.0 in /Users/a/opt/anaconda3/lib/python3.7/site-packages (from cryptography>=1.3.4; extra == \"security\"->requests[security]) (1.0.1)\n",
      "Requirement already satisfied: cffi!=1.11.3,>=1.8 in /Users/a/opt/anaconda3/lib/python3.7/site-packages (from cryptography>=1.3.4; extra == \"security\"->requests[security]) (1.12.3)\n",
      "Requirement already satisfied: pycparser in /Users/a/opt/anaconda3/lib/python3.7/site-packages (from cffi!=1.11.3,>=1.8->cryptography>=1.3.4; extra == \"security\"->requests[security]) (2.19)\n",
      "Note: you may need to restart the kernel to use updated packages.\n"
     ]
    }
   ],
   "source": [
    "pip install \"requests[security]\"\n"
   ]
  },
  {
   "cell_type": "code",
   "execution_count": 1,
   "metadata": {
    "id": "d8JuoCP6Esjw"
   },
   "outputs": [],
   "source": [
    "from requests.exceptions import ConnectionError\n",
    "from xml.etree.ElementTree import parse\n",
    "import pandas as pd\n"
   ]
  },
  {
   "cell_type": "code",
   "execution_count": 2,
   "metadata": {
    "colab": {
     "base_uri": "https://localhost:8080/",
     "height": 570
    },
    "id": "OaLTqYKKUNlK",
    "outputId": "ada88313-67aa-4ad8-d7b2-f4bbd288f1d6"
   },
   "outputs": [
    {
     "ename": "KeyboardInterrupt",
     "evalue": "",
     "output_type": "error",
     "traceback": [
      "\u001b[0;31m---------------------------------------------------------------------------\u001b[0m",
      "\u001b[0;31mKeyboardInterrupt\u001b[0m                         Traceback (most recent call last)",
      "\u001b[0;32m<ipython-input-2-c86119852c49>\u001b[0m in \u001b[0;36m<module>\u001b[0;34m\u001b[0m\n\u001b[1;32m      7\u001b[0m \u001b[0;32mwhile\u001b[0m \u001b[0;32mTrue\u001b[0m\u001b[0;34m:\u001b[0m\u001b[0;34m\u001b[0m\u001b[0;34m\u001b[0m\u001b[0m\n\u001b[1;32m      8\u001b[0m \u001b[0;34m\u001b[0m\u001b[0m\n\u001b[0;32m----> 9\u001b[0;31m     \u001b[0mt\u001b[0m\u001b[0;34m.\u001b[0m\u001b[0msleep\u001b[0m\u001b[0;34m(\u001b[0m\u001b[0;36m10\u001b[0m\u001b[0;34m)\u001b[0m\u001b[0;34m\u001b[0m\u001b[0;34m\u001b[0m\u001b[0m\n\u001b[0m\u001b[1;32m     10\u001b[0m     \u001b[0mxml\u001b[0m \u001b[0;34m=\u001b[0m \u001b[0;34m'http://moran.mot.gov.il:110/Channels/HTTPChannel/SmQuery/2.8/xml?Key=YP1451616&MonitoringRef=40851&PublishedLineName=921'\u001b[0m\u001b[0;31m# creating HTTP response object from given url\u001b[0m\u001b[0;34m\u001b[0m\u001b[0;34m\u001b[0m\u001b[0m\n\u001b[1;32m     11\u001b[0m \u001b[0;34m\u001b[0m\u001b[0m\n",
      "\u001b[0;31mKeyboardInterrupt\u001b[0m: "
     ]
    }
   ],
   "source": [
    "import csv \n",
    "import requests \n",
    "import xml.etree.ElementTree as ET \n",
    "import time as t\n",
    "# url of rss feed \n",
    "count=1\n",
    "while True:\n",
    "    \n",
    "    t.sleep(10)\n",
    "    xml = 'http://moran.mot.gov.il:110/Channels/HTTPChannel/SmQuery/2.8/xml?Key=YP1451616&MonitoringRef=40851&PublishedLineName=921'# creating HTTP response object from given url \n",
    "\n",
    "    resp = requests.get(xml)\n",
    "\n",
    "   # saving the xml file \n",
    "\n",
    "    with open('transport'+str(count)+'.xml', 'wb') as f: \n",
    "        print(count)\n",
    "        count=count+1;\n",
    "        f.write(resp.content)\n",
    "        "
   ]
  },
  {
   "cell_type": "code",
   "execution_count": 3,
   "metadata": {},
   "outputs": [],
   "source": [
    "document = parse('transport1.xml')\n"
   ]
  },
  {
   "cell_type": "code",
   "execution_count": 4,
   "metadata": {},
   "outputs": [
    {
     "name": "stdout",
     "output_type": "stream",
     "text": [
      "<xml.etree.ElementTree.ElementTree object at 0x7fcc87ee61d0>\n"
     ]
    }
   ],
   "source": [
    "print(document)"
   ]
  },
  {
   "cell_type": "code",
   "execution_count": 5,
   "metadata": {},
   "outputs": [],
   "source": [
    "for item in document.iterfind('ServiceDelivery'):\n",
    "    print(item)\n"
   ]
  },
  {
   "cell_type": "code",
   "execution_count": 8,
   "metadata": {},
   "outputs": [],
   "source": [
    "#rows and column for MonitoredStopVisit object\n",
    "colsMonitoredStopVisit = ['RecordedAtTime', 'ItemIdentifier', 'MonitoringRef']\n",
    "rowsMonitoredStopVisit = []\n",
    "\n",
    "#rows and column for MonitoredVehicleJourney object\n",
    "colsMonitoredVehicleJourney = ['LineRef', 'DirectionRef', 'PublishedLineName','OperatorRef','DestinationRef','OriginAimedDepartureTime',\n",
    "                               'Bearing','Velocity','VehicleRef']\n",
    "rowsMonitoredVehicleJourney = []\n",
    "\n",
    "#rows and column for VehicleLocation object\n",
    "colsVehicleLocation = ['Longitude', 'Latitude']\n",
    "rowsVehicleLocation = []\n",
    "\n",
    "#rows and column for MonitoredCall object\n",
    "colsMonitoredCall = ['StopPointRef', 'Order','ExpectedArrivalTime','DistanceFromStop']\n",
    "rowsMonitoredCall = []\n",
    "\n",
    "\n",
    "for item in document.iterfind('StopMonitoringDelivery'):\n",
    "  print(item.findtext('ResponseTimestamp'))\n",
    "  print(item.findtext('Status'))\n",
    "  for item2 in item.iterfind('MonitoredStopVisit'):\n",
    "    rowsMonitoredStopVisit.append({'RecordedAtTime': item2.findtext('RecordedAtTime'), \n",
    "                  'ItemIdentifier': item2.findtext('ItemIdentifier'),\n",
    "                  'MonitoringRef':item2.findtext('MonitoringRef')})\n",
    "    dfMonitoredStopVisit = pd.DataFrame(rowsMonitoredStopVisit, columns = colsMonitoredStopVisit) \n",
    "\n",
    "    for item3 in item2.iterfind('MonitoredVehicleJourney'):\n",
    "      rowsMonitoredVehicleJourney.append({'LineRef': item3.findtext('LineRef'), \n",
    "                  'DirectionRef': item3.findtext('DirectionRef'),\n",
    "                  'PublishedLineName':item3.findtext('PublishedLineName'),\n",
    "                  'OperatorRef':item3.findtext('OperatorRef'),\n",
    "                  'DestinationRef':item3.findtext('DestinationRef'),\n",
    "                  'OriginAimedDepartureTime':item3.findtext('OriginAimedDepartureTime'),\n",
    "                  'Bearing':item3.findtext('Bearing'),\n",
    "                  'Velocity':item3.findtext('Velocity'),\n",
    "                  'VehicleRef':item3.findtext('VehicleRef')})      \n",
    "      dfMonitoredVehicleJourney = pd.DataFrame(rowsMonitoredVehicleJourney, columns = colsMonitoredVehicleJourney) \n",
    "\n",
    "      for item4 in item3.iterfind('VehicleLocation'):\n",
    "        rowsVehicleLocation.append({'Longitude': item4.findtext('Longitude'), \n",
    "                  'Latitude': item4.findtext('Latitude')})      \n",
    "        dfrowsVehicleLocation = pd.DataFrame(rowsVehicleLocation, columns = colsVehicleLocation)\n",
    "         \n",
    "      for item5 in item3.iterfind('MonitoredCall'):\n",
    "        rowsMonitoredCall.append({'StopPointRef': item5.findtext('StopPointRef'), \n",
    "                  'Order': item5.findtext('Order'),\n",
    "                  'ExpectedArrivalTime':item5.findtext('ExpectedArrivalTime'),\n",
    "                  'DistanceFromStop':item5.findtext('DistanceFromStop')})      \n",
    "        dfMonitoredCall = pd.DataFrame(rowsMonitoredCall, columns = colsMonitoredCall) \n"
   ]
  },
  {
   "cell_type": "code",
   "execution_count": 24,
   "metadata": {},
   "outputs": [
    {
     "ename": "NameError",
     "evalue": "name 'dfMonitoredStopVisit' is not defined",
     "output_type": "error",
     "traceback": [
      "\u001b[0;31m---------------------------------------------------------------------------\u001b[0m",
      "\u001b[0;31mNameError\u001b[0m                                 Traceback (most recent call last)",
      "\u001b[0;32m<ipython-input-24-445358730f72>\u001b[0m in \u001b[0;36m<module>\u001b[0;34m\u001b[0m\n\u001b[0;32m----> 1\u001b[0;31m \u001b[0mdfMonitoredStopVisit\u001b[0m\u001b[0;34m\u001b[0m\u001b[0;34m\u001b[0m\u001b[0m\n\u001b[0m",
      "\u001b[0;31mNameError\u001b[0m: name 'dfMonitoredStopVisit' is not defined"
     ]
    }
   ],
   "source": [
    "dfMonitoredStopVisit"
   ]
  },
  {
   "cell_type": "code",
   "execution_count": null,
   "metadata": {},
   "outputs": [],
   "source": []
  }
 ],
 "metadata": {
  "colab": {
   "collapsed_sections": [],
   "name": "final_proj_oleg.ipynb",
   "provenance": []
  },
  "kernelspec": {
   "display_name": "Python 3",
   "language": "python",
   "name": "python3"
  },
  "language_info": {
   "codemirror_mode": {
    "name": "ipython",
    "version": 3
   },
   "file_extension": ".py",
   "mimetype": "text/x-python",
   "name": "python",
   "nbconvert_exporter": "python",
   "pygments_lexer": "ipython3",
   "version": "3.7.4"
  }
 },
 "nbformat": 4,
 "nbformat_minor": 1
}
